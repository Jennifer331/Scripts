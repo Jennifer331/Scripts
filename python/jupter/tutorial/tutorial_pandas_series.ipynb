{
 "cells": [
  {
   "cell_type": "code",
   "execution_count": 1,
   "metadata": {},
   "outputs": [],
   "source": [
    "import pandas as pd\n",
    "import numpy as np"
   ]
  },
  {
   "cell_type": "code",
   "execution_count": 2,
   "metadata": {},
   "outputs": [],
   "source": [
    "s1 = pd.Series([35.467, 63.951, 80.940, 124.093, 318.523])"
   ]
  },
  {
   "cell_type": "code",
   "execution_count": 3,
   "metadata": {},
   "outputs": [
    {
     "data": {
      "text/plain": [
       "0     35.467\n",
       "1     63.951\n",
       "2     80.940\n",
       "3    124.093\n",
       "4    318.523\n",
       "dtype: float64"
      ]
     },
     "execution_count": 3,
     "metadata": {},
     "output_type": "execute_result"
    }
   ],
   "source": [
    "s1"
   ]
  },
  {
   "cell_type": "code",
   "execution_count": 4,
   "metadata": {},
   "outputs": [],
   "source": [
    "s1.name = 'G7 Population in millions'"
   ]
  },
  {
   "cell_type": "code",
   "execution_count": 5,
   "metadata": {},
   "outputs": [
    {
     "data": {
      "text/plain": [
       "dtype('float64')"
      ]
     },
     "execution_count": 5,
     "metadata": {},
     "output_type": "execute_result"
    }
   ],
   "source": [
    "s1.dtype"
   ]
  },
  {
   "cell_type": "code",
   "execution_count": 7,
   "metadata": {},
   "outputs": [
    {
     "data": {
      "text/plain": [
       "array([ 35.467,  63.951,  80.94 , 124.093, 318.523])"
      ]
     },
     "execution_count": 7,
     "metadata": {},
     "output_type": "execute_result"
    }
   ],
   "source": [
    "s1.values"
   ]
  },
  {
   "cell_type": "code",
   "execution_count": 9,
   "metadata": {},
   "outputs": [
    {
     "data": {
      "text/plain": [
       "80.94"
      ]
     },
     "execution_count": 9,
     "metadata": {},
     "output_type": "execute_result"
    }
   ],
   "source": [
    "s1[2]"
   ]
  },
  {
   "cell_type": "code",
   "execution_count": 11,
   "metadata": {},
   "outputs": [],
   "source": [
    "s1.index = ['Canada', 'China', 'Japan', 'US', 'UK']"
   ]
  },
  {
   "cell_type": "code",
   "execution_count": 12,
   "metadata": {},
   "outputs": [
    {
     "data": {
      "text/plain": [
       "Canada     35.467\n",
       "China      63.951\n",
       "Japan      80.940\n",
       "US        124.093\n",
       "UK        318.523\n",
       "Name: G7 Population in millions, dtype: float64"
      ]
     },
     "execution_count": 12,
     "metadata": {},
     "output_type": "execute_result"
    }
   ],
   "source": [
    "s1"
   ]
  },
  {
   "cell_type": "markdown",
   "metadata": {},
   "source": [
    "__like an ordered dictionary__"
   ]
  },
  {
   "cell_type": "code",
   "execution_count": 13,
   "metadata": {},
   "outputs": [
    {
     "data": {
      "text/plain": [
       "80.94"
      ]
     },
     "execution_count": 13,
     "metadata": {},
     "output_type": "execute_result"
    }
   ],
   "source": [
    "s1['Japan']"
   ]
  },
  {
   "cell_type": "code",
   "execution_count": 14,
   "metadata": {},
   "outputs": [
    {
     "data": {
      "text/plain": [
       "80.94"
      ]
     },
     "execution_count": 14,
     "metadata": {},
     "output_type": "execute_result"
    }
   ],
   "source": [
    "s1[2]"
   ]
  },
  {
   "cell_type": "code",
   "execution_count": 16,
   "metadata": {},
   "outputs": [
    {
     "data": {
      "text/plain": [
       "80.94"
      ]
     },
     "execution_count": 16,
     "metadata": {},
     "output_type": "execute_result"
    }
   ],
   "source": [
    "s1.iloc[2]"
   ]
  },
  {
   "cell_type": "markdown",
   "metadata": {},
   "source": [
    "### Multi-indexing"
   ]
  },
  {
   "cell_type": "code",
   "execution_count": 18,
   "metadata": {},
   "outputs": [
    {
     "data": {
      "text/plain": [
       "China     63.951\n",
       "UK       318.523\n",
       "Name: G7 Population in millions, dtype: float64"
      ]
     },
     "execution_count": 18,
     "metadata": {},
     "output_type": "execute_result"
    }
   ],
   "source": [
    "s1[['China', 'UK']]"
   ]
  },
  {
   "cell_type": "code",
   "execution_count": 19,
   "metadata": {},
   "outputs": [
    {
     "data": {
      "text/plain": [
       "Canada    35.467\n",
       "China     63.951\n",
       "Name: G7 Population in millions, dtype: float64"
      ]
     },
     "execution_count": 19,
     "metadata": {},
     "output_type": "execute_result"
    }
   ],
   "source": [
    "s1.iloc[[0, 1]]"
   ]
  },
  {
   "cell_type": "code",
   "execution_count": 20,
   "metadata": {},
   "outputs": [],
   "source": [
    "l = [2, 5, 6]"
   ]
  },
  {
   "cell_type": "code",
   "execution_count": 21,
   "metadata": {},
   "outputs": [
    {
     "data": {
      "text/plain": [
       "[2, 5]"
      ]
     },
     "execution_count": 21,
     "metadata": {},
     "output_type": "execute_result"
    }
   ],
   "source": [
    "l[:2]"
   ]
  },
  {
   "cell_type": "code",
   "execution_count": 22,
   "metadata": {},
   "outputs": [
    {
     "data": {
      "text/plain": [
       "China     63.951\n",
       "Japan     80.940\n",
       "US       124.093\n",
       "UK       318.523\n",
       "Name: G7 Population in millions, dtype: float64"
      ]
     },
     "execution_count": 22,
     "metadata": {},
     "output_type": "execute_result"
    }
   ],
   "source": [
    "s1['China':'UK']"
   ]
  },
  {
   "cell_type": "code",
   "execution_count": 23,
   "metadata": {},
   "outputs": [
    {
     "data": {
      "text/plain": [
       "Canada     35.467\n",
       "China      63.951\n",
       "Japan      80.940\n",
       "US        124.093\n",
       "UK        318.523\n",
       "Name: G7 Population in millions, dtype: float64"
      ]
     },
     "execution_count": 23,
     "metadata": {},
     "output_type": "execute_result"
    }
   ],
   "source": [
    "s1"
   ]
  },
  {
   "cell_type": "code",
   "execution_count": 24,
   "metadata": {},
   "outputs": [
    {
     "data": {
      "text/plain": [
       "Canada     35467000.0\n",
       "China      63951000.0\n",
       "Japan      80940000.0\n",
       "US        124093000.0\n",
       "UK        318523000.0\n",
       "Name: G7 Population in millions, dtype: float64"
      ]
     },
     "execution_count": 24,
     "metadata": {},
     "output_type": "execute_result"
    }
   ],
   "source": [
    "s1 * 1_000_000"
   ]
  },
  {
   "cell_type": "code",
   "execution_count": 25,
   "metadata": {},
   "outputs": [
    {
     "data": {
      "text/plain": [
       "Canada    False\n",
       "China     False\n",
       "Japan      True\n",
       "US         True\n",
       "UK         True\n",
       "Name: G7 Population in millions, dtype: bool"
      ]
     },
     "execution_count": 25,
     "metadata": {},
     "output_type": "execute_result"
    }
   ],
   "source": [
    "s1 > 70"
   ]
  },
  {
   "cell_type": "code",
   "execution_count": 26,
   "metadata": {},
   "outputs": [
    {
     "data": {
      "text/plain": [
       "Japan     80.940\n",
       "US       124.093\n",
       "UK       318.523\n",
       "Name: G7 Population in millions, dtype: float64"
      ]
     },
     "execution_count": 26,
     "metadata": {},
     "output_type": "execute_result"
    }
   ],
   "source": [
    "s1[s1 > 70]"
   ]
  },
  {
   "cell_type": "code",
   "execution_count": 28,
   "metadata": {},
   "outputs": [
    {
     "data": {
      "text/plain": [
       "UK    318.523\n",
       "Name: G7 Population in millions, dtype: float64"
      ]
     },
     "execution_count": 28,
     "metadata": {},
     "output_type": "execute_result"
    }
   ],
   "source": [
    "s1[s1 > s1.mean()]"
   ]
  },
  {
   "cell_type": "code",
   "execution_count": 29,
   "metadata": {},
   "outputs": [
    {
     "data": {
      "text/plain": [
       "113.06588271092212"
      ]
     },
     "execution_count": 29,
     "metadata": {},
     "output_type": "execute_result"
    }
   ],
   "source": [
    "s1.std()"
   ]
  },
  {
   "cell_type": "code",
   "execution_count": 38,
   "metadata": {},
   "outputs": [
    {
     "data": {
      "text/plain": [
       "Japan     80.940\n",
       "US       124.093\n",
       "Name: G7 Population in millions, dtype: float64"
      ]
     },
     "execution_count": 38,
     "metadata": {},
     "output_type": "execute_result"
    }
   ],
   "source": [
    "s1[(s1 > s1.mean() - s1.std() /2) & (s1 < s1.mean() + s1.std() / 2)]"
   ]
  },
  {
   "cell_type": "code",
   "execution_count": 34,
   "metadata": {},
   "outputs": [
    {
     "data": {
      "text/plain": [
       "Canada     35.467\n",
       "China      63.951\n",
       "Japan      80.940\n",
       "US        124.093\n",
       "UK        318.523\n",
       "Name: G7 Population in millions, dtype: float64"
      ]
     },
     "execution_count": 34,
     "metadata": {},
     "output_type": "execute_result"
    }
   ],
   "source": [
    "s1"
   ]
  },
  {
   "cell_type": "code",
   "execution_count": 36,
   "metadata": {},
   "outputs": [
    {
     "data": {
      "text/plain": [
       "124.5948"
      ]
     },
     "execution_count": 36,
     "metadata": {},
     "output_type": "execute_result"
    }
   ],
   "source": [
    "s1.mean()"
   ]
  },
  {
   "cell_type": "code",
   "execution_count": 39,
   "metadata": {},
   "outputs": [
    {
     "data": {
      "text/plain": [
       "Canada    3.568603\n",
       "China     4.158117\n",
       "Japan     4.393708\n",
       "US        4.821031\n",
       "UK        5.763695\n",
       "Name: G7 Population in millions, dtype: float64"
      ]
     },
     "execution_count": 39,
     "metadata": {},
     "output_type": "execute_result"
    }
   ],
   "source": [
    "np.log(s1)"
   ]
  },
  {
   "cell_type": "code",
   "execution_count": 40,
   "metadata": {},
   "outputs": [],
   "source": [
    "s1['Japan'] = 100"
   ]
  },
  {
   "cell_type": "code",
   "execution_count": 41,
   "metadata": {},
   "outputs": [
    {
     "data": {
      "text/plain": [
       "Canada     35.467\n",
       "China      63.951\n",
       "Japan     100.000\n",
       "US        124.093\n",
       "UK        318.523\n",
       "Name: G7 Population in millions, dtype: float64"
      ]
     },
     "execution_count": 41,
     "metadata": {},
     "output_type": "execute_result"
    }
   ],
   "source": [
    "s1"
   ]
  },
  {
   "cell_type": "code",
   "execution_count": 42,
   "metadata": {},
   "outputs": [],
   "source": [
    "s1.iloc[-1] = 500"
   ]
  },
  {
   "cell_type": "code",
   "execution_count": 43,
   "metadata": {},
   "outputs": [
    {
     "data": {
      "text/plain": [
       "Canada     35.467\n",
       "China      63.951\n",
       "Japan     100.000\n",
       "US        124.093\n",
       "UK        500.000\n",
       "Name: G7 Population in millions, dtype: float64"
      ]
     },
     "execution_count": 43,
     "metadata": {},
     "output_type": "execute_result"
    }
   ],
   "source": [
    "s1"
   ]
  },
  {
   "cell_type": "code",
   "execution_count": 44,
   "metadata": {},
   "outputs": [],
   "source": [
    "s1[s1 <= 100] = 99.9"
   ]
  },
  {
   "cell_type": "code",
   "execution_count": 45,
   "metadata": {},
   "outputs": [
    {
     "data": {
      "text/plain": [
       "Canada     99.900\n",
       "China      99.900\n",
       "Japan      99.900\n",
       "US        124.093\n",
       "UK        500.000\n",
       "Name: G7 Population in millions, dtype: float64"
      ]
     },
     "execution_count": 45,
     "metadata": {},
     "output_type": "execute_result"
    }
   ],
   "source": [
    "s1"
   ]
  },
  {
   "cell_type": "code",
   "execution_count": 7,
   "metadata": {},
   "outputs": [],
   "source": [
    "df = pd.read_csv('d:\\\\atom\\\\exp\\\\20210220\\\\12cm_oil.csv', parse_dates=False)"
   ]
  },
  {
   "cell_type": "code",
   "execution_count": 10,
   "metadata": {},
   "outputs": [
    {
     "name": "stderr",
     "output_type": "stream",
     "text": [
      "D:\\ProgramData\\Anaconda3\\lib\\site-packages\\dateutil\\parser\\_parser.py:1213: UnknownTimezoneWarning: tzname CST identified but not understood.  Pass `tzinfos` argument in order to correctly return a timezone-aware datetime.  In a future version, this will raise an exception.\n",
      "  warnings.warn(\"tzname {tzname} identified but not understood.  \"\n"
     ]
    }
   ],
   "source": [
    "df['TIME'] = pd.to_datetime(df['TIME'])"
   ]
  },
  {
   "cell_type": "code",
   "execution_count": 11,
   "metadata": {},
   "outputs": [
    {
     "data": {
      "text/html": [
       "<div>\n",
       "<style scoped>\n",
       "    .dataframe tbody tr th:only-of-type {\n",
       "        vertical-align: middle;\n",
       "    }\n",
       "\n",
       "    .dataframe tbody tr th {\n",
       "        vertical-align: top;\n",
       "    }\n",
       "\n",
       "    .dataframe thead th {\n",
       "        text-align: right;\n",
       "    }\n",
       "</style>\n",
       "<table border=\"1\" class=\"dataframe\">\n",
       "  <thead>\n",
       "    <tr style=\"text-align: right;\">\n",
       "      <th></th>\n",
       "      <th>CHANNEL</th>\n",
       "      <th>EPC</th>\n",
       "      <th>PHASE</th>\n",
       "      <th>RSSI</th>\n",
       "      <th>TIME</th>\n",
       "    </tr>\n",
       "  </thead>\n",
       "  <tbody>\n",
       "    <tr>\n",
       "      <th>0</th>\n",
       "      <td>926.75</td>\n",
       "      <td>E280 1160 6000 0209 5014 ECA0</td>\n",
       "      <td>1.932816</td>\n",
       "      <td>-67.0</td>\n",
       "      <td>2021-02-20 16:04:13</td>\n",
       "    </tr>\n",
       "    <tr>\n",
       "      <th>1</th>\n",
       "      <td>926.75</td>\n",
       "      <td>E200 0000 0000 0000 0000 1A21</td>\n",
       "      <td>0.159534</td>\n",
       "      <td>-69.0</td>\n",
       "      <td>2021-02-20 16:04:13</td>\n",
       "    </tr>\n",
       "    <tr>\n",
       "      <th>2</th>\n",
       "      <td>926.75</td>\n",
       "      <td>E200 0000 0000 0000 0000 1A10</td>\n",
       "      <td>5.957981</td>\n",
       "      <td>-54.5</td>\n",
       "      <td>2021-02-20 16:04:13</td>\n",
       "    </tr>\n",
       "    <tr>\n",
       "      <th>3</th>\n",
       "      <td>926.75</td>\n",
       "      <td>3008 33B2 DDD9 0140 0000 0000</td>\n",
       "      <td>0.300660</td>\n",
       "      <td>-28.0</td>\n",
       "      <td>2021-02-20 16:04:13</td>\n",
       "    </tr>\n",
       "    <tr>\n",
       "      <th>4</th>\n",
       "      <td>926.75</td>\n",
       "      <td>E280 1160 6000 0209 5015 02C1</td>\n",
       "      <td>1.724194</td>\n",
       "      <td>-64.5</td>\n",
       "      <td>2021-02-20 16:04:13</td>\n",
       "    </tr>\n",
       "    <tr>\n",
       "      <th>...</th>\n",
       "      <td>...</td>\n",
       "      <td>...</td>\n",
       "      <td>...</td>\n",
       "      <td>...</td>\n",
       "      <td>...</td>\n",
       "    </tr>\n",
       "    <tr>\n",
       "      <th>3447</th>\n",
       "      <td>918.75</td>\n",
       "      <td>E200 0000 0000 0000 0000 1A10</td>\n",
       "      <td>2.859340</td>\n",
       "      <td>-54.5</td>\n",
       "      <td>2021-02-20 16:04:32</td>\n",
       "    </tr>\n",
       "    <tr>\n",
       "      <th>3448</th>\n",
       "      <td>918.75</td>\n",
       "      <td>E200 0000 0000 0000 0000 1A20</td>\n",
       "      <td>3.969942</td>\n",
       "      <td>-62.0</td>\n",
       "      <td>2021-02-20 16:04:32</td>\n",
       "    </tr>\n",
       "    <tr>\n",
       "      <th>3449</th>\n",
       "      <td>918.75</td>\n",
       "      <td>E280 1160 6000 0209 5014 ECA0</td>\n",
       "      <td>5.614370</td>\n",
       "      <td>-64.0</td>\n",
       "      <td>2021-02-20 16:04:32</td>\n",
       "    </tr>\n",
       "    <tr>\n",
       "      <th>3450</th>\n",
       "      <td>918.75</td>\n",
       "      <td>E200 0000 0000 0000 0000 1A11</td>\n",
       "      <td>2.902292</td>\n",
       "      <td>-59.0</td>\n",
       "      <td>2021-02-20 16:04:32</td>\n",
       "    </tr>\n",
       "    <tr>\n",
       "      <th>3451</th>\n",
       "      <td>918.75</td>\n",
       "      <td>E200 0000 0000 0000 0000 AAA2</td>\n",
       "      <td>4.841243</td>\n",
       "      <td>-59.5</td>\n",
       "      <td>2021-02-20 16:04:32</td>\n",
       "    </tr>\n",
       "  </tbody>\n",
       "</table>\n",
       "<p>3452 rows × 5 columns</p>\n",
       "</div>"
      ],
      "text/plain": [
       "      CHANNEL                            EPC     PHASE  RSSI  \\\n",
       "0      926.75  E280 1160 6000 0209 5014 ECA0  1.932816 -67.0   \n",
       "1      926.75  E200 0000 0000 0000 0000 1A21  0.159534 -69.0   \n",
       "2      926.75  E200 0000 0000 0000 0000 1A10  5.957981 -54.5   \n",
       "3      926.75  3008 33B2 DDD9 0140 0000 0000  0.300660 -28.0   \n",
       "4      926.75  E280 1160 6000 0209 5015 02C1  1.724194 -64.5   \n",
       "...       ...                            ...       ...   ...   \n",
       "3447   918.75  E200 0000 0000 0000 0000 1A10  2.859340 -54.5   \n",
       "3448   918.75  E200 0000 0000 0000 0000 1A20  3.969942 -62.0   \n",
       "3449   918.75  E280 1160 6000 0209 5014 ECA0  5.614370 -64.0   \n",
       "3450   918.75  E200 0000 0000 0000 0000 1A11  2.902292 -59.0   \n",
       "3451   918.75  E200 0000 0000 0000 0000 AAA2  4.841243 -59.5   \n",
       "\n",
       "                    TIME  \n",
       "0    2021-02-20 16:04:13  \n",
       "1    2021-02-20 16:04:13  \n",
       "2    2021-02-20 16:04:13  \n",
       "3    2021-02-20 16:04:13  \n",
       "4    2021-02-20 16:04:13  \n",
       "...                  ...  \n",
       "3447 2021-02-20 16:04:32  \n",
       "3448 2021-02-20 16:04:32  \n",
       "3449 2021-02-20 16:04:32  \n",
       "3450 2021-02-20 16:04:32  \n",
       "3451 2021-02-20 16:04:32  \n",
       "\n",
       "[3452 rows x 5 columns]"
      ]
     },
     "execution_count": 11,
     "metadata": {},
     "output_type": "execute_result"
    }
   ],
   "source": [
    "df"
   ]
  },
  {
   "cell_type": "code",
   "execution_count": 13,
   "metadata": {},
   "outputs": [
    {
     "data": {
      "text/html": [
       "<div>\n",
       "<style scoped>\n",
       "    .dataframe tbody tr th:only-of-type {\n",
       "        vertical-align: middle;\n",
       "    }\n",
       "\n",
       "    .dataframe tbody tr th {\n",
       "        vertical-align: top;\n",
       "    }\n",
       "\n",
       "    .dataframe thead th {\n",
       "        text-align: right;\n",
       "    }\n",
       "</style>\n",
       "<table border=\"1\" class=\"dataframe\">\n",
       "  <thead>\n",
       "    <tr style=\"text-align: right;\">\n",
       "      <th></th>\n",
       "      <th>CHANNEL</th>\n",
       "      <th>EPC</th>\n",
       "      <th>PHASE</th>\n",
       "      <th>RSSI</th>\n",
       "      <th>TIME</th>\n",
       "    </tr>\n",
       "  </thead>\n",
       "  <tbody>\n",
       "    <tr>\n",
       "      <th>0</th>\n",
       "      <td>926.75</td>\n",
       "      <td>E280 1160 6000 0209 5014 ECA0</td>\n",
       "      <td>1.932816</td>\n",
       "      <td>-67.0</td>\n",
       "      <td>2021-02-20 16:04:13</td>\n",
       "    </tr>\n",
       "    <tr>\n",
       "      <th>1</th>\n",
       "      <td>926.75</td>\n",
       "      <td>E200 0000 0000 0000 0000 1A21</td>\n",
       "      <td>0.159534</td>\n",
       "      <td>-69.0</td>\n",
       "      <td>2021-02-20 16:04:13</td>\n",
       "    </tr>\n",
       "    <tr>\n",
       "      <th>2</th>\n",
       "      <td>926.75</td>\n",
       "      <td>E200 0000 0000 0000 0000 1A10</td>\n",
       "      <td>5.957981</td>\n",
       "      <td>-54.5</td>\n",
       "      <td>2021-02-20 16:04:13</td>\n",
       "    </tr>\n",
       "    <tr>\n",
       "      <th>3</th>\n",
       "      <td>926.75</td>\n",
       "      <td>3008 33B2 DDD9 0140 0000 0000</td>\n",
       "      <td>0.300660</td>\n",
       "      <td>-28.0</td>\n",
       "      <td>2021-02-20 16:04:13</td>\n",
       "    </tr>\n",
       "    <tr>\n",
       "      <th>4</th>\n",
       "      <td>926.75</td>\n",
       "      <td>E280 1160 6000 0209 5015 02C1</td>\n",
       "      <td>1.724194</td>\n",
       "      <td>-64.5</td>\n",
       "      <td>2021-02-20 16:04:13</td>\n",
       "    </tr>\n",
       "    <tr>\n",
       "      <th>5</th>\n",
       "      <td>926.75</td>\n",
       "      <td>E280 1160 6000 0207 A652 5964</td>\n",
       "      <td>1.036971</td>\n",
       "      <td>-65.0</td>\n",
       "      <td>2021-02-20 16:04:13</td>\n",
       "    </tr>\n",
       "    <tr>\n",
       "      <th>6</th>\n",
       "      <td>926.75</td>\n",
       "      <td>E200 0000 0000 0000 0000 AAA2</td>\n",
       "      <td>6.221826</td>\n",
       "      <td>-59.0</td>\n",
       "      <td>2021-02-20 16:04:13</td>\n",
       "    </tr>\n",
       "    <tr>\n",
       "      <th>7</th>\n",
       "      <td>926.75</td>\n",
       "      <td>E200 0000 0000 0000 0000 1A20</td>\n",
       "      <td>6.111379</td>\n",
       "      <td>-64.0</td>\n",
       "      <td>2021-02-20 16:04:13</td>\n",
       "    </tr>\n",
       "    <tr>\n",
       "      <th>8</th>\n",
       "      <td>926.75</td>\n",
       "      <td>E200 0000 0000 0000 0000 1A11</td>\n",
       "      <td>6.099108</td>\n",
       "      <td>-60.5</td>\n",
       "      <td>2021-02-20 16:04:13</td>\n",
       "    </tr>\n",
       "    <tr>\n",
       "      <th>9</th>\n",
       "      <td>915.75</td>\n",
       "      <td>E280 1160 6000 0207 A652 5964</td>\n",
       "      <td>0.233165</td>\n",
       "      <td>-61.5</td>\n",
       "      <td>2021-02-20 16:04:13</td>\n",
       "    </tr>\n",
       "    <tr>\n",
       "      <th>10</th>\n",
       "      <td>915.75</td>\n",
       "      <td>E200 0000 0000 0000 0000 1A21</td>\n",
       "      <td>5.289166</td>\n",
       "      <td>-66.0</td>\n",
       "      <td>2021-02-20 16:04:13</td>\n",
       "    </tr>\n",
       "    <tr>\n",
       "      <th>11</th>\n",
       "      <td>915.75</td>\n",
       "      <td>E280 1160 6000 0209 5014 ECA0</td>\n",
       "      <td>0.834486</td>\n",
       "      <td>-62.0</td>\n",
       "      <td>2021-02-20 16:04:13</td>\n",
       "    </tr>\n",
       "    <tr>\n",
       "      <th>12</th>\n",
       "      <td>915.75</td>\n",
       "      <td>E200 0000 0000 0000 0000 1A10</td>\n",
       "      <td>4.129476</td>\n",
       "      <td>-54.0</td>\n",
       "      <td>2021-02-20 16:04:13</td>\n",
       "    </tr>\n",
       "    <tr>\n",
       "      <th>13</th>\n",
       "      <td>915.75</td>\n",
       "      <td>E280 1160 6000 0209 5015 02C1</td>\n",
       "      <td>1.300816</td>\n",
       "      <td>-62.0</td>\n",
       "      <td>2021-02-20 16:04:13</td>\n",
       "    </tr>\n",
       "    <tr>\n",
       "      <th>14</th>\n",
       "      <td>915.75</td>\n",
       "      <td>3008 33B2 DDD9 0140 0000 0000</td>\n",
       "      <td>3.184544</td>\n",
       "      <td>-29.0</td>\n",
       "      <td>2021-02-20 16:04:13</td>\n",
       "    </tr>\n",
       "    <tr>\n",
       "      <th>15</th>\n",
       "      <td>915.75</td>\n",
       "      <td>E200 0000 0000 0000 0000 1A20</td>\n",
       "      <td>5.289166</td>\n",
       "      <td>-60.5</td>\n",
       "      <td>2021-02-20 16:04:13</td>\n",
       "    </tr>\n",
       "    <tr>\n",
       "      <th>16</th>\n",
       "      <td>915.75</td>\n",
       "      <td>E200 0000 0000 0000 0000 AAA2</td>\n",
       "      <td>0.503146</td>\n",
       "      <td>-61.0</td>\n",
       "      <td>2021-02-20 16:04:13</td>\n",
       "    </tr>\n",
       "    <tr>\n",
       "      <th>17</th>\n",
       "      <td>915.75</td>\n",
       "      <td>E200 0000 0000 0000 0000 1A11</td>\n",
       "      <td>4.117204</td>\n",
       "      <td>-59.0</td>\n",
       "      <td>2021-02-20 16:04:13</td>\n",
       "    </tr>\n",
       "    <tr>\n",
       "      <th>18</th>\n",
       "      <td>915.75</td>\n",
       "      <td>E200 0000 0000 0000 0000 1A21</td>\n",
       "      <td>5.387341</td>\n",
       "      <td>-66.0</td>\n",
       "      <td>2021-02-20 16:04:13</td>\n",
       "    </tr>\n",
       "    <tr>\n",
       "      <th>19</th>\n",
       "      <td>915.75</td>\n",
       "      <td>E200 0000 0000 0000 0000 AAA2</td>\n",
       "      <td>0.423379</td>\n",
       "      <td>-60.5</td>\n",
       "      <td>2021-02-20 16:04:13</td>\n",
       "    </tr>\n",
       "  </tbody>\n",
       "</table>\n",
       "</div>"
      ],
      "text/plain": [
       "    CHANNEL                            EPC     PHASE  RSSI                TIME\n",
       "0    926.75  E280 1160 6000 0209 5014 ECA0  1.932816 -67.0 2021-02-20 16:04:13\n",
       "1    926.75  E200 0000 0000 0000 0000 1A21  0.159534 -69.0 2021-02-20 16:04:13\n",
       "2    926.75  E200 0000 0000 0000 0000 1A10  5.957981 -54.5 2021-02-20 16:04:13\n",
       "3    926.75  3008 33B2 DDD9 0140 0000 0000  0.300660 -28.0 2021-02-20 16:04:13\n",
       "4    926.75  E280 1160 6000 0209 5015 02C1  1.724194 -64.5 2021-02-20 16:04:13\n",
       "5    926.75  E280 1160 6000 0207 A652 5964  1.036971 -65.0 2021-02-20 16:04:13\n",
       "6    926.75  E200 0000 0000 0000 0000 AAA2  6.221826 -59.0 2021-02-20 16:04:13\n",
       "7    926.75  E200 0000 0000 0000 0000 1A20  6.111379 -64.0 2021-02-20 16:04:13\n",
       "8    926.75  E200 0000 0000 0000 0000 1A11  6.099108 -60.5 2021-02-20 16:04:13\n",
       "9    915.75  E280 1160 6000 0207 A652 5964  0.233165 -61.5 2021-02-20 16:04:13\n",
       "10   915.75  E200 0000 0000 0000 0000 1A21  5.289166 -66.0 2021-02-20 16:04:13\n",
       "11   915.75  E280 1160 6000 0209 5014 ECA0  0.834486 -62.0 2021-02-20 16:04:13\n",
       "12   915.75  E200 0000 0000 0000 0000 1A10  4.129476 -54.0 2021-02-20 16:04:13\n",
       "13   915.75  E280 1160 6000 0209 5015 02C1  1.300816 -62.0 2021-02-20 16:04:13\n",
       "14   915.75  3008 33B2 DDD9 0140 0000 0000  3.184544 -29.0 2021-02-20 16:04:13\n",
       "15   915.75  E200 0000 0000 0000 0000 1A20  5.289166 -60.5 2021-02-20 16:04:13\n",
       "16   915.75  E200 0000 0000 0000 0000 AAA2  0.503146 -61.0 2021-02-20 16:04:13\n",
       "17   915.75  E200 0000 0000 0000 0000 1A11  4.117204 -59.0 2021-02-20 16:04:13\n",
       "18   915.75  E200 0000 0000 0000 0000 1A21  5.387341 -66.0 2021-02-20 16:04:13\n",
       "19   915.75  E200 0000 0000 0000 0000 AAA2  0.423379 -60.5 2021-02-20 16:04:13"
      ]
     },
     "execution_count": 13,
     "metadata": {},
     "output_type": "execute_result"
    }
   ],
   "source": [
    "df.head(20)"
   ]
  },
  {
   "cell_type": "code",
   "execution_count": null,
   "metadata": {},
   "outputs": [],
   "source": []
  }
 ],
 "metadata": {
  "kernelspec": {
   "display_name": "Python 3",
   "language": "python",
   "name": "python3"
  },
  "language_info": {
   "codemirror_mode": {
    "name": "ipython",
    "version": 3
   },
   "file_extension": ".py",
   "mimetype": "text/x-python",
   "name": "python",
   "nbconvert_exporter": "python",
   "pygments_lexer": "ipython3",
   "version": "3.8.3"
  }
 },
 "nbformat": 4,
 "nbformat_minor": 4
}
