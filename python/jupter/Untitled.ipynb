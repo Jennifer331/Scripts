{
 "cells": [
  {
   "cell_type": "code",
   "execution_count": 18,
   "metadata": {},
   "outputs": [],
   "source": [
    "import glob, os\n",
    "from collections import defaultdict"
   ]
  },
  {
   "cell_type": "code",
   "execution_count": 15,
   "metadata": {},
   "outputs": [
    {
     "name": "stdout",
     "output_type": "stream",
     "text": [
      "D:\\Atom\\python\\data\\cleaned\\grill\\nosheet\\030cm_front_empty_kde_nosheet.csv\n",
      "D:\\Atom\\python\\data\\cleaned\\grill\\nosheet\\000cm_front_empty_kde_nosheet.csv\n",
      "D:\\Atom\\python\\data\\cleaned\\grill\\nosheet\\030cm_front_empty_kde_nosheet.mat\n",
      "D:\\Atom\\python\\data\\cleaned\\grill\\nosheet\\000cm_front_empty_kde_nosheet.mat\n",
      "D:\\Atom\\python\\data\\cleaned\\grill\\nosheet\\030cm_front_oil_kde_nosheet.csv\n",
      "D:\\Atom\\python\\data\\cleaned\\grill\\nosheet\\000cm_front_oil_kde_nosheet.csv\n",
      "D:\\Atom\\python\\data\\cleaned\\grill\\nosheet\\030cm_front_oil_kde_nosheet.mat\n",
      "D:\\Atom\\python\\data\\cleaned\\grill\\nosheet\\000cm_front_oil_kde_nosheet.mat\n",
      "D:\\Atom\\python\\data\\cleaned\\grill\\nosheet\\030cm_front_vinegar_kde_nosheet.csv\n",
      "D:\\Atom\\python\\data\\cleaned\\grill\\nosheet\\000cm_front_vinegar_kde_nosheet.csv\n",
      "D:\\Atom\\python\\data\\cleaned\\grill\\nosheet\\030cm_front_vinegar_kde_nosheet.mat\n",
      "D:\\Atom\\python\\data\\cleaned\\grill\\nosheet\\000cm_front_vinegar_kde_nosheet.mat\n",
      "D:\\Atom\\python\\data\\cleaned\\grill\\nosheet\\030cm_front_water_kde_nosheet.csv\n",
      "D:\\Atom\\python\\data\\cleaned\\grill\\nosheet\\000cm_front_water_kde_nosheet.csv\n",
      "D:\\Atom\\python\\data\\cleaned\\grill\\nosheet\\030cm_front_water_kde_nosheet.mat\n",
      "D:\\Atom\\python\\data\\cleaned\\grill\\nosheet\\000cm_front_water_kde_nosheet.mat\n",
      "D:\\Atom\\python\\data\\cleaned\\grill\\nosheet\\030cm_tail_empty_kde_nosheet.csv\n",
      "D:\\Atom\\python\\data\\cleaned\\grill\\nosheet\\000cm_tail_empty_kde_nosheet.csv\n",
      "D:\\Atom\\python\\data\\cleaned\\grill\\nosheet\\030cm_tail_empty_kde_nosheet.mat\n",
      "D:\\Atom\\python\\data\\cleaned\\grill\\nosheet\\000cm_tail_empty_kde_nosheet.mat\n",
      "D:\\Atom\\python\\data\\cleaned\\grill\\nosheet\\030cm_tail_oil_kde_nosheet.csv\n",
      "D:\\Atom\\python\\data\\cleaned\\grill\\nosheet\\000cm_tail_oil_kde_nosheet.csv\n",
      "D:\\Atom\\python\\data\\cleaned\\grill\\nosheet\\030cm_tail_oil_kde_nosheet.mat\n",
      "D:\\Atom\\python\\data\\cleaned\\grill\\nosheet\\000cm_tail_oil_kde_nosheet.mat\n",
      "D:\\Atom\\python\\data\\cleaned\\grill\\nosheet\\030cm_tail_vinegar_kde_nosheet.csv\n",
      "D:\\Atom\\python\\data\\cleaned\\grill\\nosheet\\000cm_tail_vinegar_kde_nosheet.csv\n",
      "D:\\Atom\\python\\data\\cleaned\\grill\\nosheet\\030cm_tail_vinegar_kde_nosheet.mat\n",
      "D:\\Atom\\python\\data\\cleaned\\grill\\nosheet\\000cm_tail_vinegar_kde_nosheet.mat\n",
      "D:\\Atom\\python\\data\\cleaned\\grill\\nosheet\\030cm_tail_water_kde_nosheet.csv\n",
      "D:\\Atom\\python\\data\\cleaned\\grill\\nosheet\\000cm_tail_water_kde_nosheet.csv\n",
      "D:\\Atom\\python\\data\\cleaned\\grill\\nosheet\\030cm_tail_water_kde_nosheet.mat\n",
      "D:\\Atom\\python\\data\\cleaned\\grill\\nosheet\\000cm_tail_water_kde_nosheet.mat\n"
     ]
    }
   ],
   "source": [
    "folder = 'D:\\\\Atom\\\\python\\\\data\\\\cleaned\\\\grill\\\\nosheet'\n",
    "file = '030cm*'\n",
    "for f in glob.glob(os.path.join(folder, file)):\n",
    "    newname = f.replace('030cm', '000cm')\n",
    "    print(f)\n",
    "    print(newname)\n",
    "#     os.rename(f, newname)"
   ]
  },
  {
   "cell_type": "code",
   "execution_count": 20,
   "metadata": {},
   "outputs": [],
   "source": [
    "folder_sheet = 'D:\\\\Atom\\\\python\\\\data\\\\cleaned\\\\grill\\\\sheet'\n",
    "folder_nosheet = 'D:\\\\Atom\\\\python\\\\data\\\\cleaned\\\\grill\\\\nosheet'\n",
    "\n",
    "liquids = ['water', 'vinegar', 'oil', 'empty']\n",
    "d = {'sheet': {'front': defaultdict(lambda: None), 'tail': defaultdict(lambda: None)},\n",
    "     'nosheet': {'front': defaultdict(lambda: None), 'tail': defaultdict(lambda: None)}\n",
    "    }"
   ]
  },
  {
   "cell_type": "code",
   "execution_count": 22,
   "metadata": {},
   "outputs": [
    {
     "name": "stdout",
     "output_type": "stream",
     "text": [
      "D:\\Atom\\python\\data\\cleaned\\grill\\sheet\\000cm_front_empty_kde_sheet.csv\n",
      "D:\\Atom\\python\\data\\cleaned\\grill\\sheet\\000cm_front_oil_kde_sheet.csv\n",
      "D:\\Atom\\python\\data\\cleaned\\grill\\sheet\\000cm_front_vinegar_kde_sheet.csv\n",
      "D:\\Atom\\python\\data\\cleaned\\grill\\sheet\\000cm_front_water_kde_sheet.csv\n",
      "D:\\Atom\\python\\data\\cleaned\\grill\\sheet\\000cm_tail_empty_kde_sheet.csv\n",
      "D:\\Atom\\python\\data\\cleaned\\grill\\sheet\\000cm_tail_oil_kde_sheet.csv\n",
      "D:\\Atom\\python\\data\\cleaned\\grill\\sheet\\000cm_tail_vinegar_kde_sheet.csv\n",
      "D:\\Atom\\python\\data\\cleaned\\grill\\sheet\\000cm_tail_water_kde_sheet.csv\n"
     ]
    }
   ],
   "source": [
    "for file in glob.glob(os.path.join(folder_sheet, '000cm*csv')):\n",
    "    '_[a-z]+_kde'\n",
    "    print(file)"
   ]
  },
  {
   "cell_type": "code",
   "execution_count": null,
   "metadata": {},
   "outputs": [],
   "source": []
  }
 ],
 "metadata": {
  "kernelspec": {
   "display_name": "Python 3",
   "language": "python",
   "name": "python3"
  },
  "language_info": {
   "codemirror_mode": {
    "name": "ipython",
    "version": 3
   },
   "file_extension": ".py",
   "mimetype": "text/x-python",
   "name": "python",
   "nbconvert_exporter": "python",
   "pygments_lexer": "ipython3",
   "version": "3.8.3"
  }
 },
 "nbformat": 4,
 "nbformat_minor": 4
}
