{
 "cells": [
  {
   "cell_type": "markdown",
   "metadata": {},
   "source": [
    "### command mode\n",
    "- a/b create a new cell above/below, dd for deletion\n",
    "- m/y for markdown/python\n",
    "- z undo, shift+z redo\n",
    "- x cut, c copy, v paste\n",
    "\n",
    "### switch from edit to command mode  \n",
    "- shift+enter"
   ]
  },
  {
   "cell_type": "code",
   "execution_count": 3,
   "metadata": {},
   "outputs": [],
   "source": [
    "import pandas as pd\n",
    "df = pd.read_csv('d:\\\\atom\\\\exp\\\\20210202\\\\exp_0202_0011cm.csv')"
   ]
  },
  {
   "cell_type": "code",
   "execution_count": 4,
   "metadata": {},
   "outputs": [
    {
     "data": {
      "text/html": [
       "<div>\n",
       "<style scoped>\n",
       "    .dataframe tbody tr th:only-of-type {\n",
       "        vertical-align: middle;\n",
       "    }\n",
       "\n",
       "    .dataframe tbody tr th {\n",
       "        vertical-align: top;\n",
       "    }\n",
       "\n",
       "    .dataframe thead th {\n",
       "        text-align: right;\n",
       "    }\n",
       "</style>\n",
       "<table border=\"1\" class=\"dataframe\">\n",
       "  <thead>\n",
       "    <tr style=\"text-align: right;\">\n",
       "      <th></th>\n",
       "      <th>CHANNEL</th>\n",
       "      <th>PHASE</th>\n",
       "      <th>RSSI</th>\n",
       "    </tr>\n",
       "  </thead>\n",
       "  <tbody>\n",
       "    <tr>\n",
       "      <th>count</th>\n",
       "      <td>3959.000000</td>\n",
       "      <td>3959.000000</td>\n",
       "      <td>3959.000000</td>\n",
       "    </tr>\n",
       "    <tr>\n",
       "      <th>mean</th>\n",
       "      <td>915.738255</td>\n",
       "      <td>3.152339</td>\n",
       "      <td>-59.831018</td>\n",
       "    </tr>\n",
       "    <tr>\n",
       "      <th>std</th>\n",
       "      <td>7.083620</td>\n",
       "      <td>1.881501</td>\n",
       "      <td>10.044990</td>\n",
       "    </tr>\n",
       "    <tr>\n",
       "      <th>min</th>\n",
       "      <td>902.750000</td>\n",
       "      <td>0.000000</td>\n",
       "      <td>-75.000000</td>\n",
       "    </tr>\n",
       "    <tr>\n",
       "      <th>25%</th>\n",
       "      <td>909.750000</td>\n",
       "      <td>1.432738</td>\n",
       "      <td>-66.000000</td>\n",
       "    </tr>\n",
       "    <tr>\n",
       "      <th>50%</th>\n",
       "      <td>916.250000</td>\n",
       "      <td>3.239767</td>\n",
       "      <td>-63.000000</td>\n",
       "    </tr>\n",
       "    <tr>\n",
       "      <th>75%</th>\n",
       "      <td>921.750000</td>\n",
       "      <td>4.841243</td>\n",
       "      <td>-57.500000</td>\n",
       "    </tr>\n",
       "    <tr>\n",
       "      <th>max</th>\n",
       "      <td>927.250000</td>\n",
       "      <td>6.277049</td>\n",
       "      <td>-34.500000</td>\n",
       "    </tr>\n",
       "  </tbody>\n",
       "</table>\n",
       "</div>"
      ],
      "text/plain": [
       "           CHANNEL        PHASE         RSSI\n",
       "count  3959.000000  3959.000000  3959.000000\n",
       "mean    915.738255     3.152339   -59.831018\n",
       "std       7.083620     1.881501    10.044990\n",
       "min     902.750000     0.000000   -75.000000\n",
       "25%     909.750000     1.432738   -66.000000\n",
       "50%     916.250000     3.239767   -63.000000\n",
       "75%     921.750000     4.841243   -57.500000\n",
       "max     927.250000     6.277049   -34.500000"
      ]
     },
     "execution_count": 4,
     "metadata": {},
     "output_type": "execute_result"
    }
   ],
   "source": [
    "df.describe()"
   ]
  },
  {
   "cell_type": "markdown",
   "metadata": {},
   "source": [
    "### Bokeh\n",
    "dynamic interactive chart"
   ]
  }
 ],
 "metadata": {
  "kernelspec": {
   "display_name": "Python 3",
   "language": "python",
   "name": "python3"
  },
  "language_info": {
   "codemirror_mode": {
    "name": "ipython",
    "version": 3
   },
   "file_extension": ".py",
   "mimetype": "text/x-python",
   "name": "python",
   "nbconvert_exporter": "python",
   "pygments_lexer": "ipython3",
   "version": "3.8.3"
  }
 },
 "nbformat": 4,
 "nbformat_minor": 4
}
