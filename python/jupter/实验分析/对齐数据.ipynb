{
 "cells": [
  {
   "cell_type": "code",
   "execution_count": 1,
   "metadata": {},
   "outputs": [],
   "source": [
    "df_v_f = pd.read_csv('D:\\\\Atom\\\\python\\\\data\\\\cleaned\\\\outdoor\\\\front-tail\\\\outdoor_all_f_vinegar_unwrap.csv')\n",
    "df_v_t = pd.read_csv('D:\\\\Atom\\\\python\\\\data\\\\cleaned\\\\outdoor\\\\front-tail\\\\outdoor_all_t_vinegar_unwrap.csv')"
   ]
  },
  {
   "cell_type": "code",
   "execution_count": 11,
   "metadata": {},
   "outputs": [],
   "source": [
    "dists = np.unique(np.concatenate((df_v_f['DISTANCE'].unique(), df_v_t['DISTANCE'].unique())))"
   ]
  },
  {
   "cell_type": "code",
   "execution_count": 12,
   "metadata": {},
   "outputs": [],
   "source": [
    "fs = np.unique(np.concatenate((df_v_f['CHANNEL'].unique(), df_v_t['CHANNEL'].unique())))"
   ]
  },
  {
   "cell_type": "code",
   "execution_count": 21,
   "metadata": {},
   "outputs": [],
   "source": [
    "combined = [dists, fs]\n",
    "cols = ['DISTANCE', 'CHANNEL']"
   ]
  },
  {
   "cell_type": "code",
   "execution_count": 22,
   "metadata": {},
   "outputs": [],
   "source": [
    "mind = pd.MultiIndex.from_product(combined, names=cols)"
   ]
  },
  {
   "cell_type": "code",
   "execution_count": 31,
   "metadata": {},
   "outputs": [],
   "source": [
    "append_f = df_v_f.set_index(cols).reindex(mind, fill_value=np.nan).reset_index()\n",
    "append_t = df_v_t.set_index(cols).reindex(mind, fill_value=np.nan).reset_index()"
   ]
  },
  {
   "cell_type": "code",
   "execution_count": 44,
   "metadata": {},
   "outputs": [],
   "source": [
    "index = (~np.isnan(append_f['RSSI'])) & (~np.isnan(append_t['RSSI']))"
   ]
  },
  {
   "cell_type": "code",
   "execution_count": 47,
   "metadata": {},
   "outputs": [],
   "source": [
    "filtered_f = append_f[index]\n",
    "filtered_t = append_t[index]"
   ]
  },
  {
   "cell_type": "code",
   "execution_count": 49,
   "metadata": {},
   "outputs": [
    {
     "name": "stdout",
     "output_type": "stream",
     "text": [
      "<class 'pandas.core.frame.DataFrame'>\n",
      "Int64Index: 260 entries, 0 to 328\n",
      "Data columns (total 4 columns):\n",
      " #   Column    Non-Null Count  Dtype  \n",
      "---  ------    --------------  -----  \n",
      " 0   DISTANCE  260 non-null    float64\n",
      " 1   CHANNEL   260 non-null    float64\n",
      " 2   RSSI      260 non-null    float64\n",
      " 3   PHASE     260 non-null    float64\n",
      "dtypes: float64(4)\n",
      "memory usage: 10.2 KB\n",
      "<class 'pandas.core.frame.DataFrame'>\n",
      "Int64Index: 260 entries, 0 to 328\n",
      "Data columns (total 4 columns):\n",
      " #   Column    Non-Null Count  Dtype  \n",
      "---  ------    --------------  -----  \n",
      " 0   DISTANCE  260 non-null    float64\n",
      " 1   CHANNEL   260 non-null    float64\n",
      " 2   RSSI      260 non-null    float64\n",
      " 3   PHASE     260 non-null    float64\n",
      "dtypes: float64(4)\n",
      "memory usage: 10.2 KB\n"
     ]
    }
   ],
   "source": [
    "filtered_f.info()\n",
    "filtered_t.info()"
   ]
  },
  {
   "cell_type": "code",
   "execution_count": null,
   "metadata": {},
   "outputs": [],
   "source": []
  }
 ],
 "metadata": {
  "kernelspec": {
   "display_name": "Python 3",
   "language": "python",
   "name": "python3"
  },
  "language_info": {
   "codemirror_mode": {
    "name": "ipython",
    "version": 3
   },
   "file_extension": ".py",
   "mimetype": "text/x-python",
   "name": "python",
   "nbconvert_exporter": "python",
   "pygments_lexer": "ipython3",
   "version": "3.8.3"
  }
 },
 "nbformat": 4,
 "nbformat_minor": 4
}
