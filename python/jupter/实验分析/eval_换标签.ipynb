{
 "cells": [
  {
   "cell_type": "code",
   "execution_count": 1,
   "metadata": {},
   "outputs": [
    {
     "name": "stdout",
     "output_type": "stream",
     "text": [
      "50 50\n",
      "50 50\n",
      "50 50\n"
     ]
    },
    {
     "data": {
      "image/png": "[encoded data removed]",
      "text/plain": [
       "<Figure size 432x288 with 1 Axes>"
      ]
     },
     "metadata": {
      "needs_background": "light"
     },
     "output_type": "display_data"
    }
   ],
   "source": [
    "import glob, os\n",
    "folder_clean = 'D:\\\\Atom\\\\python\\\\data\\\\cleaned\\\\grill\\\\final'\n",
    "\n",
    "data = {}\n",
    "d_f = pd.read_csv(os.path.join(folder_clean, 'd10_watertag_f_kde.csv'))\n",
    "d_t = pd.read_csv(os.path.join(folder_clean, 'd10_watertag_t_kde.csv'))\n",
    "print(len(d_f), len(d_t))\n",
    "plt.scatter(np.unwrap(d_f['PHASE']) - np.unwrap(d_t['PHASE']), d_f['RSSI'] - d_t['RSSI'])\n",
    "data['watertag_rssi_f'] = d_f['RSSI'].values\n",
    "data['watertag_rssi_t'] = d_t['RSSI'].values\n",
    "data['watertag_phase_f'] = d_f['PHASE'].values\n",
    "data['watertag_phase_t'] = d_t['PHASE'].values\n",
    "\n",
    "d_f = pd.read_csv(os.path.join(folder_clean, 'd10_water_f_kde.csv'))\n",
    "d_t = pd.read_csv(os.path.join(folder_clean, 'd10_water_t_kde.csv'))\n",
    "print(len(d_f), len(d_t))\n",
    "plt.scatter(np.unwrap(d_f['PHASE']) - np.unwrap(d_t['PHASE']), d_f['RSSI'] - d_t['RSSI'])\n",
    "data['water_rssi_f'] = d_f['RSSI'].values\n",
    "data['water_rssi_t'] = d_t['RSSI'].values\n",
    "data['water_phase_f'] = d_f['PHASE'].values\n",
    "data['water_phase_t'] = d_t['PHASE'].values\n",
    "\n",
    "p_f = pd.read_csv(os.path.join(folder_clean, 'd1_oil_f_kde.csv'))\n",
    "p_t = pd.read_csv(os.path.join(folder_clean, 'd1_oil_t_kde.csv'))\n",
    "print(len(p_f), len(p_t))\n",
    "plt.scatter(np.unwrap(p_f['PHASE']) - np.unwrap(p_t['PHASE']), p_f['RSSI'] - p_t['RSSI'])\n",
    "\n",
    "plt.legend(['new tag', 'water', 'oil'])\n",
    "\n",
    "import scipy.io\n",
    "scipy.io.savemat('tag.mat', data)"
   ]
  },
  {
   "cell_type": "code",
   "execution_count": 10,
   "metadata": {},
   "outputs": [
    {
     "name": "stdout",
     "output_type": "stream",
     "text": [
      "water ['water' 'water' 'water' 'water' 'water' 'water' 'water' 'water' 'water'\n",
      " 'water' 'water' 'water' 'water' 'water' 'water' 'water' 'water' 'water'\n",
      " 'water' 'water' 'water' 'water' 'water' 'water' 'water' 'water' 'water'\n",
      " 'water' 'water' 'water' 'water' 'water' 'water' 'water' 'water' 'water'\n",
      " 'water' 'water' 'water' 'water' 'water' 'water' 'water' 'water' 'water'\n",
      " 'water' 'water' 'vinegar' 'water' 'water']\n",
      "Correct 0.98\n",
      "-------------------------------\n",
      "watertag ['water' 'water' 'water' 'water' 'water' 'water' 'water' 'water' 'water'\n",
      " 'water' 'water' 'water' 'water' 'water' 'water' 'water' 'water' 'water'\n",
      " 'water' 'vinegar' 'water' 'water' 'water' 'vinegar' 'water' 'water'\n",
      " 'water' 'water' 'water' 'water' 'water' 'water' 'water' 'vinegar' 'water'\n",
      " 'water' 'water' 'vinegar' 'water' 'water' 'water' 'water' 'vinegar'\n",
      " 'vinegar' 'water' 'water' 'vinegar' 'vinegar' 'vinegar' 'water']\n",
      "Correct 0.82\n",
      "-------------------------------\n",
      "90 100 0.9\n"
     ]
    },
    {
     "data": {
      "image/png": "[encoded data removed]",
      "text/plain": [
       "<Figure size 432x288 with 1 Axes>"
      ]
     },
     "metadata": {
      "needs_background": "light"
     },
     "output_type": "display_data"
    }
   ],
   "source": [
    "import joblib\n",
    "folder_clean = 'D:\\\\Atom\\\\python\\\\data\\\\cleaned\\\\grill\\\\final'\n",
    "clf = joblib.load('model_all_nopi.joblib')\n",
    "\n",
    "cnt = 0\n",
    "correctcnt = 0\n",
    "\n",
    "matls = ['water', 'watertag']\n",
    "for matl in matls:\n",
    "    df_f = pd.read_csv(os.path.join(folder_clean, 'd10_%s_f_kde.csv' % (matl)))\n",
    "    df_t = pd.read_csv(os.path.join(folder_clean, 'd10_%s_t_kde.csv' %(matl)))\n",
    "    diff_p = np.unwrap(df_f['PHASE']) - np.unwrap(df_t['PHASE'])\n",
    "    diff_r = df_f['RSSI'] - df_t['RSSI']\n",
    "    plt.scatter(diff_p, diff_r)\n",
    "#     result = tree.predict(np.column_stack((diff_p, diff_r, df_t['CHANNEL'])))\n",
    "    result = clf.predict(np.column_stack((diff_p, diff_r)))\n",
    "    print(matl, result)\n",
    "    correct = (result=='water').sum()\n",
    "    print('Correct', correct/len(df_f))\n",
    "    cnt += len(df_f)\n",
    "    correctcnt += correct\n",
    "    print('-------------------------------')\n",
    "plt.legend(matls)\n",
    "plt.xlim([-6, 6])\n",
    "plt.ylim([-7, 3])\n",
    "print(correctcnt, cnt, correctcnt/cnt)"
   ]
  },
  {
   "cell_type": "code",
   "execution_count": null,
   "metadata": {},
   "outputs": [],
   "source": []
  },
  {
   "cell_type": "code",
   "execution_count": null,
   "metadata": {},
   "outputs": [],
   "source": []
  }
 ],
 "metadata": {
  "kernelspec": {
   "display_name": "Python 3",
   "language": "python",
   "name": "python3"
  },
  "language_info": {
   "codemirror_mode": {
    "name": "ipython",
    "version": 3
   },
   "file_extension": ".py",
   "mimetype": "text/x-python",
   "name": "python",
   "nbconvert_exporter": "python",
   "pygments_lexer": "ipython3",
   "version": "3.8.3"
  }
 },
 "nbformat": 4,
 "nbformat_minor": 4
}
