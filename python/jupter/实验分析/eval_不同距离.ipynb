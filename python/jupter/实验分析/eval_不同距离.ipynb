{
 "cells": [
  {
   "cell_type": "code",
   "execution_count": 11,
   "metadata": {},
   "outputs": [],
   "source": [
    "import scipy.io\n",
    "import os\n",
    "folder_clean = 'D:\\\\Atom\\\\python\\\\data\\\\cleaned\\\\grill\\\\final'\n",
    "\n",
    "data = {}\n",
    "def export(matls, dists, filename):\n",
    "    for matl in matls:\n",
    "        for d in dists:\n",
    "            d_f = pd.read_csv(os.path.join(folder_clean, 'd%d_%s_f_kde.csv') % (d, matl))\n",
    "            d_t = pd.read_csv(os.path.join(folder_clean, 'd%d_%s_t_kde.csv') % (d, matl))\n",
    "            print(matl, d, len(d_f), len(d_t))\n",
    "            plt.scatter(np.unwrap(d_f['PHASE']) - np.unwrap(d_t['PHASE']), d_f['RSSI'] - d_t['RSSI'])\n",
    "            data['d%d_%s_rssi_f' % (d, matl)] = d_f['RSSI'].values\n",
    "            data['d%d_%s_rssi_t' % (d, matl)] = d_t['RSSI'].values\n",
    "            data['d%d_%s_phase_f' % (d, matl)] = d_f['PHASE'].values\n",
    "            data['d%d_%s_phase_t' % (d, matl)] = d_t['PHASE'].values\n",
    "    scipy.io.savemat('%s.mat' % filename, data)"
   ]
  },
  {
   "cell_type": "code",
   "execution_count": 12,
   "metadata": {},
   "outputs": [
    {
     "name": "stdout",
     "output_type": "stream",
     "text": [
      "oil 6 50 50\n",
      "oil 7 50 50\n",
      "oil 8 50 50\n"
     ]
    },
    {
     "data": {
      "image/png": "[encoded data removed]",
      "text/plain": [
       "<Figure size 432x288 with 1 Axes>"
      ]
     },
     "metadata": {
      "needs_background": "light"
     },
     "output_type": "display_data"
    }
   ],
   "source": [
    "export(['oil'], [6, 7, 8], 'oil_d678')"
   ]
  },
  {
   "cell_type": "code",
   "execution_count": 14,
   "metadata": {},
   "outputs": [
    {
     "name": "stdout",
     "output_type": "stream",
     "text": [
      "6 ['oil' 'oil' 'oil' 'oil' 'oil' 'oil' 'oil' 'oil' 'oil' 'oil' 'oil' 'oil'\n",
      " 'oil' 'oil' 'oil' 'oil' 'oil' 'oil' 'oil' 'oil' 'oil' 'oil' 'oil' 'oil'\n",
      " 'oil' 'oil' 'oil' 'oil' 'oil' 'oil' 'oil' 'oil' 'oil' 'oil' 'oil' 'oil'\n",
      " 'oil' 'oil' 'oil' 'oil' 'oil' 'oil' 'oil' 'oil' 'oil' 'oil' 'oil' 'oil'\n",
      " 'oil' 'oil']\n",
      "Correct 1.0\n",
      "-------------------------------\n",
      "7 ['oil' 'oil' 'oil' 'oil' 'oil' 'oil' 'oil' 'oil' 'oil' 'oil' 'oil' 'oil'\n",
      " 'oil' 'oil' 'oil' 'oil' 'oil' 'oil' 'oil' 'oil' 'oil' 'oil' 'oil' 'oil'\n",
      " 'oil' 'oil' 'oil' 'oil' 'oil' 'oil' 'oil' 'oil' 'oil' 'oil' 'oil' 'oil'\n",
      " 'oil' 'oil' 'oil' 'oil' 'oil' 'oil' 'oil' 'oil' 'oil' 'oil' 'oil' 'oil'\n",
      " 'oil' 'oil']\n",
      "Correct 1.0\n",
      "-------------------------------\n",
      "8 ['liquor' 'liquor' 'liquor' 'liquor' 'liquor' 'liquor' 'liquor' 'liquor'\n",
      " 'liquor' 'liquor' 'liquor' 'liquor' 'liquor' 'liquor' 'liquor' 'liquor'\n",
      " 'liquor' 'liquor' 'oil' 'oil' 'oil' 'oil' 'liquor' 'oil' 'oil' 'oil'\n",
      " 'oil' 'oil' 'oil' 'oil' 'oil' 'oil' 'oil' 'oil' 'oil' 'oil' 'oil' 'oil'\n",
      " 'oil' 'oil' 'oil' 'oil' 'oil' 'oil' 'oil' 'oil' 'oil' 'oil' 'oil' 'oil']\n",
      "Correct 0.62\n",
      "-------------------------------\n"
     ]
    },
    {
     "ename": "NameError",
     "evalue": "name 'matls' is not defined",
     "output_type": "error",
     "traceback": [
      "\u001b[1;31m---------------------------------------------------------------------------\u001b[0m",
      "\u001b[1;31mNameError\u001b[0m                                 Traceback (most recent call last)",
      "\u001b[1;32m<ipython-input-14-2e1a386f55e8>\u001b[0m in \u001b[0;36m<module>\u001b[1;34m\u001b[0m\n\u001b[0;32m     21\u001b[0m     \u001b[0mcorrectcnt\u001b[0m \u001b[1;33m+=\u001b[0m \u001b[0mcorrect\u001b[0m\u001b[1;33m\u001b[0m\u001b[1;33m\u001b[0m\u001b[0m\n\u001b[0;32m     22\u001b[0m     \u001b[0mprint\u001b[0m\u001b[1;33m(\u001b[0m\u001b[1;34m'-------------------------------'\u001b[0m\u001b[1;33m)\u001b[0m\u001b[1;33m\u001b[0m\u001b[1;33m\u001b[0m\u001b[0m\n\u001b[1;32m---> 23\u001b[1;33m \u001b[0mplt\u001b[0m\u001b[1;33m.\u001b[0m\u001b[0mlegend\u001b[0m\u001b[1;33m(\u001b[0m\u001b[0mmatls\u001b[0m\u001b[1;33m)\u001b[0m\u001b[1;33m\u001b[0m\u001b[1;33m\u001b[0m\u001b[0m\n\u001b[0m\u001b[0;32m     24\u001b[0m \u001b[0mplt\u001b[0m\u001b[1;33m.\u001b[0m\u001b[0mxlim\u001b[0m\u001b[1;33m(\u001b[0m\u001b[1;33m[\u001b[0m\u001b[1;33m-\u001b[0m\u001b[1;36m6\u001b[0m\u001b[1;33m,\u001b[0m \u001b[1;36m6\u001b[0m\u001b[1;33m]\u001b[0m\u001b[1;33m)\u001b[0m\u001b[1;33m\u001b[0m\u001b[1;33m\u001b[0m\u001b[0m\n\u001b[0;32m     25\u001b[0m \u001b[0mplt\u001b[0m\u001b[1;33m.\u001b[0m\u001b[0mylim\u001b[0m\u001b[1;33m(\u001b[0m\u001b[1;33m[\u001b[0m\u001b[1;33m-\u001b[0m\u001b[1;36m7\u001b[0m\u001b[1;33m,\u001b[0m \u001b[1;36m3\u001b[0m\u001b[1;33m]\u001b[0m\u001b[1;33m)\u001b[0m\u001b[1;33m\u001b[0m\u001b[1;33m\u001b[0m\u001b[0m\n",
      "\u001b[1;31mNameError\u001b[0m: name 'matls' is not defined"
     ]
    },
    {
     "data": {
      "image/png": "[encoded data removed]",
      "text/plain": [
       "<Figure size 432x288 with 1 Axes>"
      ]
     },
     "metadata": {
      "needs_background": "light"
     },
     "output_type": "display_data"
    }
   ],
   "source": [
    "import joblib\n",
    "folder_clean = 'D:\\\\Atom\\\\python\\\\data\\\\cleaned\\\\grill\\\\final'\n",
    "clf = joblib.load('model_all_nopi.joblib')\n",
    "\n",
    "cnt = 0\n",
    "correctcnt = 0\n",
    "\n",
    "dists = [6, 7, 8]\n",
    "for d in dists:\n",
    "    df_f = pd.read_csv(os.path.join(folder_clean, 'd%d_oil_f_kde.csv' % (d)))\n",
    "    df_t = pd.read_csv(os.path.join(folder_clean, 'd%d_oil_t_kde.csv' %(d)))\n",
    "    diff_p = np.unwrap(df_f['PHASE']) - np.unwrap(df_t['PHASE'])\n",
    "    diff_r = df_f['RSSI'] - df_t['RSSI']\n",
    "    plt.scatter(diff_p, diff_r)\n",
    "#     result = tree.predict(np.column_stack((diff_p, diff_r, df_t['CHANNEL'])))\n",
    "    result = clf.predict(np.column_stack((diff_p, diff_r)))\n",
    "    print(d, result)\n",
    "    correct = (result=='oil').sum()\n",
    "    print('Correct', correct/len(df_f))\n",
    "    cnt += len(df_f)\n",
    "    correctcnt += correct\n",
    "    print('-------------------------------')\n",
    "plt.legend(matls)\n",
    "plt.xlim([-6, 6])\n",
    "plt.ylim([-7, 3])\n",
    "print(correctcnt, cnt, correctcnt/cnt)"
   ]
  },
  {
   "cell_type": "code",
   "execution_count": null,
   "metadata": {},
   "outputs": [],
   "source": []
  }
 ],
 "metadata": {
  "kernelspec": {
   "display_name": "Python 3",
   "language": "python",
   "name": "python3"
  },
  "language_info": {
   "codemirror_mode": {
    "name": "ipython",
    "version": 3
   },
   "file_extension": ".py",
   "mimetype": "text/x-python",
   "name": "python",
   "nbconvert_exporter": "python",
   "pygments_lexer": "ipython3",
   "version": "3.8.3"
  }
 },
 "nbformat": 4,
 "nbformat_minor": 4
}
