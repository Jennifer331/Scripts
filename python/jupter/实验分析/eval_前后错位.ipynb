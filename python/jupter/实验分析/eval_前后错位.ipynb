{
 "cells": [
  {
   "cell_type": "code",
   "execution_count": 3,
   "metadata": {},
   "outputs": [],
   "source": [
    "import glob, os\n",
    "\n",
    "folder_clean = 'D:\\\\Atom\\\\python\\\\data\\\\cleaned\\\\grill\\\\final'\n",
    "\n",
    "p_f = pd.read_csv(os.path.join(folder_clean, 'd10_water_f_kde.csv'))\n",
    "p_t = pd.read_csv(os.path.join(folder_clean, 'd10_water_t_kde.csv'))\n",
    "p_t1 = pd.read_csv(os.path.join(folder_clean, 'd10_water_t1_kde.csv'))\n",
    "p_t2 = pd.read_csv(os.path.join(folder_clean, 'd10_water_t2_kde.csv'))"
   ]
  },
  {
   "cell_type": "code",
   "execution_count": 2,
   "metadata": {},
   "outputs": [
    {
     "name": "stdout",
     "output_type": "stream",
     "text": [
      "D:\\Atom\\python\\data\\cleaned\\grill\\final\\d10_water_t1_kde.csv\n"
     ]
    }
   ],
   "source": [
    "for file in glob.glob(os.path.join(folder_clean, '*t1*.csv')):\n",
    "    print(file)"
   ]
  },
  {
   "cell_type": "code",
   "execution_count": 10,
   "metadata": {},
   "outputs": [
    {
     "data": {
      "text/plain": [
       "(-6.0, 3.0)"
      ]
     },
     "execution_count": 10,
     "metadata": {},
     "output_type": "execute_result"
    },
    {
     "data": {
      "image/png": "[encoded data removed]",
      "text/plain": [
       "<Figure size 432x288 with 1 Axes>"
      ]
     },
     "metadata": {
      "needs_background": "light"
     },
     "output_type": "display_data"
    }
   ],
   "source": [
    "# plt.scatter(np.unwrap(p_f['PHASE']) - np.unwrap(p_t['PHASE']), p_f['RSSI'] - p_t['RSSI'])\n",
    "# plt.scatter(np.unwrap(p_f['PHASE']) - np.unwrap(p_t1['PHASE']), p_f['RSSI'] - p_t1['RSSI'])\n",
    "# plt.scatter(np.unwrap(p_f['PHASE']) - np.unwrap(p_t2['PHASE']), p_f['RSSI'] - p_t2['RSSI'])\n",
    "plt.scatter(np.unwrap(p_f['PHASE']) - np.unwrap(p_t['PHASE']), p_f['RSSI'] - p_t['RSSI'])\n",
    "plt.scatter(np.unwrap(p_f['PHASE']) - np.unwrap(p_t1['PHASE']), p_f['RSSI'] - p_t1['RSSI'])\n",
    "plt.scatter(np.unwrap(p_f['PHASE']) - np.unwrap(p_t2['PHASE']), p_f['RSSI'] - p_t2['RSSI'])\n",
    "plt.legend(['t', 't1', 't2'])\n",
    "plt.xlim([-6, 6])\n",
    "plt.ylim([-6, 3])"
   ]
  },
  {
   "cell_type": "code",
   "execution_count": 17,
   "metadata": {},
   "outputs": [
    {
     "name": "stdout",
     "output_type": "stream",
     "text": [
      "t ['water' 'water' 'water' 'water' 'water' 'water' 'water' 'water' 'water'\n",
      " 'water' 'water' 'water' 'water' 'water' 'water' 'water' 'water' 'water'\n",
      " 'water' 'water' 'water' 'water' 'water' 'water' 'water' 'water' 'water'\n",
      " 'water' 'water' 'water' 'water' 'water' 'water' 'water' 'water' 'water'\n",
      " 'water' 'water' 'water' 'water' 'water' 'water' 'water' 'water' 'water'\n",
      " 'water' 'water' 'vinegar' 'water' 'water']\n",
      "Correct 0.98\n",
      "-------------------------------\n",
      "t1 ['water' 'water' 'water' 'water' 'water' 'water' 'water' 'water' 'water'\n",
      " 'water' 'water' 'water' 'water' 'water' 'water' 'water' 'water' 'water'\n",
      " 'water' 'water' 'water' 'water' 'water' 'water' 'water' 'water' 'water'\n",
      " 'water' 'water' 'water' 'water' 'water' 'water' 'water' 'water' 'water'\n",
      " 'water' 'water' 'water' 'water' 'water' 'water' 'water' 'water' 'water'\n",
      " 'water' 'water' 'water' 'water' 'water']\n",
      "Correct 1.0\n",
      "-------------------------------\n",
      "t2 ['water' 'water' 'water' 'water' 'water' 'water' 'water' 'water' 'water'\n",
      " 'water' 'water' 'water' 'water' 'water' 'water' 'water' 'water' 'water'\n",
      " 'water' 'water' 'water' 'water' 'water' 'water' 'water' 'water' 'water'\n",
      " 'water' 'water' 'water' 'water' 'water' 'water' 'water' 'water' 'water'\n",
      " 'water' 'water' 'water' 'water' 'water' 'water' 'water' 'water' 'water'\n",
      " 'water' 'water' 'water' 'water' 'water']\n",
      "Correct 1.0\n",
      "-------------------------------\n",
      "149 150 0.9933333333333333\n"
     ]
    },
    {
     "data": {
      "image/png": "[encoded data removed]",
      "text/plain": [
       "<Figure size 432x288 with 1 Axes>"
      ]
     },
     "metadata": {
      "needs_background": "light"
     },
     "output_type": "display_data"
    }
   ],
   "source": [
    "import joblib\n",
    "folder_clean = 'D:\\\\Atom\\\\python\\\\data\\\\cleaned\\\\grill\\\\final'\n",
    "clf = joblib.load('model_all_nopi.joblib')\n",
    "\n",
    "cnt = 0\n",
    "correctcnt = 0\n",
    "\n",
    "ts = ['t', 't1', 't2']\n",
    "for t in ts:\n",
    "    df_f = pd.read_csv(os.path.join(folder_clean, 'd10_water_f_kde.csv'))\n",
    "    df_t = pd.read_csv(os.path.join(folder_clean, 'd10_water_%s_kde.csv' % (t)))\n",
    "    diff_p = np.unwrap(df_f['PHASE']) - np.unwrap(df_t['PHASE'])\n",
    "    diff_r = df_f['RSSI'] - df_t['RSSI']\n",
    "    plt.scatter(diff_p, diff_r)\n",
    "#     result = tree.predict(np.column_stack((diff_p, diff_r, df_t['CHANNEL'])))\n",
    "    result = clf.predict(np.column_stack((diff_p, diff_r)))\n",
    "    print(t, result)\n",
    "    correct = (result=='water').sum()\n",
    "    print('Correct', correct/len(df_f))\n",
    "    cnt += len(df_f)\n",
    "    correctcnt += correct\n",
    "    print('-------------------------------')\n",
    "plt.legend(ts)\n",
    "print(correctcnt, cnt, correctcnt/cnt)"
   ]
  },
  {
   "cell_type": "code",
   "execution_count": null,
   "metadata": {},
   "outputs": [],
   "source": []
  }
 ],
 "metadata": {
  "kernelspec": {
   "display_name": "Python 3",
   "language": "python",
   "name": "python3"
  },
  "language_info": {
   "codemirror_mode": {
    "name": "ipython",
    "version": 3
   },
   "file_extension": ".py",
   "mimetype": "text/x-python",
   "name": "python",
   "nbconvert_exporter": "python",
   "pygments_lexer": "ipython3",
   "version": "3.8.3"
  }
 },
 "nbformat": 4,
 "nbformat_minor": 4
}
