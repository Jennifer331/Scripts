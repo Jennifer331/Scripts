{
 "cells": [
  {
   "cell_type": "code",
   "execution_count": 2,
   "metadata": {},
   "outputs": [],
   "source": [
    "import glob, os\n",
    "\n",
    "folder_clean = 'D:\\\\Atom\\\\python\\\\data\\\\cleaned\\\\grill\\\\final'"
   ]
  },
  {
   "cell_type": "code",
   "execution_count": 4,
   "metadata": {},
   "outputs": [
    {
     "name": "stdout",
     "output_type": "stream",
     "text": [
      "50 50\n",
      "50 50\n",
      "50 50\n",
      "50 50\n",
      "50 50\n",
      "50 50\n"
     ]
    },
    {
     "data": {
      "image/png": "[encoded data removed]",
      "text/plain": [
       "<Figure size 432x288 with 1 Axes>"
      ]
     },
     "metadata": {
      "needs_background": "light"
     },
     "output_type": "display_data"
    }
   ],
   "source": [
    "data = {}\n",
    "\n",
    "p_f = pd.read_csv(os.path.join(folder_clean, 'd11_water_p27_f_kde.csv'))\n",
    "p_t = pd.read_csv(os.path.join(folder_clean, 'd11_water_p27_t_kde.csv'))\n",
    "print(len(p_f), len(p_t))\n",
    "plt.scatter(np.unwrap(p_f['PHASE']) - np.unwrap(p_t['PHASE']), p_f['RSSI'] - p_t['RSSI'])\n",
    "data['water_p27_rssi_f'] = p_f['RSSI'].values\n",
    "data['water_p27_rssi_t'] = p_t['RSSI'].values\n",
    "data['water_p27_phase_f'] = p_f['PHASE'].values\n",
    "data['water_p27_phase_t'] = p_t['PHASE'].values\n",
    "\n",
    "p_f = pd.read_csv(os.path.join(folder_clean, 'd11_water_p30_f_kde.csv'))\n",
    "p_t = pd.read_csv(os.path.join(folder_clean, 'd11_water_p30_t_kde.csv'))\n",
    "print(len(p_f), len(p_t))\n",
    "plt.scatter(np.unwrap(p_f['PHASE']) - np.unwrap(p_t['PHASE']), p_f['RSSI'] - p_t['RSSI'])\n",
    "data['water_p30_rssi_f'] = p_f['RSSI'].values\n",
    "data['water_p30_rssi_t'] = p_t['RSSI'].values\n",
    "data['water_p30_phase_f'] = p_f['PHASE'].values\n",
    "data['water_p30_phase_t'] = p_t['PHASE'].values\n",
    "\n",
    "p_f = pd.read_csv(os.path.join(folder_clean, 'd10_water_f_kde.csv'))\n",
    "p_t = pd.read_csv(os.path.join(folder_clean, 'd10_water_t_kde.csv'))\n",
    "print(len(p_f), len(p_t))\n",
    "plt.scatter(np.unwrap(p_f['PHASE']) - np.unwrap(p_t['PHASE']), p_f['RSSI'] - p_t['RSSI'])\n",
    "data['water_rssi_f'] = p_f['RSSI'].values\n",
    "data['water_rssi_t'] = p_t['RSSI'].values\n",
    "data['water_phase_f'] = p_f['PHASE'].values\n",
    "data['water_phase_t'] = p_t['PHASE'].values\n",
    "\n",
    "\n",
    "p_f = pd.read_csv(os.path.join(folder_clean, 'd11_oil_p27_f_kde.csv'))\n",
    "p_t = pd.read_csv(os.path.join(folder_clean, 'd11_oil_p27_t_kde.csv'))\n",
    "print(len(p_f), len(p_t))\n",
    "plt.scatter(np.unwrap(p_f['PHASE']) - np.unwrap(p_t['PHASE']), p_f['RSSI'] - p_t['RSSI'])\n",
    "data['oil_p27_rssi_f'] = p_f['RSSI'].values\n",
    "data['oil_p27_rssi_t'] = p_t['RSSI'].values\n",
    "data['oil_p27_phase_f'] = p_f['PHASE'].values\n",
    "data['oil_p27_phase_t'] = p_t['PHASE'].values\n",
    "\n",
    "p_f = pd.read_csv(os.path.join(folder_clean, 'd11_oil_p30_f_kde.csv'))\n",
    "p_t = pd.read_csv(os.path.join(folder_clean, 'd11_oil_p30_t_kde.csv'))\n",
    "print(len(p_f), len(p_t))\n",
    "plt.scatter(np.unwrap(p_f['PHASE']) - np.unwrap(p_t['PHASE']), p_f['RSSI'] - p_t['RSSI'])\n",
    "data['oil_p30_rssi_f'] = p_f['RSSI'].values\n",
    "data['oil_p30_rssi_t'] = p_t['RSSI'].values\n",
    "data['oil_p30_phase_f'] = p_f['PHASE'].values\n",
    "data['oil_p30_phase_t'] = p_t['PHASE'].values\n",
    "\n",
    "p_f = pd.read_csv(os.path.join(folder_clean, 'd11_oil_f_kde.csv'))\n",
    "p_t = pd.read_csv(os.path.join(folder_clean, 'd11_oil_t_kde.csv'))\n",
    "print(len(p_f), len(p_t))\n",
    "plt.scatter(np.unwrap(p_f['PHASE']) - np.unwrap(p_t['PHASE']), p_f['RSSI'] - p_t['RSSI'])\n",
    "data['oil_rssi_f'] = p_f['RSSI'].values\n",
    "data['oil_rssi_t'] = p_t['RSSI'].values\n",
    "data['oil_phase_f'] = p_f['PHASE'].values\n",
    "data['oil_phase_t'] = p_t['PHASE'].values\n",
    "\n",
    "plt.legend(['water_p27', 'water_p30', 'water', 'oil_p27', 'oil_p30', 'oil'])\n",
    "\n",
    "import scipy.io\n",
    "scipy.io.savemat('power.mat', data)"
   ]
  },
  {
   "cell_type": "code",
   "execution_count": 9,
   "metadata": {},
   "outputs": [
    {
     "name": "stdout",
     "output_type": "stream",
     "text": [
      "oil _ ['oil' 'oil' 'oil' 'oil' 'oil' 'oil' 'oil' 'oil' 'oil' 'oil' 'oil' 'oil'\n",
      " 'oil' 'oil' 'oil' 'oil' 'oil' 'oil' 'oil' 'oil' 'oil' 'oil' 'oil' 'oil'\n",
      " 'oil' 'oil' 'oil' 'oil' 'oil' 'oil' 'oil' 'oil' 'oil' 'oil' 'oil' 'oil'\n",
      " 'oil' 'oil' 'oil' 'oil' 'oil' 'oil' 'oil' 'oil' 'oil' 'oil' 'oil' 'oil'\n",
      " 'oil' 'oil']\n",
      "Correct 1.0\n",
      "-------------------------------\n",
      "oil _p30_ ['oil' 'oil' 'oil' 'oil' 'oil' 'oil' 'oil' 'oil' 'oil' 'oil' 'oil' 'oil'\n",
      " 'oil' 'oil' 'oil' 'oil' 'oil' 'oil' 'oil' 'oil' 'oil' 'oil' 'oil' 'oil'\n",
      " 'oil' 'oil' 'oil' 'oil' 'oil' 'oil' 'oil' 'oil' 'oil' 'oil' 'oil' 'oil'\n",
      " 'oil' 'oil' 'oil' 'oil' 'oil' 'oil' 'oil' 'oil' 'oil' 'oil' 'oil' 'oil'\n",
      " 'oil' 'oil']\n",
      "Correct 1.0\n",
      "-------------------------------\n",
      "oil _p27_ ['oil' 'oil' 'oil' 'oil' 'oil' 'oil' 'oil' 'oil' 'oil' 'oil' 'oil' 'oil'\n",
      " 'oil' 'oil' 'oil' 'oil' 'oil' 'oil' 'oil' 'oil' 'oil' 'oil' 'oil' 'oil'\n",
      " 'oil' 'oil' 'oil' 'oil' 'oil' 'oil' 'oil' 'oil' 'oil' 'oil' 'oil' 'oil'\n",
      " 'oil' 'oil' 'oil' 'oil' 'oil' 'oil' 'oil' 'oil' 'oil' 'oil' 'oil' 'oil'\n",
      " 'oil' 'oil']\n",
      "Correct 1.0\n",
      "-------------------------------\n",
      "water _ ['water' 'water' 'water' 'water' 'water' 'water' 'water' 'water' 'water'\n",
      " 'water' 'water' 'water' 'water' 'water' 'water' 'water' 'water' 'water'\n",
      " 'water' 'water' 'water' 'water' 'water' 'water' 'water' 'water' 'water'\n",
      " 'water' 'water' 'water' 'water' 'water' 'water' 'water' 'water' 'water'\n",
      " 'water' 'water' 'water' 'water' 'water' 'water' 'water' 'milk' 'water'\n",
      " 'milk' 'milk' 'vinegar' 'milk' 'water']\n",
      "Correct 0.9\n",
      "-------------------------------\n",
      "water _p30_ ['water' 'water' 'water' 'water' 'water' 'water' 'water' 'water' 'water'\n",
      " 'water' 'water' 'water' 'water' 'water' 'water' 'water' 'water' 'water'\n",
      " 'water' 'water' 'water' 'water' 'water' 'water' 'water' 'water' 'water'\n",
      " 'water' 'water' 'water' 'water' 'water' 'water' 'water' 'water' 'water'\n",
      " 'water' 'water' 'water' 'water' 'water' 'water' 'water' 'milk' 'water'\n",
      " 'water' 'water' 'milk' 'milk' 'milk']\n",
      "Correct 0.92\n",
      "-------------------------------\n",
      "water _p27_ ['water' 'water' 'water' 'water' 'water' 'water' 'water' 'water' 'water'\n",
      " 'water' 'water' 'water' 'water' 'water' 'water' 'water' 'water' 'water'\n",
      " 'water' 'water' 'water' 'water' 'water' 'water' 'water' 'water' 'water'\n",
      " 'water' 'water' 'water' 'water' 'water' 'water' 'water' 'water' 'water'\n",
      " 'water' 'water' 'water' 'water' 'water' 'water' 'water' 'milk' 'water'\n",
      " 'water' 'water' 'water' 'milk' 'water']\n",
      "Correct 0.96\n",
      "-------------------------------\n",
      "289 300 0.9633333333333334\n"
     ]
    },
    {
     "data": {
      "image/png": "[encoded data removed]",
      "text/plain": [
       "<Figure size 432x288 with 1 Axes>"
      ]
     },
     "metadata": {
      "needs_background": "light"
     },
     "output_type": "display_data"
    }
   ],
   "source": [
    "import joblib\n",
    "folder_clean = 'D:\\\\Atom\\\\python\\\\data\\\\cleaned\\\\grill\\\\final'\n",
    "clf = joblib.load('model_all.joblib')\n",
    "\n",
    "cnt = 0\n",
    "correctcnt = 0\n",
    "\n",
    "matls = ['oil', 'water']\n",
    "ps = ['_', '_p30_', '_p27_']\n",
    "for matl in matls:\n",
    "    for p in ps:\n",
    "        df_f = pd.read_csv(os.path.join(folder_clean, 'd11_%s%sf_kde.csv' % (matl, p)))\n",
    "        df_t = pd.read_csv(os.path.join(folder_clean, 'd11_%s%st_kde.csv' %(matl, p)))\n",
    "        diff_p = np.unwrap(df_f['PHASE']) - np.unwrap(df_t['PHASE'])\n",
    "        diff_r = df_f['RSSI'] - df_t['RSSI']\n",
    "        plt.scatter(diff_p, diff_r)\n",
    "    #     result = tree.predict(np.column_stack((diff_p, diff_r, df_t['CHANNEL'])))\n",
    "        result = clf.predict(np.column_stack((diff_p, diff_r)))\n",
    "        print(matl, p, result)\n",
    "        correct = (result==matl).sum()\n",
    "        print('Correct', correct/len(df_f))\n",
    "        cnt += len(df_f)\n",
    "        correctcnt += correct\n",
    "        print('-------------------------------')\n",
    "plt.legend(matls)\n",
    "print(correctcnt, cnt, correctcnt/cnt)"
   ]
  },
  {
   "cell_type": "code",
   "execution_count": null,
   "metadata": {},
   "outputs": [],
   "source": []
  }
 ],
 "metadata": {
  "kernelspec": {
   "display_name": "Python 3",
   "language": "python",
   "name": "python3"
  },
  "language_info": {
   "codemirror_mode": {
    "name": "ipython",
    "version": 3
   },
   "file_extension": ".py",
   "mimetype": "text/x-python",
   "name": "python",
   "nbconvert_exporter": "python",
   "pygments_lexer": "ipython3",
   "version": "3.8.3"
  }
 },
 "nbformat": 4,
 "nbformat_minor": 4
}
