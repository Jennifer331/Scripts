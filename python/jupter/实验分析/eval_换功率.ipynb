{
 "cells": [
  {
   "cell_type": "code",
   "execution_count": 2,
   "metadata": {},
   "outputs": [],
   "source": [
    "import glob, os\n",
    "\n",
    "folder_clean = 'D:\\\\Atom\\\\python\\\\data\\\\cleaned\\\\grill\\\\final'"
   ]
  },
  {
   "cell_type": "code",
   "execution_count": 11,
   "metadata": {},
   "outputs": [
    {
     "name": "stdout",
     "output_type": "stream",
     "text": [
      "50 50\n",
      "50 50\n",
      "50 50\n",
      "50 50\n"
     ]
    },
    {
     "data": {
      "text/plain": [
       "<matplotlib.collections.PathCollection at 0x2719d0361f0>"
      ]
     },
     "execution_count": 11,
     "metadata": {},
     "output_type": "execute_result"
    },
    {
     "data": {
      "image/png": "[encoded data removed]",
      "text/plain": [
       "<Figure size 432x288 with 1 Axes>"
      ]
     },
     "metadata": {
      "needs_background": "light"
     },
     "output_type": "display_data"
    }
   ],
   "source": [
    "p_f = pd.read_csv(os.path.join(folder_clean, 'd10_water_p_f_kde.csv'))\n",
    "p_t = pd.read_csv(os.path.join(folder_clean, 'd10_water_p_t_kde.csv'))\n",
    "print(len(p_f), len(p_t))\n",
    "plt.scatter(np.unwrap(p_f['PHASE']) - np.unwrap(p_t['PHASE']), p_f['RSSI'] - p_t['RSSI'])\n",
    "\n",
    "rotate_f = pd.read_csv(os.path.join(folder_clean, 'd10_water_f_kde.csv'))\n",
    "rotate_t = pd.read_csv(os.path.join(folder_clean, 'd10_water_t_kde.csv'))\n",
    "print(len(rotate_f), len(rotate_t))\n",
    "plt.scatter(np.unwrap(rotate_f['PHASE']) - np.unwrap(rotate_t['PHASE']), rotate_f['RSSI'] - rotate_t['RSSI'])\n",
    "\n",
    "p_f = pd.read_csv(os.path.join(folder_clean, 'd10_oil_p_f_kde.csv'))\n",
    "p_t = pd.read_csv(os.path.join(folder_clean, 'd10_oil_p_t_kde.csv'))\n",
    "print(len(p_f), len(p_t))\n",
    "plt.scatter(np.unwrap(p_f['PHASE']) - np.unwrap(p_t['PHASE']), p_f['RSSI'] - p_t['RSSI'])\n",
    "\n",
    "p_f = pd.read_csv(os.path.join(folder_clean, 'd1_oil_f_kde.csv'))\n",
    "p_t = pd.read_csv(os.path.join(folder_clean, 'd1_oil_t_kde.csv'))\n",
    "print(len(p_f), len(p_t))\n",
    "plt.scatter(np.unwrap(p_f['PHASE']) - np.unwrap(p_t['PHASE']), p_f['RSSI'] - p_t['RSSI'])"
   ]
  },
  {
   "cell_type": "markdown",
   "metadata": {},
   "source": [
    "# "
   ]
  }
 ],
 "metadata": {
  "kernelspec": {
   "display_name": "Python 3",
   "language": "python",
   "name": "python3"
  },
  "language_info": {
   "codemirror_mode": {
    "name": "ipython",
    "version": 3
   },
   "file_extension": ".py",
   "mimetype": "text/x-python",
   "name": "python",
   "nbconvert_exporter": "python",
   "pygments_lexer": "ipython3",
   "version": "3.8.3"
  }
 },
 "nbformat": 4,
 "nbformat_minor": 4
}
