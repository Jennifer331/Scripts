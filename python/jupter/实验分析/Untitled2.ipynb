{
 "cells": [
  {
   "cell_type": "code",
   "execution_count": 13,
   "metadata": {},
   "outputs": [],
   "source": [
    "plt.rcParams['font.sans-serif']=['SimHei'] #用来正常显示中文标签\n",
    "plt.rcParams['axes.unicode_minus']=False #用来正常显示负号\n"
   ]
  },
  {
   "cell_type": "code",
   "execution_count": 14,
   "metadata": {},
   "outputs": [
    {
     "name": "stderr",
     "output_type": "stream",
     "text": [
      "<ipython-input-14-bf3bb347c8c3>:13: UserWarning: Legend does not support '实' instances.\n",
      "A proxy artist may be used instead.\n",
      "See: http://matplotlib.org/users/legend_guide.html#creating-artists-specifically-for-adding-to-the-legend-aka-proxy-artists\n",
      "  plt.legend('实际相位', '反折叠相位')\n",
      "<ipython-input-14-bf3bb347c8c3>:13: UserWarning: Legend does not support '际' instances.\n",
      "A proxy artist may be used instead.\n",
      "See: http://matplotlib.org/users/legend_guide.html#creating-artists-specifically-for-adding-to-the-legend-aka-proxy-artists\n",
      "  plt.legend('实际相位', '反折叠相位')\n",
      "<ipython-input-14-bf3bb347c8c3>:13: UserWarning: Legend does not support '相' instances.\n",
      "A proxy artist may be used instead.\n",
      "See: http://matplotlib.org/users/legend_guide.html#creating-artists-specifically-for-adding-to-the-legend-aka-proxy-artists\n",
      "  plt.legend('实际相位', '反折叠相位')\n",
      "<ipython-input-14-bf3bb347c8c3>:13: UserWarning: Legend does not support '位' instances.\n",
      "A proxy artist may be used instead.\n",
      "See: http://matplotlib.org/users/legend_guide.html#creating-artists-specifically-for-adding-to-the-legend-aka-proxy-artists\n",
      "  plt.legend('实际相位', '反折叠相位')\n"
     ]
    },
    {
     "data": {
      "image/png": "[encoded data removed]",
      "text/plain": [
       "<Figure size 432x288 with 1 Axes>"
      ]
     },
     "metadata": {
      "needs_background": "light"
     },
     "output_type": "display_data"
    }
   ],
   "source": [
    "df_unwrap = pd.read_csv('D:\\\\Atom\\\\python\\\\data\\\\cleaned\\\\open\\\\open_oil2_2d_cus_unwrap.csv').groupby('CHANNEL').get_group(902.75)\n",
    "df_wrap = pd.read_csv('D:\\\\Atom\\\\python\\\\data\\\\cleaned\\\\open\\\\open_oil2_kde.csv').groupby('CHANNEL').get_group(902.75)\n",
    "\n",
    "df_wrap = df_wrap[df_wrap['DISTANCE']<120]\n",
    "df_unwrap = df_unwrap[df_unwrap['DISTANCE']<120]\n",
    "\n",
    "# plt.plot(df_wrap['DISTANCE'], df_wrap['PHASE'])\n",
    "# plt.plot(df_unwrap['DISTANCE'], df_unwrap['PHASE'])\n",
    "# plt.show()\n",
    "\n",
    "plt.scatter(df_wrap['DISTANCE'], df_wrap['PHASE'], s=10)\n",
    "plt.plot(df_unwrap['DISTANCE'], df_unwrap['PHASE'], c='black')\n",
    "plt.legend('实际相位', '反折叠相位')\n",
    "plt.xlabel('距离/（cm）')\n",
    "plt.ylabel('相位/（rad）')\n",
    "\n",
    "plt.show()"
   ]
  },
  {
   "cell_type": "code",
   "execution_count": null,
   "metadata": {},
   "outputs": [],
   "source": []
  }
 ],
 "metadata": {
  "kernelspec": {
   "display_name": "Python 3",
   "language": "python",
   "name": "python3"
  },
  "language_info": {
   "codemirror_mode": {
    "name": "ipython",
    "version": 3
   },
   "file_extension": ".py",
   "mimetype": "text/x-python",
   "name": "python",
   "nbconvert_exporter": "python",
   "pygments_lexer": "ipython3",
   "version": "3.8.3"
  }
 },
 "nbformat": 4,
 "nbformat_minor": 4
}
