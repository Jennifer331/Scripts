{
 "cells": [
  {
   "cell_type": "code",
   "execution_count": 2,
   "metadata": {},
   "outputs": [],
   "source": [
    "import glob, os\n",
    "\n",
    "folder_clean = 'D:\\\\Atom\\\\python\\\\data\\\\cleaned\\\\grill\\\\final'\n",
    "\n",
    "data = {}\n",
    "\n",
    "d_f = pd.read_csv(os.path.join(folder_clean, 'd6_vinegar_f_kde.csv'))\n",
    "d_t = pd.read_csv(os.path.join(folder_clean, 'd6_vinegar_t_kde.csv'))\n",
    "data['v_rssi_f'] = d_f['RSSI'].values\n",
    "data['v_rssi_t'] = d_t['RSSI'].values\n",
    "data['v_phase_f'] = d_f['PHASE'].values\n",
    "data['v_phase_t'] = d_t['PHASE'].values\n",
    "\n",
    "import scipy.io\n",
    "scipy.io.savemat('vinegar.mat',data)"
   ]
  },
  {
   "cell_type": "code",
   "execution_count": 8,
   "metadata": {},
   "outputs": [],
   "source": [
    "\n",
    "import os\n",
    "folder_clean = 'D:\\\\Atom\\\\python\\\\data\\\\cleaned\\\\grill\\\\final'\n",
    "\n",
    "def getdata(matls, dists):  \n",
    "    data = {}\n",
    "    for matl in matls:\n",
    "        for d in dists:\n",
    "            d_f = pd.read_csv(os.path.join(folder_clean, 'd%d_%s_f_kde.csv') % (d, matl))\n",
    "            d_t = pd.read_csv(os.path.join(folder_clean, 'd%d_%s_t_kde.csv') % (d, matl))\n",
    "            print(matl, d, len(d_f), len(d_t))\n",
    "            plt.scatter(np.unwrap(d_f['PHASE']) - np.unwrap(d_t['PHASE']), d_f['RSSI'] - d_t['RSSI'])\n",
    "            data['d%d_%s_rssi_f' % (d, matl)] = d_f['RSSI'].values\n",
    "            data['d%d_%s_rssi_t' % (d, matl)] = d_t['RSSI'].values\n",
    "            data['d%d_%s_phase_f' % (d, matl)] = d_f['PHASE'].values\n",
    "            data['d%d_%s_phase_t' % (d, matl)] = d_t['PHASE'].values\n",
    "    return data\n",
    "\n",
    "import scipy.io\n",
    "def export(filename, data):\n",
    "    scipy.io.savemat('%s.mat' % filename, data)"
   ]
  },
  {
   "cell_type": "code",
   "execution_count": 9,
   "metadata": {},
   "outputs": [],
   "source": []
  },
  {
   "cell_type": "code",
   "execution_count": 12,
   "metadata": {},
   "outputs": [
    {
     "name": "stdout",
     "output_type": "stream",
     "text": [
      "water 101 50 50\n",
      "water 102 50 50\n",
      "water 103 50 50\n",
      "water 104 50 50\n",
      "water 105 50 50\n",
      "oil 101 50 50\n",
      "oil 102 50 50\n",
      "oil 103 50 50\n",
      "oil 104 50 50\n",
      "oil 105 50 50\n",
      "water 10 50 50\n",
      "oil 11 50 50\n"
     ]
    },
    {
     "data": {
      "image/png": "[encoded data removed]",
      "text/plain": [
       "<Figure size 432x288 with 1 Axes>"
      ]
     },
     "metadata": {
      "needs_background": "light"
     },
     "output_type": "display_data"
    }
   ],
   "source": [
    "data1 = getdata(['water', 'oil'], [101, 102, 103, 104, 105])\n",
    "data2 = getdata(['water'], [10])\n",
    "data3 = getdata(['oil'], [11])\n",
    "export('angle', {**data1, **data2, **data3})"
   ]
  },
  {
   "cell_type": "code",
   "execution_count": null,
   "metadata": {},
   "outputs": [],
   "source": []
  }
 ],
 "metadata": {
  "kernelspec": {
   "display_name": "Python 3",
   "language": "python",
   "name": "python3"
  },
  "language_info": {
   "codemirror_mode": {
    "name": "ipython",
    "version": 3
   },
   "file_extension": ".py",
   "mimetype": "text/x-python",
   "name": "python",
   "nbconvert_exporter": "python",
   "pygments_lexer": "ipython3",
   "version": "3.8.3"
  }
 },
 "nbformat": 4,
 "nbformat_minor": 4
}
