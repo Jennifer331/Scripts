{
 "cells": [
  {
   "cell_type": "code",
   "execution_count": 2,
   "metadata": {},
   "outputs": [],
   "source": [
    "import glob, os\n",
    "\n",
    "folder_clean = 'D:\\\\Atom\\\\python\\\\data\\\\cleaned\\\\grill\\\\final'\n",
    "\n",
    "data = {}\n",
    "\n",
    "d_f = pd.read_csv(os.path.join(folder_clean, 'd6_vinegar_f_kde.csv'))\n",
    "d_t = pd.read_csv(os.path.join(folder_clean, 'd6_vinegar_t_kde.csv'))\n",
    "data['v_rssi_f'] = d_f['RSSI'].values\n",
    "data['v_rssi_t'] = d_t['RSSI'].values\n",
    "data['v_phase_f'] = d_f['PHASE'].values\n",
    "data['v_phase_t'] = d_t['PHASE'].values\n",
    "\n",
    "import scipy.io\n",
    "scipy.io.savemat('vinegar.mat',data)"
   ]
  },
  {
   "cell_type": "code",
   "execution_count": null,
   "metadata": {},
   "outputs": [],
   "source": []
  }
 ],
 "metadata": {
  "kernelspec": {
   "display_name": "Python 3",
   "language": "python",
   "name": "python3"
  },
  "language_info": {
   "codemirror_mode": {
    "name": "ipython",
    "version": 3
   },
   "file_extension": ".py",
   "mimetype": "text/x-python",
   "name": "python",
   "nbconvert_exporter": "python",
   "pygments_lexer": "ipython3",
   "version": "3.8.3"
  }
 },
 "nbformat": 4,
 "nbformat_minor": 4
}
