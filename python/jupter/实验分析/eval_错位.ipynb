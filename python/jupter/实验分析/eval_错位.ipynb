{
 "cells": [
  {
   "cell_type": "code",
   "execution_count": 2,
   "metadata": {},
   "outputs": [
    {
     "name": "stdout",
     "output_type": "stream",
     "text": [
      "50 50\n"
     ]
    },
    {
     "data": {
      "text/plain": [
       "<matplotlib.legend.Legend at 0x1585a22a250>"
      ]
     },
     "execution_count": 2,
     "metadata": {},
     "output_type": "execute_result"
    },
    {
     "data": {
      "image/png": "[encoded data removed]",
      "text/plain": [
       "<Figure size 432x288 with 1 Axes>"
      ]
     },
     "metadata": {
      "needs_background": "light"
     },
     "output_type": "display_data"
    }
   ],
   "source": [
    "import glob, os\n",
    "folder_clean = 'D:\\\\Atom\\\\python\\\\data\\\\cleaned\\\\grill\\\\final'\n",
    "\n",
    "data = {}\n",
    "\n",
    "p_f = pd.read_csv(os.path.join(folder_clean, 'd10_water_f_kde.csv'))\n",
    "p_t2 = pd.read_csv(os.path.join(folder_clean, 'd10_water_t2_kde.csv'))\n",
    "p_t1 = pd.read_csv(os.path.join(folder_clean, 'd10_water_t1_kde.csv'))\n",
    "p_t = pd.read_csv(os.path.join(folder_clean, 'd10_water_t_kde.csv'))\n",
    "\n",
    "data['water_rssi_f'] = p_f['RSSI'].values\n",
    "data['water_phase_f'] = p_f['PHASE'].values\n",
    "data['water_rssi_t'] = p_t['RSSI'].values\n",
    "data['water_phase_t'] = p_t['PHASE'].values\n",
    "\n",
    "data['water_rssi_t1'] = p_t1['RSSI'].values\n",
    "data['water_phase_t1'] = p_t1['PHASE'].values\n",
    "data['water_rssi_t2'] = p_t2['RSSI'].values\n",
    "data['water_phase_t2'] = p_t2['PHASE'].values\n",
    "\n",
    "import scipy.io\n",
    "scipy.io.savemat('tailvar.mat', data)\n",
    "\n",
    "plt.scatter(np.unwrap(p_f['PHASE']) - np.unwrap(p_t2['PHASE']), p_f['RSSI'] - p_t2['RSSI'])\n",
    "plt.scatter(np.unwrap(p_f['PHASE']) - np.unwrap(p_t1['PHASE']), p_f['RSSI'] - p_t1['RSSI'])\n",
    "plt.scatter(np.unwrap(p_f['PHASE']) - np.unwrap(p_t['PHASE']), p_f['RSSI'] - p_t['RSSI'])\n",
    "\n",
    "\n",
    "p_f = pd.read_csv(os.path.join(folder_clean, 'd1_oil_f_kde.csv'))\n",
    "p_t = pd.read_csv(os.path.join(folder_clean, 'd1_oil_t_kde.csv'))\n",
    "print(len(p_f), len(p_t))\n",
    "plt.scatter(np.unwrap(p_f['PHASE']) - np.unwrap(p_t['PHASE']), p_f['RSSI'] - p_t['RSSI'])\n",
    "\n",
    "plt.legend(['t2', 't1', 't', 'oil'])"
   ]
  },
  {
   "cell_type": "code",
   "execution_count": 11,
   "metadata": {
    "collapsed": true,
    "jupyter": {
     "outputs_hidden": true
    }
   },
   "outputs": [
    {
     "data": {
      "text/plain": [
       "<matplotlib.legend.Legend at 0x239edaa60a0>"
      ]
     },
     "execution_count": 11,
     "metadata": {},
     "output_type": "execute_result"
    },
    {
     "data": {
      "image/png": "[encoded data removed]",
      "text/plain": [
       "<Figure size 432x288 with 1 Axes>"
      ]
     },
     "metadata": {
      "needs_background": "light"
     },
     "output_type": "display_data"
    }
   ],
   "source": [
    "plt.scatter(p_f['CHANNEL'], np.unwrap(p_f['PHASE']))\n",
    "plt.scatter(p_f['CHANNEL'], np.unwrap(p_t['PHASE']))\n",
    "plt.scatter(p_f['CHANNEL'], np.unwrap(p_t1['PHASE']))\n",
    "plt.scatter(p_f['CHANNEL'], np.unwrap(p_t2['PHASE']))\n",
    "\n",
    "plt.legend(['f', 't', 't1', 't2'])"
   ]
  },
  {
   "cell_type": "code",
   "execution_count": 24,
   "metadata": {},
   "outputs": [
    {
     "data": {
      "text/plain": [
       "<matplotlib.collections.PathCollection at 0x239eebf7850>"
      ]
     },
     "execution_count": 24,
     "metadata": {},
     "output_type": "execute_result"
    },
    {
     "data": {
      "image/png": "[encoded data removed]",
      "text/plain": [
       "<Figure size 432x288 with 1 Axes>"
      ]
     },
     "metadata": {
      "needs_background": "light"
     },
     "output_type": "display_data"
    }
   ],
   "source": [
    "d_p = np.unwrap(p_f['PHASE']) - np.unwrap(p_t2['PHASE'])\n",
    "d_r = p_f['RSSI'] - p_t2['RSSI']\n",
    "plt.scatter(d_p, d_r)"
   ]
  },
  {
   "cell_type": "code",
   "execution_count": 13,
   "metadata": {
    "collapsed": true,
    "jupyter": {
     "outputs_hidden": true
    }
   },
   "outputs": [
    {
     "data": {
      "text/plain": [
       "0    -5.500000\n",
       "1    -6.005025\n",
       "2    -6.500000\n",
       "3    -6.002513\n",
       "4    -6.494975\n",
       "5    -6.000000\n",
       "6    -6.000000\n",
       "7    -6.997487\n",
       "8    -7.500000\n",
       "9    -6.505025\n",
       "10   -6.500000\n",
       "11   -6.500000\n",
       "12   -7.000000\n",
       "13   -7.500000\n",
       "14   -7.502513\n",
       "15   -7.497487\n",
       "16   -7.000000\n",
       "17   -7.002513\n",
       "18   -7.002513\n",
       "19   -7.000000\n",
       "20   -7.000000\n",
       "21   -7.002513\n",
       "22   -7.002513\n",
       "23   -7.002513\n",
       "24   -6.989950\n",
       "25   -6.007538\n",
       "26   -5.997487\n",
       "27   -6.500000\n",
       "28   -6.500000\n",
       "29   -6.497487\n",
       "30   -5.505025\n",
       "31   -5.002513\n",
       "32   -4.994975\n",
       "33   -5.002513\n",
       "34   -5.000000\n",
       "35   -5.000000\n",
       "36   -4.500000\n",
       "37   -3.505025\n",
       "38   -3.500000\n",
       "39   -4.000000\n",
       "40   -4.000000\n",
       "41   -4.000000\n",
       "42   -3.500000\n",
       "43   -2.502513\n",
       "44   -3.000000\n",
       "45   -3.502513\n",
       "46   -3.500000\n",
       "47   -3.000000\n",
       "48   -3.000000\n",
       "49   -2.500000\n",
       "Name: RSSI, dtype: float64"
      ]
     },
     "execution_count": 13,
     "metadata": {},
     "output_type": "execute_result"
    }
   ],
   "source": []
  },
  {
   "cell_type": "code",
   "execution_count": 15,
   "metadata": {},
   "outputs": [
    {
     "ename": "NameError",
     "evalue": "name 'd_p' is not defined",
     "output_type": "error",
     "traceback": [
      "\u001b[1;31m---------------------------------------------------------------------------\u001b[0m",
      "\u001b[1;31mNameError\u001b[0m                                 Traceback (most recent call last)",
      "\u001b[1;32m<ipython-input-15-9c6982272a37>\u001b[0m in \u001b[0;36m<module>\u001b[1;34m\u001b[0m\n\u001b[1;32m----> 1\u001b[1;33m \u001b[0mplt\u001b[0m\u001b[1;33m.\u001b[0m\u001b[0mscatter\u001b[0m\u001b[1;33m(\u001b[0m\u001b[0md_p\u001b[0m\u001b[1;33m,\u001b[0m \u001b[0md_r\u001b[0m\u001b[1;33m)\u001b[0m\u001b[1;33m\u001b[0m\u001b[1;33m\u001b[0m\u001b[0m\n\u001b[0m",
      "\u001b[1;31mNameError\u001b[0m: name 'd_p' is not defined"
     ]
    }
   ],
   "source": []
  },
  {
   "cell_type": "code",
   "execution_count": 30,
   "metadata": {},
   "outputs": [
    {
     "data": {
      "text/plain": [
       "<matplotlib.legend.Legend at 0x239eefca160>"
      ]
     },
     "execution_count": 30,
     "metadata": {},
     "output_type": "execute_result"
    },
    {
     "data": {
      "image/png": "[encoded data removed]",
      "text/plain": [
       "<Figure size 432x288 with 1 Axes>"
      ]
     },
     "metadata": {
      "needs_background": "light"
     },
     "output_type": "display_data"
    }
   ],
   "source": [
    "import glob, os\n",
    "folder_clean = 'D:\\\\Atom\\\\python\\\\data\\\\cleaned\\\\grill\\\\final'\n",
    "\n",
    "p_f = pd.read_csv(os.path.join(folder_clean, 'd10_water_f_kde.csv'))\n",
    "p_t = pd.read_csv(os.path.join(folder_clean, 'd10_water_t_kde.csv'))\n",
    "p_t1 = pd.read_csv(os.path.join(folder_clean, 'd10_water_t1_kde.csv'))\n",
    "p_t2 = pd.read_csv(os.path.join(folder_clean, 'd10_water_t2_kde.csv'))\n",
    "\n",
    "plt.scatter(d_f['CHANNEL'], d_f['PHASE'])\n",
    "plt.scatter(d_f['CHANNEL'], d_t['PHASE'])\n",
    "plt.scatter(d_f['CHANNEL'], d_t1['PHASE'])\n",
    "plt.scatter(d_f['CHANNEL'], d_t2['PHASE'])\n",
    "\n",
    "\n",
    "plt.scatter(d_f['CHANNEL'], np.unwrap(d_f['PHASE']))\n",
    "plt.scatter(d_f['CHANNEL'], np.unwrap(d_t['PHASE']))\n",
    "plt.scatter(d_f['CHANNEL'], np.unwrap(d_t1['PHASE']))\n",
    "plt.scatter(d_f['CHANNEL'], np.unwrap(d_t2['PHASE']))\n",
    "\n",
    "plt.legend(['f', 't', 't1', 't2'])"
   ]
  },
  {
   "cell_type": "code",
   "execution_count": 31,
   "metadata": {},
   "outputs": [
    {
     "data": {
      "text/plain": [
       "<matplotlib.legend.Legend at 0x239ef032e50>"
      ]
     },
     "execution_count": 31,
     "metadata": {},
     "output_type": "execute_result"
    },
    {
     "data": {
      "image/png": "[encoded data removed]",
      "text/plain": [
       "<Figure size 432x288 with 1 Axes>"
      ]
     },
     "metadata": {
      "needs_background": "light"
     },
     "output_type": "display_data"
    }
   ],
   "source": [
    "import glob, os\n",
    "folder_clean = 'D:\\\\Atom\\\\python\\\\data\\\\cleaned\\\\grill\\\\final'\n",
    "\n",
    "p_f = pd.read_csv(os.path.join(folder_clean, 'd10_water_f_kde.csv'))\n",
    "p_t = pd.read_csv(os.path.join(folder_clean, 'd10_water_t_kde.csv'))\n",
    "p_t1 = pd.read_csv(os.path.join(folder_clean, 'd10_water_t1_kde.csv'))\n",
    "p_t2 = pd.read_csv(os.path.join(folder_clean, 'd10_water_t2_kde.csv'))\n",
    "\n",
    "plt.scatter(d_f['CHANNEL'], d_f['RSSI'])\n",
    "plt.scatter(d_f['CHANNEL'], d_t['RSSI'])\n",
    "plt.scatter(d_f['CHANNEL'], d_t1['RSSI'])\n",
    "plt.scatter(d_f['CHANNEL'], d_t2['RSSI'])\n",
    "\n",
    "\n",
    "plt.legend(['f', 't', 't1', 't2'])"
   ]
  },
  {
   "cell_type": "code",
   "execution_count": 10,
   "metadata": {},
   "outputs": [
    {
     "name": "stdout",
     "output_type": "stream",
     "text": [
      "t ['water' 'water' 'water' 'water' 'water' 'water' 'water' 'water' 'water'\n",
      " 'water' 'water' 'water' 'water' 'water' 'water' 'water' 'water' 'water'\n",
      " 'water' 'water' 'water' 'water' 'water' 'water' 'water' 'water' 'water'\n",
      " 'water' 'water' 'water' 'water' 'water' 'water' 'water' 'water' 'water'\n",
      " 'water' 'water' 'water' 'water' 'water' 'water' 'water' 'milk' 'water'\n",
      " 'milk' 'milk' 'vinegar' 'milk' 'water']\n",
      "Correct 0.9\n",
      "-------------------------------\n",
      "t1 ['milk' 'milk' 'milk' 'milk' 'milk' 'milk' 'milk' 'milk' 'milk' 'milk'\n",
      " 'milk' 'milk' 'milk' 'milk' 'milk' 'milk' 'milk' 'milk' 'milk' 'milk'\n",
      " 'milk' 'milk' 'milk' 'milk' 'milk' 'milk' 'milk' 'milk' 'milk' 'milk'\n",
      " 'milk' 'milk' 'milk' 'milk' 'milk' 'milk' 'milk' 'milk' 'milk' 'milk'\n",
      " 'milk' 'milk' 'milk' 'milk' 'milk' 'milk' 'milk' 'milk' 'milk' 'milk']\n",
      "Correct 0.0\n",
      "-------------------------------\n",
      "t2 ['oil' 'oil' 'oil' 'oil' 'oil' 'oil' 'oil' 'oil' 'oil' 'oil' 'oil' 'oil'\n",
      " 'oil' 'oil' 'oil' 'oil' 'oil' 'oil' 'oil' 'oil' 'milk' 'milk' 'milk'\n",
      " 'oil' 'oil' 'milk' 'milk' 'oil' 'oil' 'oil' 'oil' 'oil' 'oil' 'oil' 'oil'\n",
      " 'oil' 'oil' 'oil' 'oil' 'oil' 'oil' 'oil' 'oil' 'oil' 'oil' 'oil' 'oil'\n",
      " 'oil' 'oil' 'oil']\n",
      "Correct 0.0\n",
      "-------------------------------\n",
      "45 150 0.3\n"
     ]
    },
    {
     "data": {
      "image/png": "[encoded data removed]",
      "text/plain": [
       "<Figure size 432x288 with 1 Axes>"
      ]
     },
     "metadata": {
      "needs_background": "light"
     },
     "output_type": "display_data"
    }
   ],
   "source": [
    "import joblib\n",
    "folder_clean = 'D:\\\\Atom\\\\python\\\\data\\\\cleaned\\\\grill\\\\final'\n",
    "clf = joblib.load('model_all.joblib')\n",
    "\n",
    "cnt = 0\n",
    "correctcnt = 0\n",
    "\n",
    "df_f = pd.read_csv(os.path.join(folder_clean, 'd10_water_f_kde.csv'))\n",
    "tails = ['t', 't1', 't2']\n",
    "for t in tails:\n",
    "    df_t = pd.read_csv(os.path.join(folder_clean, 'd10_water_%s_kde.csv' % t))\n",
    "    diff_p = np.unwrap(df_f['PHASE']) - np.unwrap(df_t['PHASE'])\n",
    "    diff_r = df_f['RSSI'] - df_t['RSSI']\n",
    "    plt.scatter(diff_p, diff_r)\n",
    "#     result = tree.predict(np.column_stack((diff_p, diff_r, df_t['CHANNEL'])))\n",
    "    result = clf.predict(np.column_stack((diff_p, diff_r)))\n",
    "    print(t, result)\n",
    "    correct = (result=='water').sum()\n",
    "    print('Correct', correct/len(df_f))\n",
    "    cnt += len(df_f)\n",
    "    correctcnt += correct\n",
    "    print('-------------------------------')\n",
    "plt.legend(tails)\n",
    "print(correctcnt, cnt, correctcnt/cnt)"
   ]
  },
  {
   "cell_type": "code",
   "execution_count": null,
   "metadata": {},
   "outputs": [],
   "source": []
  }
 ],
 "metadata": {
  "kernelspec": {
   "display_name": "Python 3",
   "language": "python",
   "name": "python3"
  },
  "language_info": {
   "codemirror_mode": {
    "name": "ipython",
    "version": 3
   },
   "file_extension": ".py",
   "mimetype": "text/x-python",
   "name": "python",
   "nbconvert_exporter": "python",
   "pygments_lexer": "ipython3",
   "version": "3.8.3"
  }
 },
 "nbformat": 4,
 "nbformat_minor": 4
}
