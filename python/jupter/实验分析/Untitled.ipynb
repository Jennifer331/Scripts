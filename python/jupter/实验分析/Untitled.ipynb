{
 "cells": [
  {
   "cell_type": "code",
   "execution_count": 32,
   "metadata": {},
   "outputs": [
    {
     "name": "stdout",
     "output_type": "stream",
     "text": [
      "31 31 31 31\n"
     ]
    }
   ],
   "source": [
    "d = 33\n",
    "f = 902.75\n",
    "\n",
    "df_e = pd.read_csv('D:\\\\Atom\\\\python\\\\data\\\\cleaned\\\\open\\\\open_empty_2d_cus_unwrap.csv')\n",
    "df_e = df_e[df_e['DISTANCE']<=120]\n",
    "e_d = df_e.groupby('CHANNEL').get_group(902.75)['PHASE'].values\n",
    "e_f = df_e.groupby('DISTANCE').get_group(d)['PHASE'].values\n",
    "\n",
    "df_o = pd.read_csv('D:\\\\Atom\\\\python\\\\data\\\\cleaned\\\\open\\\\open_oil2_2d_cus_unwrap.csv')\n",
    "df_o = df_o[df_o['DISTANCE']<=120]\n",
    "o_d = df_o.groupby('CHANNEL').get_group(902.75)['PHASE'].values\n",
    "## 缺69cm处的数据，第13个元素\n",
    "o_d = np.insert(o_d, 13, np.nan)\n",
    "o_f = df_o.groupby('DISTANCE').get_group(d)['PHASE'].values\n",
    "\n",
    "df_v = pd.read_csv('D:\\\\Atom\\\\python\\\\data\\\\cleaned\\\\open\\\\open_vinegar_2d_cus_unwrap.csv')\n",
    "df_v = df_v[df_v['DISTANCE']<=120]\n",
    "v_d = df_v.groupby('CHANNEL').get_group(902.75)['PHASE'].values\n",
    "v_f = df_v.groupby('DISTANCE').get_group(d)['PHASE'].values\n",
    "\n",
    "df_w = pd.read_csv('D:\\\\Atom\\\\python\\\\data\\\\cleaned\\\\open\\\\open_water_2d_cus_unwrap.csv')\n",
    "df_w = df_w[df_w['DISTANCE']<=120]\n",
    "w_d = df_w.groupby('CHANNEL').get_group(902.75)['PHASE'].values\n",
    "w_f = df_w.groupby('DISTANCE').get_group(d)['PHASE'].values\n",
    "\n",
    "print(len(e_d), len(o_d), len(v_d), len(w_d))\n",
    "import scipy.io\n",
    "scipy.io.savemat('phase.mat', {'e_d': e_d, 'e_f': e_f, 'o_d': o_d, 'o_f': o_f, 'v_d': v_d, 'v_f': v_f, 'w_d': w_d, 'w_f': w_f})"
   ]
  },
  {
   "cell_type": "code",
   "execution_count": 25,
   "metadata": {},
   "outputs": [
    {
     "data": {
      "text/plain": [
       "{69.0}"
      ]
     },
     "execution_count": 25,
     "metadata": {},
     "output_type": "execute_result"
    }
   ],
   "source": [
    "set(df_e['DISTANCE'].unique()) ^ set(df_o['DISTANCE'].unique())"
   ]
  },
  {
   "cell_type": "code",
   "execution_count": 31,
   "metadata": {},
   "outputs": [
    {
     "ename": "ValueError",
     "evalue": "operands could not be broadcast together with shapes (13,) (17,) ",
     "output_type": "error",
     "traceback": [
      "\u001b[1;31m---------------------------------------------------------------------------\u001b[0m",
      "\u001b[1;31mValueError\u001b[0m                                Traceback (most recent call last)",
      "\u001b[1;32m<ipython-input-31-6234a5dfbf8d>\u001b[0m in \u001b[0;36m<module>\u001b[1;34m\u001b[0m\n\u001b[1;32m----> 1\u001b[1;33m \u001b[0mo_d\u001b[0m \u001b[1;33m=\u001b[0m \u001b[0mo_d\u001b[0m\u001b[1;33m[\u001b[0m\u001b[1;36m0\u001b[0m\u001b[1;33m:\u001b[0m\u001b[1;36m13\u001b[0m\u001b[1;33m]\u001b[0m \u001b[1;33m+\u001b[0m \u001b[1;33m[\u001b[0m\u001b[0mnp\u001b[0m\u001b[1;33m.\u001b[0m\u001b[0mnan\u001b[0m\u001b[1;33m]\u001b[0m \u001b[1;33m+\u001b[0m \u001b[0mo_d\u001b[0m\u001b[1;33m[\u001b[0m\u001b[1;36m13\u001b[0m\u001b[1;33m:\u001b[0m\u001b[1;33m]\u001b[0m\u001b[1;33m\u001b[0m\u001b[1;33m\u001b[0m\u001b[0m\n\u001b[0m",
      "\u001b[1;31mValueError\u001b[0m: operands could not be broadcast together with shapes (13,) (17,) "
     ]
    }
   ],
   "source": [
    "o_d = o_d[0:13] + [np.nan] + o_d[13:]"
   ]
  },
  {
   "cell_type": "code",
   "execution_count": 14,
   "metadata": {},
   "outputs": [
    {
     "data": {
      "text/plain": [
       "<matplotlib.legend.Legend at 0x24566c85100>"
      ]
     },
     "execution_count": 14,
     "metadata": {},
     "output_type": "execute_result"
    },
    {
     "data": {
      "image/png": "[encoded data removed]",
      "text/plain": [
       "<Figure size 432x288 with 1 Axes>"
      ]
     },
     "metadata": {
      "needs_background": "light"
     },
     "output_type": "display_data"
    }
   ],
   "source": [
    "g = df_e.groupby('CHANNEL').get_group(902.75)\n",
    "\n",
    "plt.scatter(df_e['DISTANCE'], df_e['PHASE'])\n",
    "plt.scatter(df_o['DISTANCE'], df_o['PHASE'])\n",
    "plt.scatter(df_v['DISTANCE'], df_v['PHASE'])\n",
    "plt.scatter(df_w['DISTANCE'], df_w['PHASE'])\n",
    "\n",
    "plt.legend(['e', 'o', 'v', 'w'])"
   ]
  },
  {
   "cell_type": "code",
   "execution_count": null,
   "metadata": {},
   "outputs": [],
   "source": []
  }
 ],
 "metadata": {
  "kernelspec": {
   "display_name": "Python 3",
   "language": "python",
   "name": "python3"
  },
  "language_info": {
   "codemirror_mode": {
    "name": "ipython",
    "version": 3
   },
   "file_extension": ".py",
   "mimetype": "text/x-python",
   "name": "python",
   "nbconvert_exporter": "python",
   "pygments_lexer": "ipython3",
   "version": "3.8.3"
  }
 },
 "nbformat": 4,
 "nbformat_minor": 4
}
