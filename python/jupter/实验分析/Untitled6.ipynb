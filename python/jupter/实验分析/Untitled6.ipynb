{
 "cells": [
  {
   "cell_type": "code",
   "execution_count": 6,
   "metadata": {},
   "outputs": [],
   "source": [
    "# 制备500mL的特定浓度的酒精溶剂需要水和95%浓度酒精的重量\n",
    "# 水的密度997 kg/m3\n",
    "# 95% 酒精的密度 800kg/m3\n",
    "# volume in mL\n",
    "def weight(concentration, volume=500):\n",
    "    etoh_volume = volume * 10**-6 * concentration / 0.95\n",
    "    etoh_weight = etoh_volume * 800 * 1000 # kg to g\n",
    "    \n",
    "    water_volume = volume * 10**-6 * (1 - concentration) - etoh_volume * 0.05\n",
    "    water_weight = water_volume * 997 * 1000 # kg to g\n",
    "       \n",
    "    return water_weight, etoh_weight"
   ]
  },
  {
   "cell_type": "code",
   "execution_count": 3,
   "metadata": {},
   "outputs": [
    {
     "name": "stdout",
     "output_type": "stream",
     "text": [
      "(124.625, 315.7894736842106)\n"
     ]
    }
   ],
   "source": [
    "print(weight(0.75))"
   ]
  },
  {
   "cell_type": "code",
   "execution_count": 4,
   "metadata": {},
   "outputs": [
    {
     "name": "stdout",
     "output_type": "stream",
     "text": [
      "(249.25, 210.52631578947367)\n"
     ]
    }
   ],
   "source": [
    "print(weight(0.5))"
   ]
  },
  {
   "cell_type": "code",
   "execution_count": 5,
   "metadata": {},
   "outputs": [
    {
     "name": "stdout",
     "output_type": "stream",
     "text": [
      "(373.875, 105.26315789473684)\n"
     ]
    }
   ],
   "source": [
    "print(weight(0.25))"
   ]
  },
  {
   "cell_type": "code",
   "execution_count": 7,
   "metadata": {},
   "outputs": [
    {
     "name": "stdout",
     "output_type": "stream",
     "text": [
      "(2.02678043619009e-14, 400.0)\n"
     ]
    }
   ],
   "source": [
    "print(weight(0.95))"
   ]
  },
  {
   "cell_type": "code",
   "execution_count": null,
   "metadata": {},
   "outputs": [],
   "source": []
  }
 ],
 "metadata": {
  "kernelspec": {
   "display_name": "Python 3",
   "language": "python",
   "name": "python3"
  },
  "language_info": {
   "codemirror_mode": {
    "name": "ipython",
    "version": 3
   },
   "file_extension": ".py",
   "mimetype": "text/x-python",
   "name": "python",
   "nbconvert_exporter": "python",
   "pygments_lexer": "ipython3",
   "version": "3.8.3"
  }
 },
 "nbformat": 4,
 "nbformat_minor": 4
}
