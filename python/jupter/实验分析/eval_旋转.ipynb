{
 "cells": [
  {
   "cell_type": "code",
   "execution_count": 16,
   "metadata": {},
   "outputs": [
    {
     "data": {
      "image/png": "[encoded data removed]",
      "text/plain": [
       "<Figure size 432x288 with 1 Axes>"
      ]
     },
     "metadata": {
      "needs_background": "light"
     },
     "output_type": "display_data"
    }
   ],
   "source": [
    "import os\n",
    "import sys\n",
    "\n",
    "sys.path.extend(['d:\\\\atom\\\\python'])\n",
    "\n",
    "import data_manager as dm\n",
    "import clean_data as cleaner\n",
    "\n",
    "folder = 'D:\\\\Atom\\\\exp\\\\20210411'\n",
    "ds = [101, 102, 103, 104, 105]\n",
    "\n",
    "data = {}\n",
    "## water\n",
    "for d in ds:\n",
    "    df_f = dm.import_from_file(os.path.join(folder, 'd%d_water_f.csv' % d), dm.epc_water)\n",
    "    df_t = dm.import_from_file(os.path.join(folder, 'd%d_water_t.csv' % d), dm.epc_water)\n",
    "    df_f = cleaner.kde_peak(df_f)\n",
    "    df_t = cleaner.kde_peak(df_t)\n",
    "    plt.scatter(np.unwrap(df_f['PHASE'] - np.unwrap(df_t['PHASE'])), df_f['RSSI'] - df_t['RSSI'])\n",
    "    data['water_%d_p' % d] = np.unwrap(df_f['PHASE'] - np.unwrap(df_t['PHASE']))\n",
    "    data['water_%d_r' % d] = df_f['RSSI'].values - df_t['RSSI'].values\n",
    "\n",
    "# plt.legend(ds)\n",
    "# plt.title('water')\n",
    "# plt.show()\n",
    "\n",
    "## oil\n",
    "for d in ds:\n",
    "    df_f = dm.import_from_file(os.path.join(folder, 'd%d_oil_f.csv' % d), dm.epc_oil)\n",
    "    df_t = dm.import_from_file(os.path.join(folder, 'd%d_oil_t.csv' % d), dm.epc_oil)\n",
    "    df_f = cleaner.kde_peak(df_f)\n",
    "    df_t = cleaner.kde_peak(df_t)\n",
    "    plt.scatter(np.unwrap(df_f['PHASE'] - np.unwrap(df_t['PHASE'])), df_f['RSSI'] - df_t['RSSI'], )\n",
    "    \n",
    "    data['oil_%d_p' % d] = np.unwrap(df_f['PHASE'] - np.unwrap(df_t['PHASE']))\n",
    "    data['oil_%d_r' % d] = df_f['RSSI'].values - df_t['RSSI'].values\n",
    "\n",
    "# plt.legend(ds)\n",
    "# plt.title('oil')\n",
    "plt.show()\n",
    "\n",
    "import scipy.io\n",
    "scipy.io.savemat('rotation.mat', data)"
   ]
  },
  {
   "cell_type": "code",
   "execution_count": null,
   "metadata": {},
   "outputs": [],
   "source": []
  }
 ],
 "metadata": {
  "kernelspec": {
   "display_name": "Python 3",
   "language": "python",
   "name": "python3"
  },
  "language_info": {
   "codemirror_mode": {
    "name": "ipython",
    "version": 3
   },
   "file_extension": ".py",
   "mimetype": "text/x-python",
   "name": "python",
   "nbconvert_exporter": "python",
   "pygments_lexer": "ipython3",
   "version": "3.8.3"
  }
 },
 "nbformat": 4,
 "nbformat_minor": 4
}
