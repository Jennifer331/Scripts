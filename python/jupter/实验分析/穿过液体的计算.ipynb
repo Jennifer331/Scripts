{
 "cells": [
  {
   "cell_type": "code",
   "execution_count": 1,
   "metadata": {},
   "outputs": [],
   "source": [
    "import sys\n",
    "sys.path.extend(['d:\\\\atom\\\\python'])\n",
    "from wave_simulator import *"
   ]
  },
  {
   "cell_type": "markdown",
   "metadata": {},
   "source": [
    "# 液体到空气"
   ]
  },
  {
   "cell_type": "code",
   "execution_count": 3,
   "metadata": {},
   "outputs": [],
   "source": [
    "epsilon = 20"
   ]
  },
  {
   "cell_type": "code",
   "execution_count": 4,
   "metadata": {},
   "outputs": [
    {
     "data": {
      "text/plain": [
       "0.3654879952631136"
      ]
     },
     "execution_count": 4,
     "metadata": {},
     "output_type": "execute_result"
    }
   ],
   "source": [
    "t1 = trans_coeff(z(1), z(epsilon))\n",
    "t1"
   ]
  },
  {
   "cell_type": "code",
   "execution_count": 8,
   "metadata": {},
   "outputs": [
    {
     "data": {
      "text/plain": [
       "-0.7988791921519202"
      ]
     },
     "execution_count": 8,
     "metadata": {},
     "output_type": "execute_result"
    }
   ],
   "source": [
    "r = refl_coeff(z(1), z(epsilon))\n",
    "r"
   ]
  },
  {
   "cell_type": "code",
   "execution_count": 3,
   "metadata": {},
   "outputs": [
    {
     "data": {
      "text/plain": [
       "0.3884010881731504"
      ]
     },
     "execution_count": 3,
     "metadata": {},
     "output_type": "execute_result"
    }
   ],
   "source": [
    "a = attenuate(2, permittivity=1)\n",
    "a"
   ]
  },
  {
   "cell_type": "code",
   "execution_count": 59,
   "metadata": {},
   "outputs": [
    {
     "data": {
      "text/plain": [
       "1.6345120047368864"
      ]
     },
     "execution_count": 59,
     "metadata": {},
     "output_type": "execute_result"
    }
   ],
   "source": [
    "t2 = trans_coeff(z(epsilon), z(1))\n",
    "t2"
   ]
  },
  {
   "cell_type": "code",
   "execution_count": 60,
   "metadata": {},
   "outputs": [
    {
     "data": {
      "text/plain": [
       "0.24832571954043786"
      ]
     },
     "execution_count": 60,
     "metadata": {},
     "output_type": "execute_result"
    }
   ],
   "source": [
    "t1 * r * a * t2"
   ]
  },
  {
   "cell_type": "code",
   "execution_count": 5,
   "metadata": {},
   "outputs": [
    {
     "name": "stdout",
     "output_type": "stream",
     "text": [
      "反射后的振幅: oil:0.248326 water:0.189348\n",
      "反射后的功率: oil:0.061666 water:0.035853\n"
     ]
    }
   ],
   "source": [
    "## oil\n",
    "epsilon = 20\n",
    "t1 = trans_coeff(z(1), z(epsilon))\n",
    "r = refl_coeff(z(epsilon), z(1))\n",
    "a = attenuate(0.1)\n",
    "t2 = trans_coeff(z(epsilon), z(1))\n",
    "amp_o = t1 * r * a * t2\n",
    "pow_o = amp_o**2\n",
    "\n",
    "## water\n",
    "epsilon = 80\n",
    "t1 = trans_coeff(z(1), z(epsilon))\n",
    "r = refl_coeff(z(epsilon), z(1))\n",
    "a = attenuate(0.1)\n",
    "t2 = trans_coeff(z(epsilon), z(1))\n",
    "amp_w = t1 * r * a * t2\n",
    "pow_w = amp_w**2\n",
    "\n",
    "print('反射后的振幅: oil:%f water:%f'%(amp_o, amp_w))\n",
    "print('反射后的功率: oil:%f water:%f'%(amp_o**2, amp_w**2))"
   ]
  },
  {
   "cell_type": "code",
   "execution_count": 4,
   "metadata": {},
   "outputs": [
    {
     "data": {
      "text/plain": [
       "0.03330573882234667"
      ]
     },
     "execution_count": 4,
     "metadata": {},
     "output_type": "execute_result"
    }
   ],
   "source": [
    "epsilon = 80\n",
    "t1 = trans_coeff(z(1), z(epsilon))\n",
    "a = attenuate(0.1, permittivity=epsilon)\n",
    "t2 = trans_coeff(z(epsilon), z(1))\n",
    "a2 = attenuate(2, permittivity=1)\n",
    "amp_o = t1**2 * a * t2**2 * a2\n",
    "amp_o"
   ]
  },
  {
   "cell_type": "code",
   "execution_count": 5,
   "metadata": {},
   "outputs": [
    {
     "name": "stdout",
     "output_type": "stream",
     "text": [
      "传入水：0.201121, 水中传播：0.809395，穿出水：1.798879，总体衰减：1.456003\n"
     ]
    }
   ],
   "source": [
    "t1 = trans_coeff(z(80), z(1))\n",
    "t2 = trans_coeff(z(1), z(80))\n",
    "a = attenuate(0.05)\n",
    "t1 * t2 * a\n",
    "print('传入水：%f, 水中传播：%f，穿出水：%f，总体衰减：%f' % (t2, a, t1, t1*t2*a))"
   ]
  },
  {
   "cell_type": "code",
   "execution_count": null,
   "metadata": {},
   "outputs": [],
   "source": []
  }
 ],
 "metadata": {
  "kernelspec": {
   "display_name": "Python 3",
   "language": "python",
   "name": "python3"
  },
  "language_info": {
   "codemirror_mode": {
    "name": "ipython",
    "version": 3
   },
   "file_extension": ".py",
   "mimetype": "text/x-python",
   "name": "python",
   "nbconvert_exporter": "python",
   "pygments_lexer": "ipython3",
   "version": "3.8.3"
  }
 },
 "nbformat": 4,
 "nbformat_minor": 4
}
