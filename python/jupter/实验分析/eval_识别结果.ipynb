{
 "cells": [
  {
   "cell_type": "code",
   "execution_count": 1,
   "metadata": {},
   "outputs": [],
   "source": [
    "df = pd.read_csv('D:\\\\Atom\\\\Matlab\\\\论文\\\\识别结果\\\\result.csv')"
   ]
  },
  {
   "cell_type": "code",
   "execution_count": 2,
   "metadata": {},
   "outputs": [
    {
     "data": {
      "text/plain": [
       "160"
      ]
     },
     "execution_count": 2,
     "metadata": {},
     "output_type": "execute_result"
    }
   ],
   "source": [
    "matl_cnt = len(df['MATERIALS'].unique())\n",
    "pos_cnt = len(df['POSITION'].unique())\n",
    "len(df)"
   ]
  },
  {
   "cell_type": "code",
   "execution_count": 3,
   "metadata": {},
   "outputs": [
    {
     "data": {
      "text/plain": [
       "array([ 30,  33,  36,  39,  42,  45,  48,  51,  54,  57,  60,  63,  66,\n",
       "        69,  72,  75,  78,  81,  84,  87,  90,  93,  96,  99, 102, 105,\n",
       "       108, 111, 114, 117, 120, 123, 126, 129, 132, 135, 138, 141, 144,\n",
       "       147], dtype=int64)"
      ]
     },
     "execution_count": 3,
     "metadata": {},
     "output_type": "execute_result"
    }
   ],
   "source": [
    "df['POSITION'].unique()"
   ]
  },
  {
   "cell_type": "code",
   "execution_count": 4,
   "metadata": {},
   "outputs": [
    {
     "name": "stdout",
     "output_type": "stream",
     "text": [
      "<class 'pandas.core.frame.DataFrame'>\n",
      "RangeIndex: 160 entries, 0 to 159\n",
      "Data columns (total 4 columns):\n",
      " #   Column       Non-Null Count  Dtype  \n",
      "---  ------       --------------  -----  \n",
      " 0   POSITION     160 non-null    int64  \n",
      " 1   MATERIALS    160 non-null    object \n",
      " 2   GUESSED POS  159 non-null    float64\n",
      " 3   GUESSED      159 non-null    object \n",
      "dtypes: float64(1), int64(1), object(2)\n",
      "memory usage: 5.1+ KB\n"
     ]
    }
   ],
   "source": [
    "result = np.zeros((len(df), len(df)))\n",
    "result.fill(np.nan)\n",
    "df.info()"
   ]
  },
  {
   "cell_type": "code",
   "execution_count": 22,
   "metadata": {},
   "outputs": [],
   "source": [
    "d = {'vinegar': 0, 'empty': 1, 'water': 2, 'oil2': 3}\n",
    "for index, row in df.iterrows():\n",
    "    ans = 0\n",
    "    if np.isnan(row['GUESSED POS']):\n",
    "        continue\n",
    "    if row['POSITION'] == row['GUESSED POS']:\n",
    "        ans += 50\n",
    "    if row['MATERIALS'] == row['GUESSED']:\n",
    "        ans += 50\n",
    "    \n",
    "    guessed = int((row['GUESSED POS']-30)/3 + d[row['GUESSED']]*40)\n",
    "    result[index][guessed] = ans"
   ]
  },
  {
   "cell_type": "code",
   "execution_count": 23,
   "metadata": {},
   "outputs": [],
   "source": [
    "import scipy.io\n",
    "scipy.io.savemat('test.mat', {'mydata': result})"
   ]
  },
  {
   "cell_type": "code",
   "execution_count": 24,
   "metadata": {},
   "outputs": [
    {
     "name": "stdout",
     "output_type": "stream",
     "text": [
      "empty 40\n",
      "oil2 40\n",
      "vinegar 40\n",
      "water 40\n"
     ]
    }
   ],
   "source": [
    "for name, group in df.groupby('MATERIALS'):\n",
    "    print(name, len(group))"
   ]
  },
  {
   "cell_type": "code",
   "execution_count": 25,
   "metadata": {},
   "outputs": [
    {
     "data": {
      "text/plain": [
       "array([], dtype=int32)"
      ]
     },
     "execution_count": 25,
     "metadata": {},
     "output_type": "execute_result"
    }
   ],
   "source": [
    "must = np.arange(30, 150, 3)\n",
    "actual = df.groupby('MATERIALS').get_group('oil2')['POSITION']\n",
    "np.setdiff1d(must, actual)"
   ]
  },
  {
   "cell_type": "code",
   "execution_count": 26,
   "metadata": {},
   "outputs": [
    {
     "data": {
      "text/html": [
       "<div>\n",
       "<style scoped>\n",
       "    .dataframe tbody tr th:only-of-type {\n",
       "        vertical-align: middle;\n",
       "    }\n",
       "\n",
       "    .dataframe tbody tr th {\n",
       "        vertical-align: top;\n",
       "    }\n",
       "\n",
       "    .dataframe thead th {\n",
       "        text-align: right;\n",
       "    }\n",
       "</style>\n",
       "<table border=\"1\" class=\"dataframe\">\n",
       "  <thead>\n",
       "    <tr style=\"text-align: right;\">\n",
       "      <th></th>\n",
       "      <th>POSITION</th>\n",
       "      <th>MATERIALS</th>\n",
       "      <th>GUESSED POS</th>\n",
       "      <th>GUESSED</th>\n",
       "    </tr>\n",
       "  </thead>\n",
       "  <tbody>\n",
       "    <tr>\n",
       "      <th>123</th>\n",
       "      <td>39</td>\n",
       "      <td>oil2</td>\n",
       "      <td>NaN</td>\n",
       "      <td>NaN</td>\n",
       "    </tr>\n",
       "  </tbody>\n",
       "</table>\n",
       "</div>"
      ],
      "text/plain": [
       "     POSITION MATERIALS  GUESSED POS GUESSED\n",
       "123        39      oil2          NaN     NaN"
      ]
     },
     "execution_count": 26,
     "metadata": {},
     "output_type": "execute_result"
    }
   ],
   "source": [
    "df[df['GUESSED'].isnull()]"
   ]
  },
  {
   "cell_type": "code",
   "execution_count": 27,
   "metadata": {},
   "outputs": [
    {
     "data": {
      "text/plain": [
       "array(['vinegar', 'empty', 'water', 'oil2'], dtype=object)"
      ]
     },
     "execution_count": 27,
     "metadata": {},
     "output_type": "execute_result"
    }
   ],
   "source": [
    "df['MATERIALS'].unique()"
   ]
  },
  {
   "cell_type": "code",
   "execution_count": 28,
   "metadata": {},
   "outputs": [
    {
     "data": {
      "text/plain": [
       "array([nan, nan, nan, nan, nan, nan, nan, nan, nan, nan, nan, nan, nan,\n",
       "       nan, nan, nan, nan, nan, nan, nan, nan, nan, nan, nan, nan, nan,\n",
       "       nan, nan, nan, nan, nan, nan, nan, nan, nan, nan, nan, nan, nan,\n",
       "       nan, nan, nan, nan, nan, nan, nan, nan, nan, nan, nan, nan, nan,\n",
       "       nan, nan, nan, nan, nan, nan, nan,  0., nan, nan, nan, nan, nan,\n",
       "       nan, nan, nan, nan, nan, nan, nan, nan, nan, nan, nan, nan, nan,\n",
       "       nan, nan, nan, nan, nan, nan, nan, nan, nan, nan, nan, nan, nan,\n",
       "       nan, nan, nan, nan, nan, nan, nan, nan, nan, nan, nan, nan, nan,\n",
       "       nan, nan, nan, nan, nan, nan, nan, nan, nan, nan, nan, nan, nan,\n",
       "       nan, nan, nan, nan, nan, nan, nan, nan, nan, nan, nan, nan, nan,\n",
       "       nan, nan, nan, nan, nan, nan, nan, nan, nan, nan, nan, nan, nan,\n",
       "       nan, nan, nan, nan, nan, nan, nan, nan, nan, nan, nan, nan, nan,\n",
       "       nan, nan, nan, nan])"
      ]
     },
     "execution_count": 28,
     "metadata": {},
     "output_type": "execute_result"
    }
   ],
   "source": [
    "result[35,:]"
   ]
  },
  {
   "cell_type": "code",
   "execution_count": null,
   "metadata": {},
   "outputs": [],
   "source": []
  },
  {
   "cell_type": "code",
   "execution_count": 12,
   "metadata": {},
   "outputs": [
    {
     "data": {
      "text/plain": [
       "array([[100.,  nan,  nan, ...,  nan,  nan,  nan],\n",
       "       [ nan,  50.,  nan, ...,  nan,  nan,  nan],\n",
       "       [ nan,  nan, 100., ...,  nan,  nan,  nan],\n",
       "       ...,\n",
       "       [ nan,  nan,  nan, ...,  nan,  nan,  nan],\n",
       "       [ nan,  nan,  nan, ...,  nan,  nan,  nan],\n",
       "       [ nan,  nan,  nan, ...,  nan,  nan,  nan]])"
      ]
     },
     "execution_count": 12,
     "metadata": {},
     "output_type": "execute_result"
    }
   ],
   "source": [
    "result"
   ]
  },
  {
   "cell_type": "code",
   "execution_count": 13,
   "metadata": {},
   "outputs": [
    {
     "data": {
      "text/plain": [
       "(160, 160)"
      ]
     },
     "execution_count": 13,
     "metadata": {},
     "output_type": "execute_result"
    }
   ],
   "source": [
    "result.shape"
   ]
  },
  {
   "cell_type": "code",
   "execution_count": 14,
   "metadata": {},
   "outputs": [
    {
     "data": {
      "text/plain": [
       "118"
      ]
     },
     "execution_count": 14,
     "metadata": {},
     "output_type": "execute_result"
    }
   ],
   "source": [
    "(result == 100).sum()"
   ]
  },
  {
   "cell_type": "code",
   "execution_count": 15,
   "metadata": {},
   "outputs": [
    {
     "data": {
      "text/plain": [
       "17"
      ]
     },
     "execution_count": 15,
     "metadata": {},
     "output_type": "execute_result"
    }
   ],
   "source": [
    "(result == 50).sum()"
   ]
  },
  {
   "cell_type": "code",
   "execution_count": 16,
   "metadata": {},
   "outputs": [
    {
     "data": {
      "text/plain": [
       "24"
      ]
     },
     "execution_count": 16,
     "metadata": {},
     "output_type": "execute_result"
    }
   ],
   "source": [
    "(result == 0).sum()"
   ]
  },
  {
   "cell_type": "code",
   "execution_count": 17,
   "metadata": {},
   "outputs": [],
   "source": [
    "vinegar = result[0:31, 0:31]\n",
    "empty = result[40:80, 40:80]\n",
    "water = result[80:120, 80:120]\n",
    "oil = result[120:160, 120:160]"
   ]
  },
  {
   "cell_type": "code",
   "execution_count": 39,
   "metadata": {},
   "outputs": [
    {
     "name": "stdout",
     "output_type": "stream",
     "text": [
      "31\n",
      "31\n",
      "31\n",
      "30\n"
     ]
    },
    {
     "name": "stderr",
     "output_type": "stream",
     "text": [
      "<ipython-input-39-7085e6c33d2d>:2: RuntimeWarning: invalid value encountered in greater_equal\n",
      "  print((result[i*40: i*40+31, i*40: i*40+31] >= 50).sum())\n"
     ]
    }
   ],
   "source": [
    "for i in range(0, 4):\n",
    "    print((result[i*40: i*40+31, i*40: i*40+31] >= 50).sum())"
   ]
  },
  {
   "cell_type": "code",
   "execution_count": 30,
   "metadata": {},
   "outputs": [],
   "source": [
    "np.set_printoptions(threshold=np.inf)"
   ]
  },
  {
   "cell_type": "code",
   "execution_count": 20,
   "metadata": {},
   "outputs": [
    {
     "data": {
      "image/png": "[encoded data removed]",
      "text/plain": [
       "<Figure size 432x288 with 2 Axes>"
      ]
     },
     "metadata": {
      "needs_background": "light"
     },
     "output_type": "display_data"
    }
   ],
   "source": [
    "from matplotlib.colors import ListedColormap\n",
    "from sklearn.metrics import confusion_matrix\n",
    "import seaborn as sns\n",
    "\n",
    "import matplotlib\n",
    "Songti = matplotlib.font_manager.FontProperties(fname='C:\\Windows\\Fonts\\STSONG.TTF')\n",
    "\n",
    "plt.rcParams['font.sans-serif']=['SimHei'] #用来正常显示中文标签\n",
    "plt.rcParams['axes.unicode_minus']=False #用来正常显示负号\n",
    "\n",
    "df = pd.read_csv('D:\\\\Atom\\\\Matlab\\\\论文\\\\识别结果\\\\result.csv')\n",
    "df = df[~df['GUESSED'].isnull()]\n",
    "# labels = ['醋', '空瓶', '水', '油']\n",
    "labels = ['空瓶', '油', '醋', '水']\n",
    "mat = confusion_matrix(df['MATERIALS'], df['GUESSED'], normalize='true')\n",
    "# mat = mat/np.array([40,39,40,40])\n",
    "sns.heatmap(mat, square=True, annot=True, cmap='Blues', xticklabels=labels, yticklabels=labels) # , fmt='d', cbar=False\n",
    "plt.xlabel('预测种类', fontproperties=Songti, fontsize=14)\n",
    "plt.ylabel('真实种类', fontproperties=Songti, fontsize=14)\n",
    "# plt.savefig('result1_conf_mat.png')"
   ]
  },
  {
   "cell_type": "code",
   "execution_count": 24,
   "metadata": {},
   "outputs": [
    {
     "data": {
      "text/html": [
       "<div>\n",
       "<style scoped>\n",
       "    .dataframe tbody tr th:only-of-type {\n",
       "        vertical-align: middle;\n",
       "    }\n",
       "\n",
       "    .dataframe tbody tr th {\n",
       "        vertical-align: top;\n",
       "    }\n",
       "\n",
       "    .dataframe thead th {\n",
       "        text-align: right;\n",
       "    }\n",
       "</style>\n",
       "<table border=\"1\" class=\"dataframe\">\n",
       "  <thead>\n",
       "    <tr style=\"text-align: right;\">\n",
       "      <th></th>\n",
       "      <th>POSITION</th>\n",
       "      <th>MATERIALS</th>\n",
       "      <th>GUESSED POS</th>\n",
       "      <th>GUESSED</th>\n",
       "    </tr>\n",
       "  </thead>\n",
       "  <tbody>\n",
       "    <tr>\n",
       "      <th>32</th>\n",
       "      <td>126</td>\n",
       "      <td>vinegar</td>\n",
       "      <td>79.0</td>\n",
       "      <td>empty</td>\n",
       "    </tr>\n",
       "    <tr>\n",
       "      <th>33</th>\n",
       "      <td>129</td>\n",
       "      <td>vinegar</td>\n",
       "      <td>68.0</td>\n",
       "      <td>empty</td>\n",
       "    </tr>\n",
       "    <tr>\n",
       "      <th>34</th>\n",
       "      <td>132</td>\n",
       "      <td>vinegar</td>\n",
       "      <td>71.0</td>\n",
       "      <td>empty</td>\n",
       "    </tr>\n",
       "    <tr>\n",
       "      <th>35</th>\n",
       "      <td>135</td>\n",
       "      <td>vinegar</td>\n",
       "      <td>89.0</td>\n",
       "      <td>empty</td>\n",
       "    </tr>\n",
       "    <tr>\n",
       "      <th>36</th>\n",
       "      <td>138</td>\n",
       "      <td>vinegar</td>\n",
       "      <td>85.0</td>\n",
       "      <td>empty</td>\n",
       "    </tr>\n",
       "    <tr>\n",
       "      <th>37</th>\n",
       "      <td>141</td>\n",
       "      <td>vinegar</td>\n",
       "      <td>75.0</td>\n",
       "      <td>empty</td>\n",
       "    </tr>\n",
       "    <tr>\n",
       "      <th>38</th>\n",
       "      <td>144</td>\n",
       "      <td>vinegar</td>\n",
       "      <td>66.0</td>\n",
       "      <td>empty</td>\n",
       "    </tr>\n",
       "    <tr>\n",
       "      <th>39</th>\n",
       "      <td>147</td>\n",
       "      <td>vinegar</td>\n",
       "      <td>69.0</td>\n",
       "      <td>empty</td>\n",
       "    </tr>\n",
       "    <tr>\n",
       "      <th>112</th>\n",
       "      <td>126</td>\n",
       "      <td>water</td>\n",
       "      <td>110.0</td>\n",
       "      <td>oil2</td>\n",
       "    </tr>\n",
       "    <tr>\n",
       "      <th>113</th>\n",
       "      <td>129</td>\n",
       "      <td>water</td>\n",
       "      <td>115.0</td>\n",
       "      <td>oil2</td>\n",
       "    </tr>\n",
       "    <tr>\n",
       "      <th>114</th>\n",
       "      <td>132</td>\n",
       "      <td>water</td>\n",
       "      <td>53.0</td>\n",
       "      <td>empty</td>\n",
       "    </tr>\n",
       "    <tr>\n",
       "      <th>115</th>\n",
       "      <td>135</td>\n",
       "      <td>water</td>\n",
       "      <td>116.0</td>\n",
       "      <td>vinegar</td>\n",
       "    </tr>\n",
       "    <tr>\n",
       "      <th>116</th>\n",
       "      <td>138</td>\n",
       "      <td>water</td>\n",
       "      <td>86.0</td>\n",
       "      <td>vinegar</td>\n",
       "    </tr>\n",
       "    <tr>\n",
       "      <th>117</th>\n",
       "      <td>141</td>\n",
       "      <td>water</td>\n",
       "      <td>109.0</td>\n",
       "      <td>vinegar</td>\n",
       "    </tr>\n",
       "    <tr>\n",
       "      <th>118</th>\n",
       "      <td>144</td>\n",
       "      <td>water</td>\n",
       "      <td>112.0</td>\n",
       "      <td>vinegar</td>\n",
       "    </tr>\n",
       "    <tr>\n",
       "      <th>119</th>\n",
       "      <td>147</td>\n",
       "      <td>water</td>\n",
       "      <td>112.0</td>\n",
       "      <td>vinegar</td>\n",
       "    </tr>\n",
       "    <tr>\n",
       "      <th>151</th>\n",
       "      <td>123</td>\n",
       "      <td>oil2</td>\n",
       "      <td>57.0</td>\n",
       "      <td>empty</td>\n",
       "    </tr>\n",
       "    <tr>\n",
       "      <th>152</th>\n",
       "      <td>126</td>\n",
       "      <td>oil2</td>\n",
       "      <td>47.0</td>\n",
       "      <td>empty</td>\n",
       "    </tr>\n",
       "    <tr>\n",
       "      <th>153</th>\n",
       "      <td>129</td>\n",
       "      <td>oil2</td>\n",
       "      <td>78.0</td>\n",
       "      <td>vinegar</td>\n",
       "    </tr>\n",
       "    <tr>\n",
       "      <th>155</th>\n",
       "      <td>135</td>\n",
       "      <td>oil2</td>\n",
       "      <td>55.0</td>\n",
       "      <td>empty</td>\n",
       "    </tr>\n",
       "    <tr>\n",
       "      <th>156</th>\n",
       "      <td>138</td>\n",
       "      <td>oil2</td>\n",
       "      <td>58.0</td>\n",
       "      <td>empty</td>\n",
       "    </tr>\n",
       "    <tr>\n",
       "      <th>157</th>\n",
       "      <td>141</td>\n",
       "      <td>oil2</td>\n",
       "      <td>62.0</td>\n",
       "      <td>empty</td>\n",
       "    </tr>\n",
       "    <tr>\n",
       "      <th>158</th>\n",
       "      <td>144</td>\n",
       "      <td>oil2</td>\n",
       "      <td>77.0</td>\n",
       "      <td>vinegar</td>\n",
       "    </tr>\n",
       "    <tr>\n",
       "      <th>159</th>\n",
       "      <td>147</td>\n",
       "      <td>oil2</td>\n",
       "      <td>80.0</td>\n",
       "      <td>vinegar</td>\n",
       "    </tr>\n",
       "  </tbody>\n",
       "</table>\n",
       "</div>"
      ],
      "text/plain": [
       "     POSITION MATERIALS  GUESSED POS  GUESSED\n",
       "32        126   vinegar         79.0    empty\n",
       "33        129   vinegar         68.0    empty\n",
       "34        132   vinegar         71.0    empty\n",
       "35        135   vinegar         89.0    empty\n",
       "36        138   vinegar         85.0    empty\n",
       "37        141   vinegar         75.0    empty\n",
       "38        144   vinegar         66.0    empty\n",
       "39        147   vinegar         69.0    empty\n",
       "112       126     water        110.0     oil2\n",
       "113       129     water        115.0     oil2\n",
       "114       132     water         53.0    empty\n",
       "115       135     water        116.0  vinegar\n",
       "116       138     water         86.0  vinegar\n",
       "117       141     water        109.0  vinegar\n",
       "118       144     water        112.0  vinegar\n",
       "119       147     water        112.0  vinegar\n",
       "151       123      oil2         57.0    empty\n",
       "152       126      oil2         47.0    empty\n",
       "153       129      oil2         78.0  vinegar\n",
       "155       135      oil2         55.0    empty\n",
       "156       138      oil2         58.0    empty\n",
       "157       141      oil2         62.0    empty\n",
       "158       144      oil2         77.0  vinegar\n",
       "159       147      oil2         80.0  vinegar"
      ]
     },
     "execution_count": 24,
     "metadata": {},
     "output_type": "execute_result"
    }
   ],
   "source": [
    "df[df['MATERIALS'] != df['GUESSED']]"
   ]
  },
  {
   "cell_type": "code",
   "execution_count": 60,
   "metadata": {},
   "outputs": [],
   "source": [
    "from collections import defaultdict\n",
    "err = {'vinegar':defaultdict(lambda: 0), 'empty':defaultdict(lambda: 0), 'water':defaultdict(lambda: 0), 'oil2':defaultdict(lambda: 0)}\n",
    "for name, group in df.groupby('MATERIALS'):\n",
    "    for index, row in group.iterrows():\n",
    "        err[name][row['POSITION']] += (row['MATERIALS'] != row['GUESSED'])"
   ]
  },
  {
   "cell_type": "code",
   "execution_count": 59,
   "metadata": {},
   "outputs": [
    {
     "name": "stdout",
     "output_type": "stream",
     "text": [
      "{'vinegar': defaultdict(<function <lambda> at 0x0000024269A2C040>, {30: 0, 33: 0, 36: 0, 39: 0, 42: 0, 45: 0, 48: 0, 51: 0, 54: 0, 57: 0, 60: 0, 63: 0, 66: 0, 69: 0, 72: 0, 75: 0, 78: 0, 81: 0, 84: 0, 87: 0, 90: 0, 93: 0, 96: 0, 99: 0, 102: 0, 105: 0, 108: 0, 111: 0, 114: 0, 117: 0, 120: 0, 123: 0, 126: 1, 129: 1, 132: 1, 135: 1, 138: 1, 141: 1, 144: 1, 147: 1}), 'empty': defaultdict(<function <lambda> at 0x0000024269C60160>, {30: 0, 33: 0, 36: 0, 39: 0, 42: 0, 45: 0, 48: 0, 51: 0, 54: 0, 57: 0, 60: 0, 63: 0, 66: 0, 69: 0, 72: 0, 75: 0, 78: 0, 81: 0, 84: 0, 87: 0, 90: 0, 93: 0, 96: 0, 99: 0, 102: 0, 105: 0, 108: 0, 111: 0, 114: 0, 117: 0, 120: 0, 123: 0, 126: 0, 129: 0, 132: 0, 135: 0, 138: 0, 141: 0, 144: 0, 147: 0}), 'water': defaultdict(<function <lambda> at 0x0000024269C600D0>, {30: 0, 33: 0, 36: 0, 39: 0, 42: 0, 45: 0, 48: 0, 51: 0, 54: 0, 57: 0, 60: 0, 63: 0, 66: 0, 69: 0, 72: 0, 75: 0, 78: 0, 81: 0, 84: 0, 87: 0, 90: 0, 93: 0, 96: 0, 99: 0, 102: 0, 105: 0, 108: 0, 111: 0, 114: 0, 117: 0, 120: 0, 123: 0, 126: 1, 129: 1, 132: 1, 135: 1, 138: 1, 141: 1, 144: 1, 147: 1}), 'oil2': defaultdict(<function <lambda> at 0x0000024269C60040>, {30: 0, 33: 0, 36: 0, 42: 0, 45: 0, 48: 0, 51: 0, 54: 0, 57: 0, 60: 0, 63: 0, 66: 0, 69: 0, 72: 0, 75: 0, 78: 0, 81: 0, 84: 0, 87: 0, 90: 0, 93: 0, 96: 0, 99: 0, 102: 0, 105: 0, 108: 0, 111: 0, 114: 0, 117: 0, 120: 0, 123: 1, 126: 1, 129: 1, 132: 0, 135: 1, 138: 1, 141: 1, 144: 1, 147: 1})}\n",
      "[0.    0.    0.    0.    0.    0.    0.    0.    0.    0.    0.    0.\n",
      " 0.    0.    0.    0.    0.    0.    0.    0.    0.    0.    0.    0.\n",
      " 0.    0.    0.    0.    0.    0.    0.    0.    0.125 0.25  0.375 0.5\n",
      " 0.625 0.75  0.875 1.   ]\n",
      "[0.    0.    0.    0.    0.    0.    0.    0.    0.    0.    0.    0.\n",
      " 0.    0.    0.    0.    0.    0.    0.    0.    0.    0.    0.    0.\n",
      " 0.    0.    0.    0.    0.    0.    0.    0.    0.125 0.25  0.375 0.5\n",
      " 0.625 0.75  0.875 1.   ]\n",
      "[0.    0.    0.    0.    0.    0.    0.    0.    0.    0.    0.    0.\n",
      " 0.    0.    0.    0.    0.    0.    0.    0.    0.    0.    0.    0.\n",
      " 0.    0.    0.    0.    0.    0.    0.125 0.25  0.375 0.375 0.5   0.625\n",
      " 0.75  0.875 1.   ]\n",
      "[nan nan nan nan nan nan nan nan nan nan nan nan nan nan nan nan nan nan\n",
      " nan nan nan nan nan nan nan nan nan nan nan nan nan nan nan nan nan nan\n",
      " nan nan nan nan]\n"
     ]
    },
    {
     "name": "stderr",
     "output_type": "stream",
     "text": [
      "<ipython-input-59-96bf5745a9a3>:4: RuntimeWarning: invalid value encountered in true_divide\n",
      "  pdf = data/sum(data)\n"
     ]
    },
    {
     "data": {
      "text/plain": [
       "<matplotlib.legend.Legend at 0x242686a9460>"
      ]
     },
     "execution_count": 59,
     "metadata": {},
     "output_type": "execute_result"
    },
    {
     "data": {
      "image/png": "[encoded data removed]",
      "text/plain": [
       "<Figure size 432x288 with 1 Axes>"
      ]
     },
     "metadata": {
      "needs_background": "light"
     },
     "output_type": "display_data"
    }
   ],
   "source": [
    "for matl in ['vinegar', 'water', 'oil2', 'empty']:\n",
    "    data = np.fromiter(err[matl].values(), dtype='float')\n",
    "    pdf = data/sum(data)\n",
    "    cdf = np.cumsum(pdf)\n",
    "    plt.plot(list(err[matl].keys()), pdf, label=matl)\n",
    "    print(cdf)\n",
    "plt.legend()"
   ]
  },
  {
   "cell_type": "code",
   "execution_count": 61,
   "metadata": {},
   "outputs": [
    {
     "data": {
      "text/plain": [
       "{'vinegar': defaultdict(<function __main__.<lambda>()>,\n",
       "             {30: 0,\n",
       "              33: 0,\n",
       "              36: 0,\n",
       "              39: 0,\n",
       "              42: 0,\n",
       "              45: 0,\n",
       "              48: 0,\n",
       "              51: 0,\n",
       "              54: 0,\n",
       "              57: 0,\n",
       "              60: 0,\n",
       "              63: 0,\n",
       "              66: 0,\n",
       "              69: 0,\n",
       "              72: 0,\n",
       "              75: 0,\n",
       "              78: 0,\n",
       "              81: 0,\n",
       "              84: 0,\n",
       "              87: 0,\n",
       "              90: 0,\n",
       "              93: 0,\n",
       "              96: 0,\n",
       "              99: 0,\n",
       "              102: 0,\n",
       "              105: 0,\n",
       "              108: 0,\n",
       "              111: 0,\n",
       "              114: 0,\n",
       "              117: 0,\n",
       "              120: 0,\n",
       "              123: 0,\n",
       "              126: 1,\n",
       "              129: 1,\n",
       "              132: 1,\n",
       "              135: 1,\n",
       "              138: 1,\n",
       "              141: 1,\n",
       "              144: 1,\n",
       "              147: 1}),\n",
       " 'empty': defaultdict(<function __main__.<lambda>()>,\n",
       "             {30: 0,\n",
       "              33: 0,\n",
       "              36: 0,\n",
       "              39: 0,\n",
       "              42: 0,\n",
       "              45: 0,\n",
       "              48: 0,\n",
       "              51: 0,\n",
       "              54: 0,\n",
       "              57: 0,\n",
       "              60: 0,\n",
       "              63: 0,\n",
       "              66: 0,\n",
       "              69: 0,\n",
       "              72: 0,\n",
       "              75: 0,\n",
       "              78: 0,\n",
       "              81: 0,\n",
       "              84: 0,\n",
       "              87: 0,\n",
       "              90: 0,\n",
       "              93: 0,\n",
       "              96: 0,\n",
       "              99: 0,\n",
       "              102: 0,\n",
       "              105: 0,\n",
       "              108: 0,\n",
       "              111: 0,\n",
       "              114: 0,\n",
       "              117: 0,\n",
       "              120: 0,\n",
       "              123: 0,\n",
       "              126: 0,\n",
       "              129: 0,\n",
       "              132: 0,\n",
       "              135: 0,\n",
       "              138: 0,\n",
       "              141: 0,\n",
       "              144: 0,\n",
       "              147: 0}),\n",
       " 'water': defaultdict(<function __main__.<lambda>()>,\n",
       "             {30: 0,\n",
       "              33: 0,\n",
       "              36: 0,\n",
       "              39: 0,\n",
       "              42: 0,\n",
       "              45: 0,\n",
       "              48: 0,\n",
       "              51: 0,\n",
       "              54: 0,\n",
       "              57: 0,\n",
       "              60: 0,\n",
       "              63: 0,\n",
       "              66: 0,\n",
       "              69: 0,\n",
       "              72: 0,\n",
       "              75: 0,\n",
       "              78: 0,\n",
       "              81: 0,\n",
       "              84: 0,\n",
       "              87: 0,\n",
       "              90: 0,\n",
       "              93: 0,\n",
       "              96: 0,\n",
       "              99: 0,\n",
       "              102: 0,\n",
       "              105: 0,\n",
       "              108: 0,\n",
       "              111: 0,\n",
       "              114: 0,\n",
       "              117: 0,\n",
       "              120: 0,\n",
       "              123: 0,\n",
       "              126: 1,\n",
       "              129: 1,\n",
       "              132: 1,\n",
       "              135: 1,\n",
       "              138: 1,\n",
       "              141: 1,\n",
       "              144: 1,\n",
       "              147: 1}),\n",
       " 'oil2': defaultdict(<function __main__.<lambda>()>,\n",
       "             {30: 0,\n",
       "              33: 0,\n",
       "              36: 0,\n",
       "              42: 0,\n",
       "              45: 0,\n",
       "              48: 0,\n",
       "              51: 0,\n",
       "              54: 0,\n",
       "              57: 0,\n",
       "              60: 0,\n",
       "              63: 0,\n",
       "              66: 0,\n",
       "              69: 0,\n",
       "              72: 0,\n",
       "              75: 0,\n",
       "              78: 0,\n",
       "              81: 0,\n",
       "              84: 0,\n",
       "              87: 0,\n",
       "              90: 0,\n",
       "              93: 0,\n",
       "              96: 0,\n",
       "              99: 0,\n",
       "              102: 0,\n",
       "              105: 0,\n",
       "              108: 0,\n",
       "              111: 0,\n",
       "              114: 0,\n",
       "              117: 0,\n",
       "              120: 0,\n",
       "              123: 1,\n",
       "              126: 1,\n",
       "              129: 1,\n",
       "              132: 0,\n",
       "              135: 1,\n",
       "              138: 1,\n",
       "              141: 1,\n",
       "              144: 1,\n",
       "              147: 1})}"
      ]
     },
     "execution_count": 61,
     "metadata": {},
     "output_type": "execute_result"
    }
   ],
   "source": [
    "err"
   ]
  },
  {
   "cell_type": "code",
   "execution_count": 16,
   "metadata": {},
   "outputs": [
    {
     "data": {
      "text/plain": [
       "str"
      ]
     },
     "execution_count": 16,
     "metadata": {},
     "output_type": "execute_result"
    }
   ],
   "source": [
    "type(['test', '66'][0])"
   ]
  },
  {
   "cell_type": "code",
   "execution_count": 24,
   "metadata": {},
   "outputs": [
    {
     "name": "stdout",
     "output_type": "stream",
     "text": [
      "1 1\n"
     ]
    }
   ],
   "source": [
    "print(len(df['GUESSED']), len(df['MATERIALS']))"
   ]
  },
  {
   "cell_type": "code",
   "execution_count": 30,
   "metadata": {},
   "outputs": [
    {
     "data": {
      "text/plain": [
       "array(['vinegar', 'empty', 'water', 'oil2'], dtype=object)"
      ]
     },
     "execution_count": 30,
     "metadata": {},
     "output_type": "execute_result"
    }
   ],
   "source": [
    "df['MATERIALS'].unique()"
   ]
  },
  {
   "cell_type": "code",
   "execution_count": 32,
   "metadata": {},
   "outputs": [
    {
     "data": {
      "text/plain": [
       "array([[32,  8,  0,  0],\n",
       "       [ 0, 40,  0,  0],\n",
       "       [ 5,  1, 32,  2],\n",
       "       [ 3,  5,  0, 31]], dtype=int64)"
      ]
     },
     "execution_count": 32,
     "metadata": {},
     "output_type": "execute_result"
    }
   ],
   "source": [
    "mat"
   ]
  },
  {
   "cell_type": "code",
   "execution_count": null,
   "metadata": {},
   "outputs": [],
   "source": []
  }
 ],
 "metadata": {
  "kernelspec": {
   "display_name": "Python 3",
   "language": "python",
   "name": "python3"
  },
  "language_info": {
   "codemirror_mode": {
    "name": "ipython",
    "version": 3
   },
   "file_extension": ".py",
   "mimetype": "text/x-python",
   "name": "python",
   "nbconvert_exporter": "python",
   "pygments_lexer": "ipython3",
   "version": "3.8.3"
  }
 },
 "nbformat": 4,
 "nbformat_minor": 4
}
