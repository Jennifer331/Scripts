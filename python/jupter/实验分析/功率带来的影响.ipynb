{
 "cells": [
  {
   "cell_type": "markdown",
   "metadata": {},
   "source": [
    "### 祝驿楠的疑问\n",
    "- 天线阻抗会随阅读器天线发送功率的改变而变化吗？比如调大发送功率后相位也会变化，这是因为多径变化造成的，还是天线阻抗也有变化呢？\n",
    "- 固定reader和tag的位置和朝向都不变，频率也不变，然后只改变功率从23dbm到26dbm，发现相位确实有变化。我的理解是首先多径肯定有变化，因为信号强度改变后多径合成后的信号肯定也会变化。但不确定天线阻抗是否变化。因为我没找到一个开阔的没有多径的地方"
   ]
  },
  {
   "cell_type": "code",
   "execution_count": 2,
   "metadata": {},
   "outputs": [
    {
     "data": {
      "image/png": "[encoded data removed]",
      "text/plain": [
       "<Figure size 432x288 with 2 Axes>"
      ]
     },
     "metadata": {
      "needs_background": "light"
     },
     "output_type": "display_data"
    }
   ],
   "source": [
    "import glob, os\n",
    "import matplotlib.pyplot as plt\n",
    "import re\n",
    "import pandas as pd\n",
    "\n",
    "\n",
    "def import_data():\n",
    "    folder = 'd:\\\\Atom\\exp\\\\zhuyinan'\n",
    "    pattern = \"_\\d{2}dbm\"\n",
    "    li = []\n",
    "    for file in glob.glob(os.path.join(folder, \"*.txt\")):\n",
    "        power_sub_str = re.search(pattern, file).group(0)\n",
    "        power = ''.join([n for n in power_sub_str if n.isdigit()])\n",
    "        df = pd.read_csv(file, header=None, usecols=[1, 2], names=['RSSI', 'PHASE'])\n",
    "        df.insert(len(df.columns), 'POWER', power)\n",
    "        li.append(df)\n",
    "    return pd.concat(li)\n",
    "\n",
    "\n",
    "if __name__ == '__main__':\n",
    "    df = import_data()\n",
    "    plt.subplot(211)\n",
    "    plt.xlabel('Power (dbm)')\n",
    "    plt.ylabel('RSSI (dbm)')\n",
    "    plt.scatter(df['POWER'], df['RSSI'])\n",
    "\n",
    "    plt.subplot(212)\n",
    "    plt.xlabel('Power (dbm)')\n",
    "    plt.ylabel('Phase (rad)')\n",
    "    plt.scatter(df['POWER'], df['PHASE'])\n",
    "\n",
    "    plt.tight_layout()\n",
    "    plt.show()"
   ]
  },
  {
   "cell_type": "code",
   "execution_count": null,
   "metadata": {},
   "outputs": [],
   "source": []
  }
 ],
 "metadata": {
  "kernelspec": {
   "display_name": "Python 3",
   "language": "python",
   "name": "python3"
  },
  "language_info": {
   "codemirror_mode": {
    "name": "ipython",
    "version": 3
   },
   "file_extension": ".py",
   "mimetype": "text/x-python",
   "name": "python",
   "nbconvert_exporter": "python",
   "pygments_lexer": "ipython3",
   "version": "3.8.3"
  }
 },
 "nbformat": 4,
 "nbformat_minor": 4
}
