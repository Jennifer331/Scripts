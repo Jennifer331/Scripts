{
 "cells": [
  {
   "cell_type": "code",
   "execution_count": 3,
   "metadata": {},
   "outputs": [
    {
     "data": {
      "text/plain": [
       "<matplotlib.legend.Legend at 0x1bd6fa8e700>"
      ]
     },
     "execution_count": 3,
     "metadata": {},
     "output_type": "execute_result"
    },
    {
     "data": {
      "image/png": "[encoded data removed]",
      "text/plain": [
       "<Figure size 432x288 with 1 Axes>"
      ]
     },
     "metadata": {
      "needs_background": "light"
     },
     "output_type": "display_data"
    }
   ],
   "source": [
    "import os\n",
    "matls = ['oil', 'vinegar', 'water']\n",
    "matls = ['oil']\n",
    "folder_outdoor = 'D:\\\\Atom\\\\python\\\\data\\\\cleaned\\\\grill\\\\noback'\n",
    "cnt = 0\n",
    "correctcnt = 0\n",
    "for matl in matls:\n",
    "    df_f = pd.read_csv(os.path.join(folder_outdoor, 'd1_%s_front_noback.csv' % (matl)))\n",
    "    df_t = pd.read_csv(os.path.join(folder_outdoor, 'd1_%s_front_noback.csv' % (matl)))\n",
    "    diff_p = np.unwrap(df_f['PHASE']) - np.unwrap(df_t['PHASE'])\n",
    "    diff_r = df_f['RSSI'] - df_t['RSSI']\n",
    "    plt.scatter(diff_p, diff_r)\n",
    "# #     result = tree.predict(np.column_stack((diff_p, diff_r, df_t['CHANNEL'])))\n",
    "#     result = clf.predict(np.column_stack((diff_p, diff_r)))\n",
    "#     print(matl, result)\n",
    "#     correct = (result==matl).sum()\n",
    "#     print('Correct', correct/len(df_f))\n",
    "#     cnt += len(df_f)\n",
    "#     correctcnt += correct\n",
    "#     print('-------------------------------')\n",
    "plt.legend(matls)\n",
    "# print(correctcnt, cnt, correctcnt/cnt)"
   ]
  },
  {
   "cell_type": "code",
   "execution_count": null,
   "metadata": {},
   "outputs": [],
   "source": []
  }
 ],
 "metadata": {
  "kernelspec": {
   "display_name": "Python 3",
   "language": "python",
   "name": "python3"
  },
  "language_info": {
   "codemirror_mode": {
    "name": "ipython",
    "version": 3
   },
   "file_extension": ".py",
   "mimetype": "text/x-python",
   "name": "python",
   "nbconvert_exporter": "python",
   "pygments_lexer": "ipython3",
   "version": "3.8.3"
  }
 },
 "nbformat": 4,
 "nbformat_minor": 4
}
