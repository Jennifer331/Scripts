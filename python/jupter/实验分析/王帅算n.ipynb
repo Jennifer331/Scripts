{
 "cells": [
  {
   "cell_type": "code",
   "execution_count": 1,
   "metadata": {},
   "outputs": [],
   "source": [
    "water_f = pd.read_csv('D:\\\\Atom\\\\python\\\\data\\\\cleaned\\\\outdoor\\\\front-tail\\\\outdoor_all_f_water_aligned.csv')\n",
    "water_t = pd.read_csv('D:\\\\Atom\\\\python\\\\data\\\\cleaned\\\\outdoor\\\\front-tail\\\\outdoor_all_t_water_aligned.csv')"
   ]
  },
  {
   "cell_type": "code",
   "execution_count": 2,
   "metadata": {},
   "outputs": [
    {
     "data": {
      "text/plain": [
       "array([ 50.,  60.,  70.,  80.,  90., 100., 110., 120.])"
      ]
     },
     "execution_count": 2,
     "metadata": {},
     "output_type": "execute_result"
    }
   ],
   "source": [
    "water_f['DISTANCE'].unique()"
   ]
  },
  {
   "cell_type": "code",
   "execution_count": 5,
   "metadata": {},
   "outputs": [
    {
     "data": {
      "text/plain": [
       "-0.1123973161156168"
      ]
     },
     "execution_count": 5,
     "metadata": {},
     "output_type": "execute_result"
    }
   ],
   "source": [
    "(water_f['PHASE'] - water_t['PHASE']).sum()/400"
   ]
  },
  {
   "cell_type": "code",
   "execution_count": 8,
   "metadata": {},
   "outputs": [
    {
     "data": {
      "text/plain": [
       "0.9396475324250559"
      ]
     },
     "execution_count": 8,
     "metadata": {},
     "output_type": "execute_result"
    }
   ],
   "source": [
    "(8.74*4*np.pi*6/33.3)%(2*np.pi)"
   ]
  },
  {
   "cell_type": "code",
   "execution_count": 9,
   "metadata": {},
   "outputs": [
    {
     "data": {
      "text/plain": [
       "915.25"
      ]
     },
     "execution_count": 9,
     "metadata": {},
     "output_type": "execute_result"
    }
   ],
   "source": [
    "902.75 + 0.5*25"
   ]
  },
  {
   "cell_type": "code",
   "execution_count": 33,
   "metadata": {},
   "outputs": [
    {
     "data": {
      "text/plain": [
       "9.597453471929729"
      ]
     },
     "execution_count": 33,
     "metadata": {},
     "output_type": "execute_result"
    }
   ],
   "source": [
    "(Out[5]+4*2*np.pi)*300/(4*np.pi*0.068*915.25)"
   ]
  },
  {
   "cell_type": "code",
   "execution_count": 14,
   "metadata": {},
   "outputs": [],
   "source": [
    "oil_f = pd.read_csv('D:\\\\Atom\\\\python\\\\data\\\\cleaned\\\\outdoor\\\\front-tail\\\\outdoor_all_f_oil_aligned.csv')\n",
    "oil_t = pd.read_csv('D:\\\\Atom\\\\python\\\\data\\\\cleaned\\\\outdoor\\\\front-tail\\\\outdoor_all_t_oil_aligned.csv')"
   ]
  },
  {
   "cell_type": "code",
   "execution_count": 16,
   "metadata": {},
   "outputs": [
    {
     "data": {
      "text/plain": [
       "-3.1807971170516796"
      ]
     },
     "execution_count": 16,
     "metadata": {},
     "output_type": "execute_result"
    }
   ],
   "source": [
    "(oil_f['PHASE'] - oil_t['PHASE']).sum()/400"
   ]
  },
  {
   "cell_type": "code",
   "execution_count": 31,
   "metadata": {},
   "outputs": [
    {
     "data": {
      "text/plain": [
       "1.190032655451199"
      ]
     },
     "execution_count": 31,
     "metadata": {},
     "output_type": "execute_result"
    }
   ],
   "source": [
    "(Out[16]+1*2*np.pi)*300/(4*np.pi*0.068*915.25)"
   ]
  },
  {
   "cell_type": "code",
   "execution_count": 22,
   "metadata": {},
   "outputs": [],
   "source": [
    "empty_f = pd.read_csv('D:\\\\Atom\\\\python\\\\data\\\\cleaned\\\\outdoor\\\\front-tail\\\\outdoor_all_f_empty_aligned.csv')\n",
    "empty_t = pd.read_csv('D:\\\\Atom\\\\python\\\\data\\\\cleaned\\\\outdoor\\\\front-tail\\\\outdoor_all_t_empty_aligned.csv')"
   ]
  },
  {
   "cell_type": "code",
   "execution_count": 25,
   "metadata": {},
   "outputs": [
    {
     "data": {
      "text/plain": [
       "2.638373786139166"
      ]
     },
     "execution_count": 25,
     "metadata": {},
     "output_type": "execute_result"
    }
   ],
   "source": [
    "(empty_f['PHASE'] - empty_t['PHASE']).sum()/378"
   ]
  },
  {
   "cell_type": "code",
   "execution_count": 30,
   "metadata": {},
   "outputs": [
    {
     "data": {
      "text/plain": [
       "1.0120432294008244"
      ]
     },
     "execution_count": 30,
     "metadata": {},
     "output_type": "execute_result"
    }
   ],
   "source": [
    "(Out[25]+0*2*np.pi)*300/(4*np.pi*0.068*915.25)"
   ]
  },
  {
   "cell_type": "code",
   "execution_count": null,
   "metadata": {},
   "outputs": [],
   "source": []
  }
 ],
 "metadata": {
  "kernelspec": {
   "display_name": "Python 3",
   "language": "python",
   "name": "python3"
  },
  "language_info": {
   "codemirror_mode": {
    "name": "ipython",
    "version": 3
   },
   "file_extension": ".py",
   "mimetype": "text/x-python",
   "name": "python",
   "nbconvert_exporter": "python",
   "pygments_lexer": "ipython3",
   "version": "3.8.3"
  }
 },
 "nbformat": 4,
 "nbformat_minor": 4
}
