{
 "cells": [
  {
   "cell_type": "code",
   "execution_count": 1,
   "metadata": {},
   "outputs": [],
   "source": []
  },
  {
   "cell_type": "code",
   "execution_count": 9,
   "metadata": {},
   "outputs": [
    {
     "name": "stdout",
     "output_type": "stream",
     "text": [
      "50 50\n",
      "50 50\n"
     ]
    },
    {
     "data": {
      "text/plain": [
       "<matplotlib.collections.PathCollection at 0x23f5a2e28b0>"
      ]
     },
     "execution_count": 9,
     "metadata": {},
     "output_type": "execute_result"
    },
    {
     "data": {
      "image/png": "[encoded data removed]",
      "text/plain": [
       "<Figure size 432x288 with 1 Axes>"
      ]
     },
     "metadata": {
      "needs_background": "light"
     },
     "output_type": "display_data"
    }
   ],
   "source": [
    "import glob, os\n",
    "\n",
    "folder_clean = 'D:\\\\Atom\\\\python\\\\data\\\\cleaned\\\\grill\\\\final'\n",
    "\n",
    "rotate_f = pd.read_csv(os.path.join(folder_clean, 'd10_waterrotate_f_kde.csv'))\n",
    "rotate_t = pd.read_csv(os.path.join(folder_clean, 'd10_waterrotate_t_kde.csv'))\n",
    "print(len(rotate_f), len(rotate_t))\n",
    "plt.scatter(np.unwrap(rotate_f['PHASE']) - np.unwrap(rotate_t['PHASE']), rotate_f['RSSI'] - rotate_t['RSSI'])\n",
    "\n",
    "rotate_f = pd.read_csv(os.path.join(folder_clean, 'd10_water_f_kde.csv'))\n",
    "rotate_t = pd.read_csv(os.path.join(folder_clean, 'd10_water_t_kde.csv'))\n",
    "print(len(rotate_f), len(rotate_t))\n",
    "plt.scatter(np.unwrap(rotate_f['PHASE']) - np.unwrap(rotate_t['PHASE']), rotate_f['RSSI'] - rotate_t['RSSI'])\n",
    "\n",
    "\n",
    "\n",
    "# outdoor_f = pd.read_csv('D:\\\\Atom\\\\python\\\\data\\\\cleaned\\\\grill\\\\outdoor\\\\outdoor_d1_water_front_kde_outdoor.csv')\n",
    "# outdoor_t = pd.read_csv('D:\\\\Atom\\\\python\\\\data\\\\cleaned\\\\grill\\\\outdoor\\\\outdoor_d1_water_tail_kde_outdoor.csv')\n",
    "# plt.scatter(np.unwrap(outdoor_f['PHASE']) - np.unwrap(outdoor_f['PHASE']), outdoor_f['RSSI'] - outdoor_f['RSSI'])"
   ]
  },
  {
   "cell_type": "code",
   "execution_count": null,
   "metadata": {},
   "outputs": [],
   "source": []
  }
 ],
 "metadata": {
  "kernelspec": {
   "display_name": "Python 3",
   "language": "python",
   "name": "python3"
  },
  "language_info": {
   "codemirror_mode": {
    "name": "ipython",
    "version": 3
   },
   "file_extension": ".py",
   "mimetype": "text/x-python",
   "name": "python",
   "nbconvert_exporter": "python",
   "pygments_lexer": "ipython3",
   "version": "3.8.3"
  }
 },
 "nbformat": 4,
 "nbformat_minor": 4
}
