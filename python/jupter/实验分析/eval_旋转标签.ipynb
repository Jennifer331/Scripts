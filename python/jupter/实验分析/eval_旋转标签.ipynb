{
 "cells": [
  {
   "cell_type": "code",
   "execution_count": 1,
   "metadata": {},
   "outputs": [
    {
     "name": "stdout",
     "output_type": "stream",
     "text": [
      "50 50\n",
      "50 50\n",
      "50 50\n",
      "50 50\n"
     ]
    },
    {
     "data": {
      "image/png": "[encoded data removed]",
      "text/plain": [
       "<Figure size 432x288 with 1 Axes>"
      ]
     },
     "metadata": {
      "needs_background": "light"
     },
     "output_type": "display_data"
    }
   ],
   "source": [
    "import glob, os\n",
    "\n",
    "folder_clean = 'D:\\\\Atom\\\\python\\\\data\\\\cleaned\\\\grill\\\\final'\n",
    "\n",
    "# rotate_f = pd.read_csv(os.path.join(folder_clean, 'd10_waterrotate_f_kde.csv'))\n",
    "# rotate_t = pd.read_csv(os.path.join(folder_clean, 'd10_waterrotate_t_kde.csv'))\n",
    "data = {}\n",
    "\n",
    "rotate_f = pd.read_csv(os.path.join(folder_clean, 'd11_watercomm_r15_f_kde.csv'))\n",
    "rotate_t = pd.read_csv(os.path.join(folder_clean, 'd11_watercomm_r15_t_kde.csv'))\n",
    "print(len(rotate_f), len(rotate_t))\n",
    "plt.scatter(np.unwrap(rotate_f['PHASE']) - np.unwrap(rotate_t['PHASE']), rotate_f['RSSI'] - rotate_t['RSSI'])\n",
    "data['r15_phase_f'] = rotate_f['PHASE'].values\n",
    "data['r15_phase_t'] = rotate_t['PHASE'].values\n",
    "data['r15_rssi_f'] = rotate_f['RSSI'].values\n",
    "data['r15_rssi_t'] = rotate_t['RSSI'].values\n",
    "\n",
    "rotate_f = pd.read_csv(os.path.join(folder_clean, 'd11_watercomm_r10_f_kde.csv'))\n",
    "rotate_t = pd.read_csv(os.path.join(folder_clean, 'd11_watercomm_r10_t_kde.csv'))\n",
    "print(len(rotate_f), len(rotate_t))\n",
    "plt.scatter(np.unwrap(rotate_f['PHASE']) - np.unwrap(rotate_t['PHASE']), rotate_f['RSSI'] - rotate_t['RSSI'])\n",
    "data['r10_phase_f'] = rotate_f['PHASE'].values\n",
    "data['r10_phase_t'] = rotate_t['PHASE'].values\n",
    "data['r10_rssi_f'] = rotate_f['RSSI'].values\n",
    "data['r10_rssi_t'] = rotate_t['RSSI'].values\n",
    "\n",
    "rotate_f = pd.read_csv(os.path.join(folder_clean, 'd11_watercomm_r5_f_kde.csv'))\n",
    "rotate_t = pd.read_csv(os.path.join(folder_clean, 'd11_watercomm_r5_t_kde.csv'))\n",
    "print(len(rotate_f), len(rotate_t))\n",
    "plt.scatter(np.unwrap(rotate_f['PHASE']) - np.unwrap(rotate_t['PHASE']), rotate_f['RSSI'] - rotate_t['RSSI'])\n",
    "data['r5_phase_f'] = rotate_f['PHASE'].values\n",
    "data['r5_phase_t'] = rotate_t['PHASE'].values\n",
    "data['r5_rssi_f'] = rotate_f['RSSI'].values\n",
    "data['r5_rssi_t'] = rotate_t['RSSI'].values\n",
    "\n",
    "rotate_f = pd.read_csv(os.path.join(folder_clean, 'd11_water_f_kde.csv'))\n",
    "rotate_t = pd.read_csv(os.path.join(folder_clean, 'd11_water_t_kde.csv'))\n",
    "print(len(rotate_f), len(rotate_t))\n",
    "plt.scatter(np.unwrap(rotate_f['PHASE']) - np.unwrap(rotate_t['PHASE']), rotate_f['RSSI'] - rotate_t['RSSI'])\n",
    "data['r0_phase_f'] = rotate_f['PHASE'].values\n",
    "data['r0_phase_t'] = rotate_t['PHASE'].values\n",
    "data['r0_rssi_f'] = rotate_f['RSSI'].values\n",
    "data['r0_rssi_t'] = rotate_t['RSSI'].values\n",
    "\n",
    "plt.legend([15, 10, 5, 0])\n",
    "# plt.xlim([-6.5, 6.5])\n",
    "# plt.ylim([-6, 6])\n",
    "\n",
    "# outdoor_f = pd.read_csv('D:\\\\Atom\\\\python\\\\data\\\\cleaned\\\\grill\\\\outdoor\\\\outdoor_d1_water_front_kde_outdoor.csv')\n",
    "# outdoor_t = pd.read_csv('D:\\\\Atom\\\\python\\\\data\\\\cleaned\\\\grill\\\\outdoor\\\\outdoor_d1_water_tail_kde_outdoor.csv')\n",
    "# plt.scatter(np.unwrap(outdoor_f['PHASE']) - np.unwrap(outdoor_f['PHASE']), outdoor_f['RSSI'] - outdoor_f['RSSI'])\n",
    "import scipy.io\n",
    "scipy.io.savemat('tagrotate.mat', data)"
   ]
  },
  {
   "cell_type": "code",
   "execution_count": 3,
   "metadata": {},
   "outputs": [
    {
     "name": "stdout",
     "output_type": "stream",
     "text": [
      "r1 ['water' 'water' 'water' 'water' 'water' 'water' 'water' 'water' 'water'\n",
      " 'water' 'water' 'water' 'water' 'water' 'water' 'water' 'water' 'water'\n",
      " 'water' 'water' 'water' 'water' 'water' 'water' 'water' 'water' 'water'\n",
      " 'water' 'water' 'water' 'water' 'water' 'water' 'water' 'water' 'water'\n",
      " 'water' 'water' 'water' 'water' 'water' 'water' 'water' 'water' 'water'\n",
      " 'water' 'water' 'water' 'water' 'water']\n",
      "Correct 1.0\n",
      "-------------------------------\n",
      "r5 ['water' 'water' 'water' 'water' 'water' 'vinegar' 'vinegar' 'water'\n",
      " 'vinegar' 'vinegar' 'vinegar' 'water' 'vinegar' 'vinegar' 'vinegar'\n",
      " 'vinegar' 'water' 'vinegar' 'vinegar' 'vinegar' 'water' 'vinegar'\n",
      " 'vinegar' 'vinegar' 'vinegar' 'vinegar' 'vinegar' 'vinegar' 'vinegar'\n",
      " 'vinegar' 'vinegar' 'vinegar' 'vinegar' 'vinegar' 'vinegar' 'vinegar'\n",
      " 'vinegar' 'vinegar' 'vinegar' 'vinegar' 'vinegar' 'vinegar' 'vinegar'\n",
      " 'vinegar' 'vinegar' 'vinegar' 'vinegar' 'vinegar' 'vinegar' 'vinegar']\n",
      "Correct 0.18\n",
      "-------------------------------\n",
      "r10 ['water' 'water' 'water' 'water' 'water' 'water' 'water' 'water' 'water'\n",
      " 'water' 'water' 'water' 'vinegar' 'vinegar' 'vinegar' 'water' 'water'\n",
      " 'water' 'vinegar' 'vinegar' 'water' 'water' 'vinegar' 'vinegar' 'vinegar'\n",
      " 'vinegar' 'vinegar' 'vinegar' 'vinegar' 'vinegar' 'vinegar' 'water'\n",
      " 'water' 'vinegar' 'vinegar' 'vinegar' 'water' 'water' 'vinegar' 'vinegar'\n",
      " 'vinegar' 'vinegar' 'water' 'vinegar' 'vinegar' 'vinegar' 'vinegar'\n",
      " 'vinegar' 'vinegar' 'vinegar']\n",
      "Correct 0.44\n",
      "-------------------------------\n",
      "r15 ['water' 'water' 'water' 'water' 'water' 'water' 'water' 'water' 'water'\n",
      " 'water' 'water' 'water' 'water' 'water' 'water' 'water' 'water' 'water'\n",
      " 'water' 'water' 'water' 'water' 'water' 'water' 'water' 'water' 'water'\n",
      " 'water' 'water' 'water' 'water' 'water' 'water' 'water' 'water' 'water'\n",
      " 'water' 'water' 'water' 'water' 'water' 'water' 'water' 'water' 'water'\n",
      " 'water' 'water' 'water' 'water' 'water']\n",
      "Correct 1.0\n",
      "-------------------------------\n"
     ]
    },
    {
     "ename": "NameError",
     "evalue": "name 'matls' is not defined",
     "output_type": "error",
     "traceback": [
      "\u001b[1;31m---------------------------------------------------------------------------\u001b[0m",
      "\u001b[1;31mNameError\u001b[0m                                 Traceback (most recent call last)",
      "\u001b[1;32m<ipython-input-3-34be3b5dc21e>\u001b[0m in \u001b[0;36m<module>\u001b[1;34m\u001b[0m\n\u001b[0;32m     21\u001b[0m     \u001b[0mcorrectcnt\u001b[0m \u001b[1;33m+=\u001b[0m \u001b[0mcorrect\u001b[0m\u001b[1;33m\u001b[0m\u001b[1;33m\u001b[0m\u001b[0m\n\u001b[0;32m     22\u001b[0m     \u001b[0mprint\u001b[0m\u001b[1;33m(\u001b[0m\u001b[1;34m'-------------------------------'\u001b[0m\u001b[1;33m)\u001b[0m\u001b[1;33m\u001b[0m\u001b[1;33m\u001b[0m\u001b[0m\n\u001b[1;32m---> 23\u001b[1;33m \u001b[0mplt\u001b[0m\u001b[1;33m.\u001b[0m\u001b[0mlegend\u001b[0m\u001b[1;33m(\u001b[0m\u001b[0mmatls\u001b[0m\u001b[1;33m)\u001b[0m\u001b[1;33m\u001b[0m\u001b[1;33m\u001b[0m\u001b[0m\n\u001b[0m\u001b[0;32m     24\u001b[0m \u001b[0mplt\u001b[0m\u001b[1;33m.\u001b[0m\u001b[0mxlim\u001b[0m\u001b[1;33m(\u001b[0m\u001b[1;33m[\u001b[0m\u001b[1;33m-\u001b[0m\u001b[1;36m6\u001b[0m\u001b[1;33m,\u001b[0m \u001b[1;36m6\u001b[0m\u001b[1;33m]\u001b[0m\u001b[1;33m)\u001b[0m\u001b[1;33m\u001b[0m\u001b[1;33m\u001b[0m\u001b[0m\n\u001b[0;32m     25\u001b[0m \u001b[0mplt\u001b[0m\u001b[1;33m.\u001b[0m\u001b[0mylim\u001b[0m\u001b[1;33m(\u001b[0m\u001b[1;33m[\u001b[0m\u001b[1;33m-\u001b[0m\u001b[1;36m7\u001b[0m\u001b[1;33m,\u001b[0m \u001b[1;36m3\u001b[0m\u001b[1;33m]\u001b[0m\u001b[1;33m)\u001b[0m\u001b[1;33m\u001b[0m\u001b[1;33m\u001b[0m\u001b[0m\n",
      "\u001b[1;31mNameError\u001b[0m: name 'matls' is not defined"
     ]
    },
    {
     "data": {
      "image/png": "[encoded data removed]",
      "text/plain": [
       "<Figure size 432x288 with 1 Axes>"
      ]
     },
     "metadata": {
      "needs_background": "light"
     },
     "output_type": "display_data"
    }
   ],
   "source": [
    "import joblib\n",
    "folder_clean = 'D:\\\\Atom\\\\python\\\\data\\\\cleaned\\\\grill\\\\final'\n",
    "clf = joblib.load('model_all_nopi.joblib')\n",
    "\n",
    "cnt = 0\n",
    "correctcnt = 0\n",
    "\n",
    "rotates = ['r1', 'r5', 'r10', 'r15']\n",
    "for r in rotates:\n",
    "    df_f = pd.read_csv(os.path.join(folder_clean, 'd11_watercomm_%s_f_kde.csv' % (r)))\n",
    "    df_t = pd.read_csv(os.path.join(folder_clean, 'd11_watercomm_%s_t_kde.csv' % (r)))\n",
    "    diff_p = np.unwrap(df_f['PHASE']) - np.unwrap(df_t['PHASE'])\n",
    "    diff_r = df_f['RSSI'] - df_t['RSSI']\n",
    "    plt.scatter(diff_p, diff_r)\n",
    "#     result = tree.predict(np.column_stack((diff_p, diff_r, df_t['CHANNEL'])))\n",
    "    result = clf.predict(np.column_stack((diff_p, diff_r)))\n",
    "    print(r, result)\n",
    "    correct = (result=='water').sum()\n",
    "    print('Correct', correct/len(df_f))\n",
    "    cnt += len(df_f)\n",
    "    correctcnt += correct\n",
    "    print('-------------------------------')\n",
    "plt.legend(matls)\n",
    "plt.xlim([-6, 6])\n",
    "plt.ylim([-7, 3])\n",
    "print(correctcnt, cnt, correctcnt/cnt)"
   ]
  },
  {
   "cell_type": "code",
   "execution_count": null,
   "metadata": {},
   "outputs": [],
   "source": []
  }
 ],
 "metadata": {
  "kernelspec": {
   "display_name": "Python 3",
   "language": "python",
   "name": "python3"
  },
  "language_info": {
   "codemirror_mode": {
    "name": "ipython",
    "version": 3
   },
   "file_extension": ".py",
   "mimetype": "text/x-python",
   "name": "python",
   "nbconvert_exporter": "python",
   "pygments_lexer": "ipython3",
   "version": "3.8.3"
  }
 },
 "nbformat": 4,
 "nbformat_minor": 4
}
