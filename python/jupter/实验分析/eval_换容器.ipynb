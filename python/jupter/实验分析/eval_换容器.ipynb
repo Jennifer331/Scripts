{
 "cells": [
  {
   "cell_type": "code",
   "execution_count": 3,
   "metadata": {},
   "outputs": [
    {
     "data": {
      "text/plain": [
       "<matplotlib.legend.Legend at 0x2cb1f5d4fd0>"
      ]
     },
     "execution_count": 3,
     "metadata": {},
     "output_type": "execute_result"
    },
    {
     "data": {
      "image/png": "[encoded data removed]",
      "text/plain": [
       "<Figure size 432x288 with 1 Axes>"
      ]
     },
     "metadata": {
      "needs_background": "light"
     },
     "output_type": "display_data"
    }
   ],
   "source": [
    "import glob, os\n",
    "folder_clean = 'D:\\\\Atom\\\\python\\\\data\\\\cleaned\\\\grill\\\\final'\n",
    "\n",
    "# ds = [1, 6, 7, 8, 9]\n",
    "ds = [1, 6, 7]\n",
    "# 7最好\n",
    "for d in ds:\n",
    "    df_f = pd.read_csv(os.path.join(folder_clean, 'd%d_cola_f_kde.csv' % d))\n",
    "    df_t = pd.read_csv(os.path.join(folder_clean, 'd%d_cola_t_kde.csv' % d))\n",
    "    plt.scatter(np.unwrap(df_f['PHASE']) - np.unwrap(df_t['PHASE']), df_f['RSSI'] - df_t['RSSI'])\n",
    "    \n",
    "    df_f = pd.read_csv(os.path.join(folder_clean, 'd%d_colanosugar_f_kde.csv' % d))\n",
    "    df_t = pd.read_csv(os.path.join(folder_clean, 'd%d_colanosugar_t_kde.csv' % d))\n",
    "    plt.scatter(np.unwrap(df_f['PHASE']) - np.unwrap(df_t['PHASE']), df_f['RSSI'] - df_t['RSSI'], marker='^')\n",
    "plt.legend([1, 1, 6, 6, 7, 7, 8, 8, 9, 9])"
   ]
  },
  {
   "cell_type": "code",
   "execution_count": 15,
   "metadata": {},
   "outputs": [
    {
     "data": {
      "text/plain": [
       "GaussianNB()"
      ]
     },
     "execution_count": 15,
     "metadata": {},
     "output_type": "execute_result"
    }
   ],
   "source": [
    "# matls = ['water', 'vinegar', 'milk', 'oil', 'liquor', 'yogurt']\n",
    "matls = ['cola', 'colanosugar']\n",
    "d_p = []\n",
    "d_r = []\n",
    "f = []\n",
    "y = []\n",
    "for matl in matls:\n",
    "    df_f = pd.read_csv(os.path.join(folder_clean, 'd1_%s_f_kde.csv' % (matl)))\n",
    "    df_t = pd.read_csv(os.path.join(folder_clean, 'd1_%s_t_kde.csv' %(matl)))\n",
    "    diff_p = np.unwrap(df_f['PHASE']) - np.unwrap(df_t['PHASE'])\n",
    "    diff_r = df_f['RSSI'] - df_t['RSSI']\n",
    "    \n",
    "    d_p.extend(diff_p)\n",
    "    d_r.extend(diff_r)\n",
    "    f.extend(df_f['CHANNEL'].values)\n",
    "    y.extend(np.repeat([matl], len(diff_p)))\n",
    "    \n",
    "X = np.column_stack((d_p, d_r, f))\n",
    "\n",
    "from sklearn.naive_bayes import GaussianNB\n",
    "model = GaussianNB()\n",
    "model.fit(X, y)\n",
    "# from sklearn.tree import DecisionTreeClassifier\n",
    "# tree = DecisionTreeClassifier().fit(X, y)"
   ]
  },
  {
   "cell_type": "code",
   "execution_count": null,
   "metadata": {},
   "outputs": [
    {
     "name": "stdout",
     "output_type": "stream",
     "text": [
      "cola ['cola' 'cola' 'cola' 'cola' 'cola' 'cola' 'cola' 'cola' 'cola' 'cola'\n",
      " 'cola' 'cola' 'cola' 'cola' 'cola' 'cola' 'cola' 'cola' 'cola' 'cola'\n",
      " 'cola' 'cola' 'cola' 'cola' 'cola' 'cola' 'cola' 'cola' 'cola' 'cola'\n",
      " 'cola' 'cola' 'cola' 'cola' 'cola' 'cola' 'cola' 'cola' 'cola' 'cola'\n",
      " 'cola' 'cola' 'cola' 'cola' 'cola' 'cola' 'cola' 'cola' 'cola' 'cola']\n",
      "Correct 1.0\n",
      "-------------------------------\n",
      "colanosugar ['cola' 'colanosugar' 'cola' 'cola' 'cola' 'cola' 'cola' 'cola' 'cola'\n",
      " 'colanosugar' 'colanosugar' 'cola' 'cola' 'cola' 'colanosugar'\n",
      " 'colanosugar' 'colanosugar' 'colanosugar' 'colanosugar' 'cola'\n",
      " 'colanosugar' 'colanosugar' 'colanosugar' 'colanosugar' 'cola'\n",
      " 'colanosugar' 'colanosugar' 'colanosugar' 'colanosugar' 'colanosugar'\n",
      " 'cola' 'cola' 'cola' 'cola' 'colanosugar' 'cola' 'cola' 'cola' 'cola'\n",
      " 'cola' 'cola' 'cola' 'cola' 'cola' 'cola' 'cola' 'cola' 'cola' 'cola'\n",
      " 'cola']\n",
      "Correct 0.36\n",
      "-------------------------------\n",
      "68 100 0.68\n"
     ]
    },
    {
     "data": {
      "image/png": "[encoded data removed]",
      "text/plain": [
       "<Figure size 432x288 with 1 Axes>"
      ]
     },
     "metadata": {
      "needs_background": "light"
     },
     "output_type": "display_data"
    }
   ],
   "source": [
    "cnt = 0\n",
    "correctcnt = 0\n",
    "for matl in matls:\n",
    "    df_f = pd.read_csv(os.path.join(folder_clean, 'd9_%s_f_kde.csv' % (matl)))\n",
    "    df_t = pd.read_csv(os.path.join(folder_clean, 'd9_%s_t_kde.csv' %(matl)))\n",
    "    diff_p = np.unwrap(df_f['PHASE']) - np.unwrap(df_t['PHASE'])\n",
    "    diff_r = df_f['RSSI'] - df_t['RSSI']\n",
    "    plt.scatter(diff_p, diff_r)\n",
    "    result = model.predict(np.column_stack((diff_p, diff_r, df_t['CHANNEL'])))\n",
    "\n",
    "#     result = tree.predict(np.column_stack((diff_p, diff_r)))\n",
    "    print(matl, result)\n",
    "    correct = (result==matl).sum()\n",
    "    print('Correct', correct/len(df_f))\n",
    "    cnt += len(df_f)\n",
    "    correctcnt += correct\n",
    "    print('-------------------------------')\n",
    "\n",
    "print(correctcnt, cnt, correctcnt/cnt)"
   ]
  },
  {
   "cell_type": "code",
   "execution_count": 10,
   "metadata": {},
   "outputs": [],
   "source": [
    "data = {}\n",
    "\n",
    "df_f = pd.read_csv(os.path.join(folder_clean, 'd1_cola_f_kde.csv'))\n",
    "df_t = pd.read_csv(os.path.join(folder_clean, 'd1_cola_t_kde.csv'))\n",
    "data['d1_cola_rssi_f'] = df_f['RSSI'].values\n",
    "data['d1_cola_rssi_t'] = df_t['RSSI'].values\n",
    "data['d1_cola_phase_f'] = df_f['PHASE'].values\n",
    "data['d1_cola_phase_t'] = df_t['PHASE'].values\n",
    "\n",
    "df_f = pd.read_csv(os.path.join(folder_clean, 'd1_colanosugar_f_kde.csv'))\n",
    "df_t = pd.read_csv(os.path.join(folder_clean, 'd1_colanosugar_t_kde.csv'))\n",
    "data['d1_colanosugar_rssi_f'] = df_f['RSSI'].values\n",
    "data['d1_colanosugar_rssi_t'] = df_t['RSSI'].values\n",
    "data['d1_colanosugar_phase_f'] = df_f['PHASE'].values\n",
    "data['c1_colanosugar_phase_t'] = df_t['PHASE'].values\n",
    "\n",
    "df_f = pd.read_csv(os.path.join(folder_clean, 'd6_colanosugar_f_kde.csv'))\n",
    "df_t = pd.read_csv(os.path.join(folder_clean, 'd6_colanosugar_t_kde.csv'))\n",
    "data['d6_cola_rssi_f'] = df_f['RSSI'].values\n",
    "data['d6_cola_rssi_t'] = df_t['RSSI'].values\n",
    "data['d6_cola_phase_f'] = df_f['PHASE'].values\n",
    "data['d6_cola_phase_t'] = df_t['PHASE'].values\n",
    "\n",
    "df_f = pd.read_csv(os.path.join(folder_clean, 'd6_colanosugar_f_kde.csv'))\n",
    "df_t = pd.read_csv(os.path.join(folder_clean, 'd6_colanosugar_t_kde.csv'))\n",
    "data['d6_colanosugar_rssi_f'] = df_f['RSSI'].values\n",
    "data['d6_colanosugar_rssi_t'] = df_t['RSSI'].values\n",
    "data['d6_colanosugar_phase_f'] = df_f['PHASE'].values\n",
    "data['d6_colanosugar_phase_t'] = df_t['PHASE'].values\n",
    "\n",
    "df_f = pd.read_csv(os.path.join(folder_clean, 'd7_cola_f_kde.csv'))\n",
    "df_t = pd.read_csv(os.path.join(folder_clean, 'd7_cola_t_kde.csv'))\n",
    "data['cola_rssi_f'] = df_f['RSSI'].values\n",
    "data['cola_rssi_t'] = df_t['RSSI'].values\n",
    "data['cola_phase_f'] = df_f['PHASE'].values\n",
    "data['cola_phase_t'] = df_t['PHASE'].values\n",
    "\n",
    "df_f = pd.read_csv(os.path.join(folder_clean, 'd7_colanosugar_f_kde.csv'))\n",
    "df_t = pd.read_csv(os.path.join(folder_clean, 'd7_colanosugar_t_kde.csv'))\n",
    "data['colanosugar_rssi_f'] = df_f['RSSI'].values\n",
    "data['colanosugar_rssi_t'] = df_t['RSSI'].values\n",
    "data['colanosugar_phase_f'] = df_f['PHASE'].values\n",
    "data['colanosugar_phase_t'] = df_t['PHASE'].values\n",
    "\n",
    "import scipy.io\n",
    "scipy.io.savemat('cola.mat', data)"
   ]
  },
  {
   "cell_type": "code",
   "execution_count": 7,
   "metadata": {},
   "outputs": [
    {
     "name": "stdout",
     "output_type": "stream",
     "text": [
      "1 cola ['cola' 'cola' 'cola' 'cola' 'cola' 'cola' 'cola' 'cola' 'cola' 'cola'\n",
      " 'cola' 'cola' 'cola' 'cola' 'cola' 'cola' 'cola' 'cola' 'cola' 'cola'\n",
      " 'cola' 'cola' 'cola' 'cola' 'cola' 'cola' 'cola' 'cola' 'cola' 'cola'\n",
      " 'cola' 'cola' 'cola' 'cola' 'cola' 'cola' 'cola' 'cola' 'cola' 'cola'\n",
      " 'cola' 'cola' 'cola' 'cola' 'cola' 'cola' 'cola' 'cola' 'cola' 'cola']\n",
      "Correct 1.0\n",
      "-------------------------------\n",
      "1 colanosugar ['colanosugar' 'colanosugar' 'colanosugar' 'colanosugar' 'colanosugar'\n",
      " 'colanosugar' 'colanosugar' 'colanosugar' 'colanosugar' 'colanosugar'\n",
      " 'colanosugar' 'colanosugar' 'colanosugar' 'colanosugar' 'colanosugar'\n",
      " 'colanosugar' 'colanosugar' 'colanosugar' 'colanosugar' 'colanosugar'\n",
      " 'colanosugar' 'colanosugar' 'colanosugar' 'colanosugar' 'colanosugar'\n",
      " 'colanosugar' 'colanosugar' 'colanosugar' 'colanosugar' 'colanosugar'\n",
      " 'colanosugar' 'colanosugar' 'colanosugar' 'colanosugar' 'colanosugar'\n",
      " 'colanosugar' 'colanosugar' 'colanosugar' 'colanosugar' 'colanosugar'\n",
      " 'colanosugar' 'colanosugar' 'colanosugar' 'colanosugar' 'colanosugar'\n",
      " 'colanosugar' 'colanosugar' 'colanosugar' 'colanosugar' 'colanosugar']\n",
      "Correct 1.0\n",
      "-------------------------------\n",
      "7 cola ['cola' 'cola' 'cola' 'cola' 'cola' 'cola' 'cola' 'cola' 'cola' 'cola'\n",
      " 'cola' 'cola' 'cola' 'cola' 'cola' 'cola' 'cola' 'cola' 'cola' 'cola'\n",
      " 'cola' 'cola' 'cola' 'cola' 'cola' 'cola' 'cola' 'cola' 'cola' 'cola'\n",
      " 'cola' 'cola' 'cola' 'cola' 'cola' 'cola' 'cola' 'cola' 'cola' 'cola'\n",
      " 'cola' 'cola' 'cola' 'cola' 'cola' 'cola' 'cola' 'cola' 'cola' 'cola']\n",
      "Correct 1.0\n",
      "-------------------------------\n",
      "7 colanosugar ['colanosugar' 'colanosugar' 'colanosugar' 'colanosugar' 'colanosugar'\n",
      " 'colanosugar' 'colanosugar' 'colanosugar' 'colanosugar' 'colanosugar'\n",
      " 'colanosugar' 'colanosugar' 'colanosugar' 'colanosugar' 'colanosugar'\n",
      " 'colanosugar' 'colanosugar' 'colanosugar' 'colanosugar' 'colanosugar'\n",
      " 'colanosugar' 'colanosugar' 'colanosugar' 'colanosugar' 'colanosugar'\n",
      " 'colanosugar' 'colanosugar' 'colanosugar' 'colanosugar' 'colanosugar'\n",
      " 'colanosugar' 'colanosugar' 'colanosugar' 'colanosugar' 'colanosugar'\n",
      " 'colanosugar' 'colanosugar' 'colanosugar' 'colanosugar' 'colanosugar'\n",
      " 'colanosugar' 'colanosugar' 'colanosugar' 'colanosugar' 'colanosugar'\n",
      " 'colanosugar' 'colanosugar' 'colanosugar' 'colanosugar' 'colanosugar']\n",
      "Correct 1.0\n",
      "-------------------------------\n",
      "8 cola ['cola' 'cola' 'cola' 'cola' 'cola' 'cola' 'cola' 'cola' 'cola' 'cola'\n",
      " 'cola' 'cola' 'cola' 'cola' 'cola' 'cola' 'cola' 'cola' 'cola' 'cola'\n",
      " 'cola' 'cola' 'cola' 'cola' 'cola' 'cola' 'cola' 'cola' 'cola' 'cola'\n",
      " 'cola' 'cola' 'cola' 'cola' 'cola' 'cola' 'cola' 'cola' 'cola' 'cola'\n",
      " 'cola' 'cola' 'cola' 'cola' 'cola' 'cola' 'cola' 'cola' 'cola'\n",
      " 'colanosugar']\n",
      "Correct 0.98\n",
      "-------------------------------\n",
      "8 colanosugar ['colanosugar' 'colanosugar' 'colanosugar' 'colanosugar' 'colanosugar'\n",
      " 'colanosugar' 'colanosugar' 'colanosugar' 'colanosugar' 'colanosugar'\n",
      " 'colanosugar' 'colanosugar' 'colanosugar' 'colanosugar' 'colanosugar'\n",
      " 'colanosugar' 'colanosugar' 'colanosugar' 'colanosugar' 'colanosugar'\n",
      " 'colanosugar' 'colanosugar' 'colanosugar' 'colanosugar' 'colanosugar'\n",
      " 'colanosugar' 'colanosugar' 'colanosugar' 'colanosugar' 'colanosugar'\n",
      " 'colanosugar' 'colanosugar' 'colanosugar' 'colanosugar' 'colanosugar'\n",
      " 'colanosugar' 'colanosugar' 'colanosugar' 'colanosugar' 'colanosugar'\n",
      " 'colanosugar' 'colanosugar' 'colanosugar' 'colanosugar' 'colanosugar'\n",
      " 'colanosugar' 'colanosugar' 'colanosugar' 'colanosugar' 'colanosugar']\n",
      "Correct 1.0\n",
      "-------------------------------\n",
      "299 300 0.9966666666666667\n"
     ]
    },
    {
     "data": {
      "image/png": "[encoded data removed]",
      "text/plain": [
       "<Figure size 432x288 with 1 Axes>"
      ]
     },
     "metadata": {
      "needs_background": "light"
     },
     "output_type": "display_data"
    }
   ],
   "source": [
    "import joblib\n",
    "folder_clean = 'D:\\\\Atom\\\\python\\\\data\\\\cleaned\\\\grill\\\\final'\n",
    "clf = joblib.load('model_cola.joblib')\n",
    "\n",
    "cnt = 0\n",
    "correctcnt = 0\n",
    "\n",
    "ds = [1, 7, 8]\n",
    "matls = ['cola', 'colanosugar']\n",
    "for d in ds:\n",
    "    for matl in matls:\n",
    "        df_f = pd.read_csv(os.path.join(folder_clean, 'd%d_%s_f_kde.csv' % (d, matl)))\n",
    "        df_t = pd.read_csv(os.path.join(folder_clean, 'd%d_%s_t_kde.csv' %(d, matl)))\n",
    "        diff_p = np.unwrap(df_f['PHASE']) - np.unwrap(df_t['PHASE'])\n",
    "        diff_r = df_f['RSSI'] - df_t['RSSI']\n",
    "        plt.scatter(diff_p, diff_r)\n",
    "    #     result = tree.predict(np.column_stack((diff_p, diff_r, df_t['CHANNEL'])))\n",
    "        result = clf.predict(np.column_stack((diff_p, diff_r)))\n",
    "        print(d, matl, result)\n",
    "        correct = (result==matl).sum()\n",
    "        print('Correct', correct/len(df_f))\n",
    "        cnt += len(df_f)\n",
    "        correctcnt += correct\n",
    "        print('-------------------------------')\n",
    "plt.legend(matls)\n",
    "plt.xlim([-6, 6])\n",
    "plt.ylim([-7, 3])\n",
    "print(correctcnt, cnt, correctcnt/cnt)"
   ]
  },
  {
   "cell_type": "code",
   "execution_count": null,
   "metadata": {},
   "outputs": [],
   "source": []
  }
 ],
 "metadata": {
  "kernelspec": {
   "display_name": "Python 3",
   "language": "python",
   "name": "python3"
  },
  "language_info": {
   "codemirror_mode": {
    "name": "ipython",
    "version": 3
   },
   "file_extension": ".py",
   "mimetype": "text/x-python",
   "name": "python",
   "nbconvert_exporter": "python",
   "pygments_lexer": "ipython3",
   "version": "3.8.3"
  }
 },
 "nbformat": 4,
 "nbformat_minor": 4
}
